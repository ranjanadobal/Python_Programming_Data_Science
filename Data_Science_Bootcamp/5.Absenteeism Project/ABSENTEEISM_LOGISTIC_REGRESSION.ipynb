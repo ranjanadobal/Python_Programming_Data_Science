{
 "cells": [
  {
   "cell_type": "markdown",
   "id": "b80ba74d",
   "metadata": {},
   "source": [
    "## Creating a Logistic Regression using machine learning to predict Absenteeism at work"
   ]
  },
  {
   "cell_type": "markdown",
   "id": "8aebe83b",
   "metadata": {},
   "source": [
    "### Import the relevant libraries."
   ]
  },
  {
   "cell_type": "code",
   "execution_count": 2,
   "id": "159793b4",
   "metadata": {},
   "outputs": [],
   "source": [
    "import pandas as pd\n",
    "import numpy as np "
   ]
  },
  {
   "cell_type": "markdown",
   "id": "66ba7f91",
   "metadata": {},
   "source": [
    "### Load the data."
   ]
  },
  {
   "cell_type": "code",
   "execution_count": 3,
   "id": "f0f31dec",
   "metadata": {},
   "outputs": [],
   "source": [
    "data_preprocessed = pd.read_csv('/Users/ranjanadobal/Documents/Github/Repos/My_folder/Python_Programming_Data_Science/Data_Science_Bootcamp/5.Absenteeism Project/Data/Absenteeism_preprocessed.csv')"
   ]
  },
  {
   "cell_type": "markdown",
   "id": "776dc9f6",
   "metadata": {},
   "source": [
    "### Eyeball the data."
   ]
  },
  {
   "cell_type": "code",
   "execution_count": 4,
   "id": "5ac5bcad",
   "metadata": {},
   "outputs": [
    {
     "data": {
      "text/html": [
       "<div>\n",
       "<style scoped>\n",
       "    .dataframe tbody tr th:only-of-type {\n",
       "        vertical-align: middle;\n",
       "    }\n",
       "\n",
       "    .dataframe tbody tr th {\n",
       "        vertical-align: top;\n",
       "    }\n",
       "\n",
       "    .dataframe thead th {\n",
       "        text-align: right;\n",
       "    }\n",
       "</style>\n",
       "<table border=\"1\" class=\"dataframe\">\n",
       "  <thead>\n",
       "    <tr style=\"text-align: right;\">\n",
       "      <th></th>\n",
       "      <th>Reason_1</th>\n",
       "      <th>Reason_2</th>\n",
       "      <th>Reason_3</th>\n",
       "      <th>Reason_4</th>\n",
       "      <th>Month Value</th>\n",
       "      <th>Day of the week</th>\n",
       "      <th>Transportation Expense</th>\n",
       "      <th>Distance to Work</th>\n",
       "      <th>Age</th>\n",
       "      <th>Daily Work Load Average</th>\n",
       "      <th>Body Mass Index</th>\n",
       "      <th>Education</th>\n",
       "      <th>Children</th>\n",
       "      <th>Pets</th>\n",
       "      <th>Absenteeism Time in Hours</th>\n",
       "    </tr>\n",
       "  </thead>\n",
       "  <tbody>\n",
       "    <tr>\n",
       "      <th>0</th>\n",
       "      <td>0</td>\n",
       "      <td>0</td>\n",
       "      <td>0</td>\n",
       "      <td>1</td>\n",
       "      <td>7</td>\n",
       "      <td>1</td>\n",
       "      <td>289</td>\n",
       "      <td>36</td>\n",
       "      <td>33</td>\n",
       "      <td>239.554</td>\n",
       "      <td>30</td>\n",
       "      <td>0</td>\n",
       "      <td>2</td>\n",
       "      <td>1</td>\n",
       "      <td>4</td>\n",
       "    </tr>\n",
       "    <tr>\n",
       "      <th>1</th>\n",
       "      <td>0</td>\n",
       "      <td>0</td>\n",
       "      <td>0</td>\n",
       "      <td>0</td>\n",
       "      <td>7</td>\n",
       "      <td>1</td>\n",
       "      <td>118</td>\n",
       "      <td>13</td>\n",
       "      <td>50</td>\n",
       "      <td>239.554</td>\n",
       "      <td>31</td>\n",
       "      <td>0</td>\n",
       "      <td>1</td>\n",
       "      <td>0</td>\n",
       "      <td>0</td>\n",
       "    </tr>\n",
       "    <tr>\n",
       "      <th>2</th>\n",
       "      <td>0</td>\n",
       "      <td>0</td>\n",
       "      <td>0</td>\n",
       "      <td>1</td>\n",
       "      <td>7</td>\n",
       "      <td>2</td>\n",
       "      <td>179</td>\n",
       "      <td>51</td>\n",
       "      <td>38</td>\n",
       "      <td>239.554</td>\n",
       "      <td>31</td>\n",
       "      <td>0</td>\n",
       "      <td>0</td>\n",
       "      <td>0</td>\n",
       "      <td>2</td>\n",
       "    </tr>\n",
       "    <tr>\n",
       "      <th>3</th>\n",
       "      <td>1</td>\n",
       "      <td>0</td>\n",
       "      <td>0</td>\n",
       "      <td>0</td>\n",
       "      <td>7</td>\n",
       "      <td>3</td>\n",
       "      <td>279</td>\n",
       "      <td>5</td>\n",
       "      <td>39</td>\n",
       "      <td>239.554</td>\n",
       "      <td>24</td>\n",
       "      <td>0</td>\n",
       "      <td>2</td>\n",
       "      <td>0</td>\n",
       "      <td>4</td>\n",
       "    </tr>\n",
       "    <tr>\n",
       "      <th>4</th>\n",
       "      <td>0</td>\n",
       "      <td>0</td>\n",
       "      <td>0</td>\n",
       "      <td>1</td>\n",
       "      <td>7</td>\n",
       "      <td>3</td>\n",
       "      <td>289</td>\n",
       "      <td>36</td>\n",
       "      <td>33</td>\n",
       "      <td>239.554</td>\n",
       "      <td>30</td>\n",
       "      <td>0</td>\n",
       "      <td>2</td>\n",
       "      <td>1</td>\n",
       "      <td>2</td>\n",
       "    </tr>\n",
       "  </tbody>\n",
       "</table>\n",
       "</div>"
      ],
      "text/plain": [
       "   Reason_1  Reason_2  Reason_3  Reason_4  Month Value  Day of the week  \\\n",
       "0         0         0         0         1            7                1   \n",
       "1         0         0         0         0            7                1   \n",
       "2         0         0         0         1            7                2   \n",
       "3         1         0         0         0            7                3   \n",
       "4         0         0         0         1            7                3   \n",
       "\n",
       "   Transportation Expense  Distance to Work  Age  Daily Work Load Average  \\\n",
       "0                     289                36   33                  239.554   \n",
       "1                     118                13   50                  239.554   \n",
       "2                     179                51   38                  239.554   \n",
       "3                     279                 5   39                  239.554   \n",
       "4                     289                36   33                  239.554   \n",
       "\n",
       "   Body Mass Index  Education  Children  Pets  Absenteeism Time in Hours  \n",
       "0               30          0         2     1                          4  \n",
       "1               31          0         1     0                          0  \n",
       "2               31          0         0     0                          2  \n",
       "3               24          0         2     0                          4  \n",
       "4               30          0         2     1                          2  "
      ]
     },
     "execution_count": 4,
     "metadata": {},
     "output_type": "execute_result"
    }
   ],
   "source": [
    "data_preprocessed.head()"
   ]
  },
  {
   "cell_type": "markdown",
   "id": "b6f451c1",
   "metadata": {},
   "source": [
    "###We will take a logistic regression which will take all these independent variables to predict their Absenteeism. \n",
    "Logistic regression is a type of classification, so we will be classifying people into classes.\n",
    "\n",
    "The model itself will give a good indication about which variables are important for analysis and which are not. First, classify people into classes : people who are excessively absent and people who are moderately absent. Take the median value of 'Absenteeism Time in Hours'. Everything above the median is considered excessive and everything below the median is considered normal. "
   ]
  },
  {
   "cell_type": "markdown",
   "id": "e7691db4",
   "metadata": {},
   "source": [
    "#It seems that the reason for absence will be the most indicative of absenteeism at work.  Maybe workload will have something to do with it as well since the busier a person is the less he or she will want to skip work. Finally, children and pets together with distance from work should also have something to do with absenteeism. If your child or pet is sick at home, you'll have to go home, take them to the doctor, and get them back which will be much more time-consuming than a simple visit to the doctor.\n"
   ]
  },
  {
   "cell_type": "markdown",
   "id": "16bc8a19",
   "metadata": {},
   "source": [
    "### Find the median of 'Absenteeism Time in Hours'. "
   ]
  },
  {
   "cell_type": "code",
   "execution_count": 5,
   "id": "47040910",
   "metadata": {},
   "outputs": [
    {
     "data": {
      "text/plain": [
       "3.0"
      ]
     },
     "execution_count": 5,
     "metadata": {},
     "output_type": "execute_result"
    }
   ],
   "source": [
    "data_preprocessed['Absenteeism Time in Hours'].median()"
   ]
  },
  {
   "cell_type": "markdown",
   "id": "9c6128e2",
   "metadata": {},
   "source": [
    "###The result is 3 and its datatype is float. 3 hours will be our cut-off line. People who are absent for more than 3 hours will be considered excessively absent and people who are absent for less than 3 hours will be considered moderately absent. If an observation has been absent for less than 3 hours, it will be assigned the value of 0 otherwise the value of 1. "
   ]
  },
  {
   "cell_type": "markdown",
   "id": "11b8a760",
   "metadata": {},
   "source": [
    "###In Supervised machine learning, these 0s and 1s are called TARGETS. These are the values we are aiming for. We will predict whether we obtain a 0 or a 1.  "
   ]
  },
  {
   "cell_type": "markdown",
   "id": "cf48ce57",
   "metadata": {},
   "source": [
    "### Create a new variable 'targets' which will measure if a person has been absent for more than 3 hours. Parameterize the code by specifying the method which finds the median. \n",
    "Parameterization makes the code easy to understand and follow and this minimizes the chance of making mistakes.\n"
   ]
  },
  {
   "cell_type": "code",
   "execution_count": 6,
   "id": "24056ad1",
   "metadata": {},
   "outputs": [],
   "source": [
    "targets = np.where(data_preprocessed['Absenteeism Time in Hours'] > \n",
    "                   data_preprocessed['Absenteeism Time in Hours'].median(),1, 0) "
   ]
  },
  {
   "cell_type": "code",
   "execution_count": 7,
   "id": "0b4e16f7",
   "metadata": {},
   "outputs": [
    {
     "data": {
      "text/plain": [
       "array([1, 0, 0, 1, 0, 0, 1, 1, 1, 1, 1, 1, 1, 0, 1, 1, 0, 1, 1, 0, 1, 0,\n",
       "       1, 1, 1, 1, 0, 1, 1, 0, 1, 1, 1, 1, 0, 0, 1, 1, 1, 1, 0, 1, 1, 1,\n",
       "       0, 0, 0, 1, 1, 1, 0, 0, 0, 0, 0, 0, 0, 0, 0, 0, 0, 1, 0, 0, 0, 0,\n",
       "       0, 0, 0, 0, 0, 1, 1, 0, 1, 1, 0, 1, 0, 0, 0, 0, 1, 1, 1, 1, 1, 1,\n",
       "       0, 1, 0, 1, 0, 1, 0, 0, 1, 0, 0, 1, 0, 1, 0, 1, 1, 1, 0, 0, 0, 1,\n",
       "       0, 1, 0, 0, 0, 0, 1, 0, 0, 0, 0, 0, 0, 0, 0, 0, 0, 0, 0, 1, 1, 0,\n",
       "       0, 0, 0, 0, 0, 0, 1, 1, 0, 1, 0, 1, 1, 1, 0, 0, 0, 1, 0, 1, 0, 0,\n",
       "       1, 0, 1, 0, 1, 1, 1, 1, 0, 1, 1, 1, 1, 1, 1, 1, 1, 0, 1, 1, 0, 1,\n",
       "       0, 1, 1, 0, 1, 0, 0, 0, 0, 0, 0, 1, 0, 0, 1, 1, 0, 0, 1, 0, 1, 1,\n",
       "       1, 1, 1, 1, 0, 0, 1, 0, 0, 1, 1, 1, 0, 0, 1, 0, 0, 0, 0, 0, 1, 1,\n",
       "       1, 1, 1, 1, 1, 1, 1, 1, 1, 1, 0, 1, 1, 0, 0, 0, 1, 1, 1, 1, 1, 1,\n",
       "       0, 1, 1, 0, 1, 1, 1, 1, 1, 0, 1, 0, 0, 1, 0, 0, 1, 1, 0, 1, 0, 0,\n",
       "       0, 0, 0, 1, 1, 1, 1, 0, 1, 0, 1, 0, 0, 0, 1, 1, 0, 1, 1, 1, 0, 0,\n",
       "       0, 1, 1, 1, 1, 1, 1, 0, 0, 1, 0, 1, 0, 1, 0, 1, 0, 0, 0, 0, 0, 1,\n",
       "       1, 0, 1, 0, 0, 0, 1, 1, 0, 1, 0, 1, 0, 0, 1, 1, 1, 0, 0, 0, 0, 0,\n",
       "       1, 1, 1, 0, 1, 1, 0, 0, 0, 0, 0, 0, 0, 0, 1, 1, 0, 0, 0, 1, 0, 0,\n",
       "       1, 1, 1, 0, 0, 1, 1, 1, 0, 0, 1, 1, 1, 1, 1, 0, 0, 0, 0, 0, 0, 0,\n",
       "       0, 0, 0, 1, 1, 0, 1, 0, 0, 0, 1, 0, 0, 1, 0, 0, 1, 1, 0, 1, 0, 1,\n",
       "       1, 1, 1, 1, 0, 1, 0, 0, 1, 0, 0, 0, 1, 1, 1, 0, 1, 0, 1, 1, 1, 1,\n",
       "       1, 0, 1, 1, 1, 1, 0, 1, 0, 1, 0, 1, 0, 0, 0, 0, 1, 0, 1, 0, 0, 1,\n",
       "       0, 0, 0, 0, 1, 1, 0, 1, 1, 0, 1, 1, 0, 0, 0, 1, 0, 0, 0, 1, 0, 1,\n",
       "       1, 1, 1, 1, 1, 1, 1, 0, 0, 1, 0, 0, 1, 1, 1, 0, 0, 0, 1, 0, 1, 1,\n",
       "       1, 1, 1, 1, 1, 1, 1, 0, 1, 0, 0, 0, 0, 0, 0, 0, 1, 0, 1, 0, 0, 1,\n",
       "       1, 0, 0, 1, 0, 0, 0, 0, 0, 0, 1, 0, 1, 1, 0, 0, 0, 1, 0, 1, 0, 1,\n",
       "       1, 1, 0, 0, 0, 0, 1, 0, 1, 1, 1, 1, 1, 0, 0, 0, 0, 1, 1, 0, 0, 0,\n",
       "       1, 0, 0, 1, 0, 1, 0, 0, 0, 0, 0, 1, 0, 1, 1, 1, 0, 0, 0, 1, 1, 1,\n",
       "       0, 0, 0, 0, 1, 0, 0, 1, 0, 0, 1, 0, 0, 1, 0, 1, 0, 0, 0, 0, 0, 0,\n",
       "       0, 0, 1, 0, 0, 0, 0, 0, 0, 0, 0, 0, 1, 0, 1, 0, 0, 0, 0, 0, 0, 0,\n",
       "       0, 0, 0, 0, 0, 0, 1, 0, 0, 0, 0, 0, 0, 1, 1, 0, 0, 0, 1, 0, 0, 1,\n",
       "       0, 1, 0, 0, 0, 0, 0, 0, 0, 1, 1, 0, 0, 0, 1, 1, 1, 1, 1, 1, 1, 0,\n",
       "       1, 0, 0, 0, 0, 1, 0, 1, 0, 0, 1, 1, 0, 0, 1, 0, 0, 0, 1, 0, 0, 1,\n",
       "       1, 1, 0, 0, 0, 0, 0, 0, 0, 0, 1, 1, 1, 1, 0, 1, 0, 0])"
      ]
     },
     "execution_count": 7,
     "metadata": {},
     "output_type": "execute_result"
    }
   ],
   "source": [
    "targets"
   ]
  },
  {
   "cell_type": "code",
   "execution_count": 8,
   "id": "cc863cdf",
   "metadata": {},
   "outputs": [
    {
     "data": {
      "text/plain": [
       "(700,)"
      ]
     },
     "execution_count": 8,
     "metadata": {},
     "output_type": "execute_result"
    }
   ],
   "source": [
    "targets.shape"
   ]
  },
  {
   "cell_type": "markdown",
   "id": "19a5dbb7",
   "metadata": {},
   "source": [
    "###'targets' is an np array which contains 0s and 1s. "
   ]
  },
  {
   "cell_type": "markdown",
   "id": "844148e1",
   "metadata": {},
   "source": [
    "### Add the targets to the dataframe data_preprocessed in a new column 'Excessive Absenteeism'"
   ]
  },
  {
   "cell_type": "code",
   "execution_count": 9,
   "id": "60ae58e9",
   "metadata": {},
   "outputs": [],
   "source": [
    "data_preprocessed['Excessive Absenteeism'] = targets "
   ]
  },
  {
   "cell_type": "code",
   "execution_count": 10,
   "id": "66c0bba0",
   "metadata": {},
   "outputs": [
    {
     "data": {
      "text/html": [
       "<div>\n",
       "<style scoped>\n",
       "    .dataframe tbody tr th:only-of-type {\n",
       "        vertical-align: middle;\n",
       "    }\n",
       "\n",
       "    .dataframe tbody tr th {\n",
       "        vertical-align: top;\n",
       "    }\n",
       "\n",
       "    .dataframe thead th {\n",
       "        text-align: right;\n",
       "    }\n",
       "</style>\n",
       "<table border=\"1\" class=\"dataframe\">\n",
       "  <thead>\n",
       "    <tr style=\"text-align: right;\">\n",
       "      <th></th>\n",
       "      <th>Reason_1</th>\n",
       "      <th>Reason_2</th>\n",
       "      <th>Reason_3</th>\n",
       "      <th>Reason_4</th>\n",
       "      <th>Month Value</th>\n",
       "      <th>Day of the week</th>\n",
       "      <th>Transportation Expense</th>\n",
       "      <th>Distance to Work</th>\n",
       "      <th>Age</th>\n",
       "      <th>Daily Work Load Average</th>\n",
       "      <th>Body Mass Index</th>\n",
       "      <th>Education</th>\n",
       "      <th>Children</th>\n",
       "      <th>Pets</th>\n",
       "      <th>Absenteeism Time in Hours</th>\n",
       "      <th>Excessive Absenteeism</th>\n",
       "    </tr>\n",
       "  </thead>\n",
       "  <tbody>\n",
       "    <tr>\n",
       "      <th>0</th>\n",
       "      <td>0</td>\n",
       "      <td>0</td>\n",
       "      <td>0</td>\n",
       "      <td>1</td>\n",
       "      <td>7</td>\n",
       "      <td>1</td>\n",
       "      <td>289</td>\n",
       "      <td>36</td>\n",
       "      <td>33</td>\n",
       "      <td>239.554</td>\n",
       "      <td>30</td>\n",
       "      <td>0</td>\n",
       "      <td>2</td>\n",
       "      <td>1</td>\n",
       "      <td>4</td>\n",
       "      <td>1</td>\n",
       "    </tr>\n",
       "    <tr>\n",
       "      <th>1</th>\n",
       "      <td>0</td>\n",
       "      <td>0</td>\n",
       "      <td>0</td>\n",
       "      <td>0</td>\n",
       "      <td>7</td>\n",
       "      <td>1</td>\n",
       "      <td>118</td>\n",
       "      <td>13</td>\n",
       "      <td>50</td>\n",
       "      <td>239.554</td>\n",
       "      <td>31</td>\n",
       "      <td>0</td>\n",
       "      <td>1</td>\n",
       "      <td>0</td>\n",
       "      <td>0</td>\n",
       "      <td>0</td>\n",
       "    </tr>\n",
       "    <tr>\n",
       "      <th>2</th>\n",
       "      <td>0</td>\n",
       "      <td>0</td>\n",
       "      <td>0</td>\n",
       "      <td>1</td>\n",
       "      <td>7</td>\n",
       "      <td>2</td>\n",
       "      <td>179</td>\n",
       "      <td>51</td>\n",
       "      <td>38</td>\n",
       "      <td>239.554</td>\n",
       "      <td>31</td>\n",
       "      <td>0</td>\n",
       "      <td>0</td>\n",
       "      <td>0</td>\n",
       "      <td>2</td>\n",
       "      <td>0</td>\n",
       "    </tr>\n",
       "    <tr>\n",
       "      <th>3</th>\n",
       "      <td>1</td>\n",
       "      <td>0</td>\n",
       "      <td>0</td>\n",
       "      <td>0</td>\n",
       "      <td>7</td>\n",
       "      <td>3</td>\n",
       "      <td>279</td>\n",
       "      <td>5</td>\n",
       "      <td>39</td>\n",
       "      <td>239.554</td>\n",
       "      <td>24</td>\n",
       "      <td>0</td>\n",
       "      <td>2</td>\n",
       "      <td>0</td>\n",
       "      <td>4</td>\n",
       "      <td>1</td>\n",
       "    </tr>\n",
       "    <tr>\n",
       "      <th>4</th>\n",
       "      <td>0</td>\n",
       "      <td>0</td>\n",
       "      <td>0</td>\n",
       "      <td>1</td>\n",
       "      <td>7</td>\n",
       "      <td>3</td>\n",
       "      <td>289</td>\n",
       "      <td>36</td>\n",
       "      <td>33</td>\n",
       "      <td>239.554</td>\n",
       "      <td>30</td>\n",
       "      <td>0</td>\n",
       "      <td>2</td>\n",
       "      <td>1</td>\n",
       "      <td>2</td>\n",
       "      <td>0</td>\n",
       "    </tr>\n",
       "  </tbody>\n",
       "</table>\n",
       "</div>"
      ],
      "text/plain": [
       "   Reason_1  Reason_2  Reason_3  Reason_4  Month Value  Day of the week  \\\n",
       "0         0         0         0         1            7                1   \n",
       "1         0         0         0         0            7                1   \n",
       "2         0         0         0         1            7                2   \n",
       "3         1         0         0         0            7                3   \n",
       "4         0         0         0         1            7                3   \n",
       "\n",
       "   Transportation Expense  Distance to Work  Age  Daily Work Load Average  \\\n",
       "0                     289                36   33                  239.554   \n",
       "1                     118                13   50                  239.554   \n",
       "2                     179                51   38                  239.554   \n",
       "3                     279                 5   39                  239.554   \n",
       "4                     289                36   33                  239.554   \n",
       "\n",
       "   Body Mass Index  Education  Children  Pets  Absenteeism Time in Hours  \\\n",
       "0               30          0         2     1                          4   \n",
       "1               31          0         1     0                          0   \n",
       "2               31          0         0     0                          2   \n",
       "3               24          0         2     0                          4   \n",
       "4               30          0         2     1                          2   \n",
       "\n",
       "   Excessive Absenteeism  \n",
       "0                      1  \n",
       "1                      0  \n",
       "2                      0  \n",
       "3                      1  \n",
       "4                      0  "
      ]
     },
     "execution_count": 10,
     "metadata": {},
     "output_type": "execute_result"
    }
   ],
   "source": [
    "data_preprocessed.head()"
   ]
  },
  {
   "cell_type": "markdown",
   "id": "aa3cee02",
   "metadata": {},
   "source": [
    "###This is another method of mapping data into two classes 0 and 1. \n",
    "\n",
    "Using the median as a cutoff line is numerically stable and rigid. That's because by using the median, we have implicitly balanced the data set. Roughly half of the targets are zeros, while the other half ones. This will prevent our model from learning to output one of the two classes exclusively thinking it did very well.\n",
    "\n",
    "In order to prove that, let's divide the number of targets that are ones by the total number of targets. The number of targets that are ones can be found by summing up all values of targets while the total number of targets is simply the shape on axis zero."
   ]
  },
  {
   "cell_type": "markdown",
   "id": "8acfe9b1",
   "metadata": {},
   "source": [
    "### A comment on the targets. "
   ]
  },
  {
   "cell_type": "code",
   "execution_count": 11,
   "id": "0881e88d",
   "metadata": {},
   "outputs": [
    {
     "data": {
      "text/plain": [
       "0.45571428571428574"
      ]
     },
     "execution_count": 11,
     "metadata": {},
     "output_type": "execute_result"
    }
   ],
   "source": [
    "targets.sum()/targets.shape[0]"
   ]
  },
  {
   "cell_type": "markdown",
   "id": "78810d5f",
   "metadata": {},
   "source": [
    "###Around 46% of the targets are 1 and 54% of the targets are 0. While balancing the datasets, the two classes need not represent 50% of the sample exactly. Usually a 60-40 split works equally well for a logistic regression. But this is not true for neural networks algorithms. A balance of 45-55% is almost always sufficient. So our two groups have been distributed roughly equally. "
   ]
  },
  {
   "cell_type": "markdown",
   "id": "9faaf12c",
   "metadata": {},
   "source": [
    "###  Create a checkpoint by dropping the unnecessary variables after exploring the coefficients. \n",
    "\n",
    "Also drop the 'Absenteeism Time in Hours' column as this column will not be needed anymore. \n",
    "\n",
    "#Also drop the variables we 'eliminated' after exploring the weights such as'Absenteeism Time in Hours','Day of the week','Daily Work Load Average','Distance to Work'. "
   ]
  },
  {
   "cell_type": "code",
   "execution_count": 12,
   "id": "15dd386f",
   "metadata": {},
   "outputs": [
    {
     "data": {
      "text/html": [
       "<div>\n",
       "<style scoped>\n",
       "    .dataframe tbody tr th:only-of-type {\n",
       "        vertical-align: middle;\n",
       "    }\n",
       "\n",
       "    .dataframe tbody tr th {\n",
       "        vertical-align: top;\n",
       "    }\n",
       "\n",
       "    .dataframe thead th {\n",
       "        text-align: right;\n",
       "    }\n",
       "</style>\n",
       "<table border=\"1\" class=\"dataframe\">\n",
       "  <thead>\n",
       "    <tr style=\"text-align: right;\">\n",
       "      <th></th>\n",
       "      <th>Reason_1</th>\n",
       "      <th>Reason_2</th>\n",
       "      <th>Reason_3</th>\n",
       "      <th>Reason_4</th>\n",
       "      <th>Month Value</th>\n",
       "      <th>Day of the week</th>\n",
       "      <th>Transportation Expense</th>\n",
       "      <th>Distance to Work</th>\n",
       "      <th>Age</th>\n",
       "      <th>Daily Work Load Average</th>\n",
       "      <th>Body Mass Index</th>\n",
       "      <th>Education</th>\n",
       "      <th>Children</th>\n",
       "      <th>Pets</th>\n",
       "      <th>Absenteeism Time in Hours</th>\n",
       "      <th>Excessive Absenteeism</th>\n",
       "    </tr>\n",
       "  </thead>\n",
       "  <tbody>\n",
       "    <tr>\n",
       "      <th>0</th>\n",
       "      <td>0</td>\n",
       "      <td>0</td>\n",
       "      <td>0</td>\n",
       "      <td>1</td>\n",
       "      <td>7</td>\n",
       "      <td>1</td>\n",
       "      <td>289</td>\n",
       "      <td>36</td>\n",
       "      <td>33</td>\n",
       "      <td>239.554</td>\n",
       "      <td>30</td>\n",
       "      <td>0</td>\n",
       "      <td>2</td>\n",
       "      <td>1</td>\n",
       "      <td>4</td>\n",
       "      <td>1</td>\n",
       "    </tr>\n",
       "    <tr>\n",
       "      <th>1</th>\n",
       "      <td>0</td>\n",
       "      <td>0</td>\n",
       "      <td>0</td>\n",
       "      <td>0</td>\n",
       "      <td>7</td>\n",
       "      <td>1</td>\n",
       "      <td>118</td>\n",
       "      <td>13</td>\n",
       "      <td>50</td>\n",
       "      <td>239.554</td>\n",
       "      <td>31</td>\n",
       "      <td>0</td>\n",
       "      <td>1</td>\n",
       "      <td>0</td>\n",
       "      <td>0</td>\n",
       "      <td>0</td>\n",
       "    </tr>\n",
       "    <tr>\n",
       "      <th>2</th>\n",
       "      <td>0</td>\n",
       "      <td>0</td>\n",
       "      <td>0</td>\n",
       "      <td>1</td>\n",
       "      <td>7</td>\n",
       "      <td>2</td>\n",
       "      <td>179</td>\n",
       "      <td>51</td>\n",
       "      <td>38</td>\n",
       "      <td>239.554</td>\n",
       "      <td>31</td>\n",
       "      <td>0</td>\n",
       "      <td>0</td>\n",
       "      <td>0</td>\n",
       "      <td>2</td>\n",
       "      <td>0</td>\n",
       "    </tr>\n",
       "    <tr>\n",
       "      <th>3</th>\n",
       "      <td>1</td>\n",
       "      <td>0</td>\n",
       "      <td>0</td>\n",
       "      <td>0</td>\n",
       "      <td>7</td>\n",
       "      <td>3</td>\n",
       "      <td>279</td>\n",
       "      <td>5</td>\n",
       "      <td>39</td>\n",
       "      <td>239.554</td>\n",
       "      <td>24</td>\n",
       "      <td>0</td>\n",
       "      <td>2</td>\n",
       "      <td>0</td>\n",
       "      <td>4</td>\n",
       "      <td>1</td>\n",
       "    </tr>\n",
       "    <tr>\n",
       "      <th>4</th>\n",
       "      <td>0</td>\n",
       "      <td>0</td>\n",
       "      <td>0</td>\n",
       "      <td>1</td>\n",
       "      <td>7</td>\n",
       "      <td>3</td>\n",
       "      <td>289</td>\n",
       "      <td>36</td>\n",
       "      <td>33</td>\n",
       "      <td>239.554</td>\n",
       "      <td>30</td>\n",
       "      <td>0</td>\n",
       "      <td>2</td>\n",
       "      <td>1</td>\n",
       "      <td>2</td>\n",
       "      <td>0</td>\n",
       "    </tr>\n",
       "  </tbody>\n",
       "</table>\n",
       "</div>"
      ],
      "text/plain": [
       "   Reason_1  Reason_2  Reason_3  Reason_4  Month Value  Day of the week  \\\n",
       "0         0         0         0         1            7                1   \n",
       "1         0         0         0         0            7                1   \n",
       "2         0         0         0         1            7                2   \n",
       "3         1         0         0         0            7                3   \n",
       "4         0         0         0         1            7                3   \n",
       "\n",
       "   Transportation Expense  Distance to Work  Age  Daily Work Load Average  \\\n",
       "0                     289                36   33                  239.554   \n",
       "1                     118                13   50                  239.554   \n",
       "2                     179                51   38                  239.554   \n",
       "3                     279                 5   39                  239.554   \n",
       "4                     289                36   33                  239.554   \n",
       "\n",
       "   Body Mass Index  Education  Children  Pets  Absenteeism Time in Hours  \\\n",
       "0               30          0         2     1                          4   \n",
       "1               31          0         1     0                          0   \n",
       "2               31          0         0     0                          2   \n",
       "3               24          0         2     0                          4   \n",
       "4               30          0         2     1                          2   \n",
       "\n",
       "   Excessive Absenteeism  \n",
       "0                      1  \n",
       "1                      0  \n",
       "2                      0  \n",
       "3                      1  \n",
       "4                      0  "
      ]
     },
     "execution_count": 12,
     "metadata": {},
     "output_type": "execute_result"
    }
   ],
   "source": [
    "data_preprocessed.head()"
   ]
  },
  {
   "cell_type": "code",
   "execution_count": 13,
   "id": "2d94870c",
   "metadata": {},
   "outputs": [],
   "source": [
    "data_with_targets = data_preprocessed.drop(['Absenteeism Time in Hours','Day of the week',\n",
    "                                            'Daily Work Load Average','Distance to Work'],axis=1)"
   ]
  },
  {
   "cell_type": "markdown",
   "id": "48452e2a",
   "metadata": {},
   "source": [
    "### Check if this new dataframe is same as the dataframe at the beginning of this notebook 'data_preprocessed'. This is to check if we need to create another checkpoint now. "
   ]
  },
  {
   "cell_type": "code",
   "execution_count": 14,
   "id": "7c2659ac",
   "metadata": {},
   "outputs": [
    {
     "data": {
      "text/plain": [
       "False"
      ]
     },
     "execution_count": 14,
     "metadata": {},
     "output_type": "execute_result"
    }
   ],
   "source": [
    "data_with_targets is data_preprocessed"
   ]
  },
  {
   "cell_type": "markdown",
   "id": "14489905",
   "metadata": {},
   "source": [
    "###The two datasets are not the same because data_with_targets does not contain the column 'Absenteeism Time in Hours'"
   ]
  },
  {
   "cell_type": "code",
   "execution_count": 15,
   "id": "d7583ec4",
   "metadata": {},
   "outputs": [
    {
     "data": {
      "text/html": [
       "<div>\n",
       "<style scoped>\n",
       "    .dataframe tbody tr th:only-of-type {\n",
       "        vertical-align: middle;\n",
       "    }\n",
       "\n",
       "    .dataframe tbody tr th {\n",
       "        vertical-align: top;\n",
       "    }\n",
       "\n",
       "    .dataframe thead th {\n",
       "        text-align: right;\n",
       "    }\n",
       "</style>\n",
       "<table border=\"1\" class=\"dataframe\">\n",
       "  <thead>\n",
       "    <tr style=\"text-align: right;\">\n",
       "      <th></th>\n",
       "      <th>Reason_1</th>\n",
       "      <th>Reason_2</th>\n",
       "      <th>Reason_3</th>\n",
       "      <th>Reason_4</th>\n",
       "      <th>Month Value</th>\n",
       "      <th>Transportation Expense</th>\n",
       "      <th>Age</th>\n",
       "      <th>Body Mass Index</th>\n",
       "      <th>Education</th>\n",
       "      <th>Children</th>\n",
       "      <th>Pets</th>\n",
       "      <th>Excessive Absenteeism</th>\n",
       "    </tr>\n",
       "  </thead>\n",
       "  <tbody>\n",
       "    <tr>\n",
       "      <th>0</th>\n",
       "      <td>0</td>\n",
       "      <td>0</td>\n",
       "      <td>0</td>\n",
       "      <td>1</td>\n",
       "      <td>7</td>\n",
       "      <td>289</td>\n",
       "      <td>33</td>\n",
       "      <td>30</td>\n",
       "      <td>0</td>\n",
       "      <td>2</td>\n",
       "      <td>1</td>\n",
       "      <td>1</td>\n",
       "    </tr>\n",
       "    <tr>\n",
       "      <th>1</th>\n",
       "      <td>0</td>\n",
       "      <td>0</td>\n",
       "      <td>0</td>\n",
       "      <td>0</td>\n",
       "      <td>7</td>\n",
       "      <td>118</td>\n",
       "      <td>50</td>\n",
       "      <td>31</td>\n",
       "      <td>0</td>\n",
       "      <td>1</td>\n",
       "      <td>0</td>\n",
       "      <td>0</td>\n",
       "    </tr>\n",
       "    <tr>\n",
       "      <th>2</th>\n",
       "      <td>0</td>\n",
       "      <td>0</td>\n",
       "      <td>0</td>\n",
       "      <td>1</td>\n",
       "      <td>7</td>\n",
       "      <td>179</td>\n",
       "      <td>38</td>\n",
       "      <td>31</td>\n",
       "      <td>0</td>\n",
       "      <td>0</td>\n",
       "      <td>0</td>\n",
       "      <td>0</td>\n",
       "    </tr>\n",
       "    <tr>\n",
       "      <th>3</th>\n",
       "      <td>1</td>\n",
       "      <td>0</td>\n",
       "      <td>0</td>\n",
       "      <td>0</td>\n",
       "      <td>7</td>\n",
       "      <td>279</td>\n",
       "      <td>39</td>\n",
       "      <td>24</td>\n",
       "      <td>0</td>\n",
       "      <td>2</td>\n",
       "      <td>0</td>\n",
       "      <td>1</td>\n",
       "    </tr>\n",
       "    <tr>\n",
       "      <th>4</th>\n",
       "      <td>0</td>\n",
       "      <td>0</td>\n",
       "      <td>0</td>\n",
       "      <td>1</td>\n",
       "      <td>7</td>\n",
       "      <td>289</td>\n",
       "      <td>33</td>\n",
       "      <td>30</td>\n",
       "      <td>0</td>\n",
       "      <td>2</td>\n",
       "      <td>1</td>\n",
       "      <td>0</td>\n",
       "    </tr>\n",
       "  </tbody>\n",
       "</table>\n",
       "</div>"
      ],
      "text/plain": [
       "   Reason_1  Reason_2  Reason_3  Reason_4  Month Value  \\\n",
       "0         0         0         0         1            7   \n",
       "1         0         0         0         0            7   \n",
       "2         0         0         0         1            7   \n",
       "3         1         0         0         0            7   \n",
       "4         0         0         0         1            7   \n",
       "\n",
       "   Transportation Expense  Age  Body Mass Index  Education  Children  Pets  \\\n",
       "0                     289   33               30          0         2     1   \n",
       "1                     118   50               31          0         1     0   \n",
       "2                     179   38               31          0         0     0   \n",
       "3                     279   39               24          0         2     0   \n",
       "4                     289   33               30          0         2     1   \n",
       "\n",
       "   Excessive Absenteeism  \n",
       "0                      1  \n",
       "1                      0  \n",
       "2                      0  \n",
       "3                      1  \n",
       "4                      0  "
      ]
     },
     "execution_count": 15,
     "metadata": {},
     "output_type": "execute_result"
    }
   ],
   "source": [
    "data_with_targets.head()"
   ]
  },
  {
   "cell_type": "markdown",
   "id": "fef05618",
   "metadata": {},
   "source": [
    "###data_with_targets is the checkpoint for the machine learning models. "
   ]
  },
  {
   "cell_type": "markdown",
   "id": "f849c009",
   "metadata": {},
   "source": [
    "## Select the inputs for the regression. "
   ]
  },
  {
   "cell_type": "markdown",
   "id": "7a6fd62d",
   "metadata": {},
   "source": [
    "### Check the dimensions of the new dataframe 'data_with_targets'."
   ]
  },
  {
   "cell_type": "code",
   "execution_count": 16,
   "id": "1ea1b88a",
   "metadata": {},
   "outputs": [
    {
     "data": {
      "text/plain": [
       "(700, 12)"
      ]
     },
     "execution_count": 16,
     "metadata": {},
     "output_type": "execute_result"
    }
   ],
   "source": [
    "data_with_targets.shape"
   ]
  },
  {
   "cell_type": "markdown",
   "id": "2e9b940a",
   "metadata": {},
   "source": [
    "### To select the inputs for regression, we need to select all rows and columns except the last column 'Excessive Absenteeism'. \n",
    "\n",
    "The ILOC method is used for selection by position in the data frame. There are two arguments, the first one refers to the row indices, and the second one to column indices."
   ]
  },
  {
   "cell_type": "code",
   "execution_count": 17,
   "id": "90f4b7c7",
   "metadata": {},
   "outputs": [
    {
     "data": {
      "text/html": [
       "<div>\n",
       "<style scoped>\n",
       "    .dataframe tbody tr th:only-of-type {\n",
       "        vertical-align: middle;\n",
       "    }\n",
       "\n",
       "    .dataframe tbody tr th {\n",
       "        vertical-align: top;\n",
       "    }\n",
       "\n",
       "    .dataframe thead th {\n",
       "        text-align: right;\n",
       "    }\n",
       "</style>\n",
       "<table border=\"1\" class=\"dataframe\">\n",
       "  <thead>\n",
       "    <tr style=\"text-align: right;\">\n",
       "      <th></th>\n",
       "      <th>Reason_1</th>\n",
       "      <th>Reason_2</th>\n",
       "      <th>Reason_3</th>\n",
       "      <th>Reason_4</th>\n",
       "      <th>Month Value</th>\n",
       "      <th>Transportation Expense</th>\n",
       "      <th>Age</th>\n",
       "      <th>Body Mass Index</th>\n",
       "      <th>Education</th>\n",
       "      <th>Children</th>\n",
       "      <th>Pets</th>\n",
       "      <th>Excessive Absenteeism</th>\n",
       "    </tr>\n",
       "  </thead>\n",
       "  <tbody>\n",
       "    <tr>\n",
       "      <th>0</th>\n",
       "      <td>0</td>\n",
       "      <td>0</td>\n",
       "      <td>0</td>\n",
       "      <td>1</td>\n",
       "      <td>7</td>\n",
       "      <td>289</td>\n",
       "      <td>33</td>\n",
       "      <td>30</td>\n",
       "      <td>0</td>\n",
       "      <td>2</td>\n",
       "      <td>1</td>\n",
       "      <td>1</td>\n",
       "    </tr>\n",
       "    <tr>\n",
       "      <th>1</th>\n",
       "      <td>0</td>\n",
       "      <td>0</td>\n",
       "      <td>0</td>\n",
       "      <td>0</td>\n",
       "      <td>7</td>\n",
       "      <td>118</td>\n",
       "      <td>50</td>\n",
       "      <td>31</td>\n",
       "      <td>0</td>\n",
       "      <td>1</td>\n",
       "      <td>0</td>\n",
       "      <td>0</td>\n",
       "    </tr>\n",
       "    <tr>\n",
       "      <th>2</th>\n",
       "      <td>0</td>\n",
       "      <td>0</td>\n",
       "      <td>0</td>\n",
       "      <td>1</td>\n",
       "      <td>7</td>\n",
       "      <td>179</td>\n",
       "      <td>38</td>\n",
       "      <td>31</td>\n",
       "      <td>0</td>\n",
       "      <td>0</td>\n",
       "      <td>0</td>\n",
       "      <td>0</td>\n",
       "    </tr>\n",
       "    <tr>\n",
       "      <th>3</th>\n",
       "      <td>1</td>\n",
       "      <td>0</td>\n",
       "      <td>0</td>\n",
       "      <td>0</td>\n",
       "      <td>7</td>\n",
       "      <td>279</td>\n",
       "      <td>39</td>\n",
       "      <td>24</td>\n",
       "      <td>0</td>\n",
       "      <td>2</td>\n",
       "      <td>0</td>\n",
       "      <td>1</td>\n",
       "    </tr>\n",
       "    <tr>\n",
       "      <th>4</th>\n",
       "      <td>0</td>\n",
       "      <td>0</td>\n",
       "      <td>0</td>\n",
       "      <td>1</td>\n",
       "      <td>7</td>\n",
       "      <td>289</td>\n",
       "      <td>33</td>\n",
       "      <td>30</td>\n",
       "      <td>0</td>\n",
       "      <td>2</td>\n",
       "      <td>1</td>\n",
       "      <td>0</td>\n",
       "    </tr>\n",
       "    <tr>\n",
       "      <th>...</th>\n",
       "      <td>...</td>\n",
       "      <td>...</td>\n",
       "      <td>...</td>\n",
       "      <td>...</td>\n",
       "      <td>...</td>\n",
       "      <td>...</td>\n",
       "      <td>...</td>\n",
       "      <td>...</td>\n",
       "      <td>...</td>\n",
       "      <td>...</td>\n",
       "      <td>...</td>\n",
       "      <td>...</td>\n",
       "    </tr>\n",
       "    <tr>\n",
       "      <th>695</th>\n",
       "      <td>1</td>\n",
       "      <td>0</td>\n",
       "      <td>0</td>\n",
       "      <td>0</td>\n",
       "      <td>5</td>\n",
       "      <td>179</td>\n",
       "      <td>40</td>\n",
       "      <td>22</td>\n",
       "      <td>1</td>\n",
       "      <td>2</td>\n",
       "      <td>0</td>\n",
       "      <td>1</td>\n",
       "    </tr>\n",
       "    <tr>\n",
       "      <th>696</th>\n",
       "      <td>1</td>\n",
       "      <td>0</td>\n",
       "      <td>0</td>\n",
       "      <td>0</td>\n",
       "      <td>5</td>\n",
       "      <td>225</td>\n",
       "      <td>28</td>\n",
       "      <td>24</td>\n",
       "      <td>0</td>\n",
       "      <td>1</td>\n",
       "      <td>2</td>\n",
       "      <td>0</td>\n",
       "    </tr>\n",
       "    <tr>\n",
       "      <th>697</th>\n",
       "      <td>1</td>\n",
       "      <td>0</td>\n",
       "      <td>0</td>\n",
       "      <td>0</td>\n",
       "      <td>5</td>\n",
       "      <td>330</td>\n",
       "      <td>28</td>\n",
       "      <td>25</td>\n",
       "      <td>1</td>\n",
       "      <td>0</td>\n",
       "      <td>0</td>\n",
       "      <td>1</td>\n",
       "    </tr>\n",
       "    <tr>\n",
       "      <th>698</th>\n",
       "      <td>0</td>\n",
       "      <td>0</td>\n",
       "      <td>0</td>\n",
       "      <td>1</td>\n",
       "      <td>5</td>\n",
       "      <td>235</td>\n",
       "      <td>32</td>\n",
       "      <td>25</td>\n",
       "      <td>1</td>\n",
       "      <td>0</td>\n",
       "      <td>0</td>\n",
       "      <td>0</td>\n",
       "    </tr>\n",
       "    <tr>\n",
       "      <th>699</th>\n",
       "      <td>0</td>\n",
       "      <td>0</td>\n",
       "      <td>0</td>\n",
       "      <td>1</td>\n",
       "      <td>5</td>\n",
       "      <td>291</td>\n",
       "      <td>40</td>\n",
       "      <td>25</td>\n",
       "      <td>0</td>\n",
       "      <td>1</td>\n",
       "      <td>1</td>\n",
       "      <td>0</td>\n",
       "    </tr>\n",
       "  </tbody>\n",
       "</table>\n",
       "<p>700 rows × 12 columns</p>\n",
       "</div>"
      ],
      "text/plain": [
       "     Reason_1  Reason_2  Reason_3  Reason_4  Month Value  \\\n",
       "0           0         0         0         1            7   \n",
       "1           0         0         0         0            7   \n",
       "2           0         0         0         1            7   \n",
       "3           1         0         0         0            7   \n",
       "4           0         0         0         1            7   \n",
       "..        ...       ...       ...       ...          ...   \n",
       "695         1         0         0         0            5   \n",
       "696         1         0         0         0            5   \n",
       "697         1         0         0         0            5   \n",
       "698         0         0         0         1            5   \n",
       "699         0         0         0         1            5   \n",
       "\n",
       "     Transportation Expense  Age  Body Mass Index  Education  Children  Pets  \\\n",
       "0                       289   33               30          0         2     1   \n",
       "1                       118   50               31          0         1     0   \n",
       "2                       179   38               31          0         0     0   \n",
       "3                       279   39               24          0         2     0   \n",
       "4                       289   33               30          0         2     1   \n",
       "..                      ...  ...              ...        ...       ...   ...   \n",
       "695                     179   40               22          1         2     0   \n",
       "696                     225   28               24          0         1     2   \n",
       "697                     330   28               25          1         0     0   \n",
       "698                     235   32               25          1         0     0   \n",
       "699                     291   40               25          0         1     1   \n",
       "\n",
       "     Excessive Absenteeism  \n",
       "0                        1  \n",
       "1                        0  \n",
       "2                        0  \n",
       "3                        1  \n",
       "4                        0  \n",
       "..                     ...  \n",
       "695                      1  \n",
       "696                      0  \n",
       "697                      1  \n",
       "698                      0  \n",
       "699                      0  \n",
       "\n",
       "[700 rows x 12 columns]"
      ]
     },
     "execution_count": 17,
     "metadata": {},
     "output_type": "execute_result"
    }
   ],
   "source": [
    "data_with_targets.iloc[:,0:14]"
   ]
  },
  {
   "cell_type": "markdown",
   "id": "4d07073a",
   "metadata": {},
   "source": [
    "###iloc excludes the ending index and colon in place of row indices will give all the rows. The results would be the same even when the 0 is removed.  "
   ]
  },
  {
   "cell_type": "code",
   "execution_count": 18,
   "id": "9a6789e0",
   "metadata": {},
   "outputs": [
    {
     "data": {
      "text/html": [
       "<div>\n",
       "<style scoped>\n",
       "    .dataframe tbody tr th:only-of-type {\n",
       "        vertical-align: middle;\n",
       "    }\n",
       "\n",
       "    .dataframe tbody tr th {\n",
       "        vertical-align: top;\n",
       "    }\n",
       "\n",
       "    .dataframe thead th {\n",
       "        text-align: right;\n",
       "    }\n",
       "</style>\n",
       "<table border=\"1\" class=\"dataframe\">\n",
       "  <thead>\n",
       "    <tr style=\"text-align: right;\">\n",
       "      <th></th>\n",
       "      <th>Reason_1</th>\n",
       "      <th>Reason_2</th>\n",
       "      <th>Reason_3</th>\n",
       "      <th>Reason_4</th>\n",
       "      <th>Month Value</th>\n",
       "      <th>Transportation Expense</th>\n",
       "      <th>Age</th>\n",
       "      <th>Body Mass Index</th>\n",
       "      <th>Education</th>\n",
       "      <th>Children</th>\n",
       "      <th>Pets</th>\n",
       "      <th>Excessive Absenteeism</th>\n",
       "    </tr>\n",
       "  </thead>\n",
       "  <tbody>\n",
       "    <tr>\n",
       "      <th>0</th>\n",
       "      <td>0</td>\n",
       "      <td>0</td>\n",
       "      <td>0</td>\n",
       "      <td>1</td>\n",
       "      <td>7</td>\n",
       "      <td>289</td>\n",
       "      <td>33</td>\n",
       "      <td>30</td>\n",
       "      <td>0</td>\n",
       "      <td>2</td>\n",
       "      <td>1</td>\n",
       "      <td>1</td>\n",
       "    </tr>\n",
       "    <tr>\n",
       "      <th>1</th>\n",
       "      <td>0</td>\n",
       "      <td>0</td>\n",
       "      <td>0</td>\n",
       "      <td>0</td>\n",
       "      <td>7</td>\n",
       "      <td>118</td>\n",
       "      <td>50</td>\n",
       "      <td>31</td>\n",
       "      <td>0</td>\n",
       "      <td>1</td>\n",
       "      <td>0</td>\n",
       "      <td>0</td>\n",
       "    </tr>\n",
       "    <tr>\n",
       "      <th>2</th>\n",
       "      <td>0</td>\n",
       "      <td>0</td>\n",
       "      <td>0</td>\n",
       "      <td>1</td>\n",
       "      <td>7</td>\n",
       "      <td>179</td>\n",
       "      <td>38</td>\n",
       "      <td>31</td>\n",
       "      <td>0</td>\n",
       "      <td>0</td>\n",
       "      <td>0</td>\n",
       "      <td>0</td>\n",
       "    </tr>\n",
       "    <tr>\n",
       "      <th>3</th>\n",
       "      <td>1</td>\n",
       "      <td>0</td>\n",
       "      <td>0</td>\n",
       "      <td>0</td>\n",
       "      <td>7</td>\n",
       "      <td>279</td>\n",
       "      <td>39</td>\n",
       "      <td>24</td>\n",
       "      <td>0</td>\n",
       "      <td>2</td>\n",
       "      <td>0</td>\n",
       "      <td>1</td>\n",
       "    </tr>\n",
       "    <tr>\n",
       "      <th>4</th>\n",
       "      <td>0</td>\n",
       "      <td>0</td>\n",
       "      <td>0</td>\n",
       "      <td>1</td>\n",
       "      <td>7</td>\n",
       "      <td>289</td>\n",
       "      <td>33</td>\n",
       "      <td>30</td>\n",
       "      <td>0</td>\n",
       "      <td>2</td>\n",
       "      <td>1</td>\n",
       "      <td>0</td>\n",
       "    </tr>\n",
       "    <tr>\n",
       "      <th>...</th>\n",
       "      <td>...</td>\n",
       "      <td>...</td>\n",
       "      <td>...</td>\n",
       "      <td>...</td>\n",
       "      <td>...</td>\n",
       "      <td>...</td>\n",
       "      <td>...</td>\n",
       "      <td>...</td>\n",
       "      <td>...</td>\n",
       "      <td>...</td>\n",
       "      <td>...</td>\n",
       "      <td>...</td>\n",
       "    </tr>\n",
       "    <tr>\n",
       "      <th>695</th>\n",
       "      <td>1</td>\n",
       "      <td>0</td>\n",
       "      <td>0</td>\n",
       "      <td>0</td>\n",
       "      <td>5</td>\n",
       "      <td>179</td>\n",
       "      <td>40</td>\n",
       "      <td>22</td>\n",
       "      <td>1</td>\n",
       "      <td>2</td>\n",
       "      <td>0</td>\n",
       "      <td>1</td>\n",
       "    </tr>\n",
       "    <tr>\n",
       "      <th>696</th>\n",
       "      <td>1</td>\n",
       "      <td>0</td>\n",
       "      <td>0</td>\n",
       "      <td>0</td>\n",
       "      <td>5</td>\n",
       "      <td>225</td>\n",
       "      <td>28</td>\n",
       "      <td>24</td>\n",
       "      <td>0</td>\n",
       "      <td>1</td>\n",
       "      <td>2</td>\n",
       "      <td>0</td>\n",
       "    </tr>\n",
       "    <tr>\n",
       "      <th>697</th>\n",
       "      <td>1</td>\n",
       "      <td>0</td>\n",
       "      <td>0</td>\n",
       "      <td>0</td>\n",
       "      <td>5</td>\n",
       "      <td>330</td>\n",
       "      <td>28</td>\n",
       "      <td>25</td>\n",
       "      <td>1</td>\n",
       "      <td>0</td>\n",
       "      <td>0</td>\n",
       "      <td>1</td>\n",
       "    </tr>\n",
       "    <tr>\n",
       "      <th>698</th>\n",
       "      <td>0</td>\n",
       "      <td>0</td>\n",
       "      <td>0</td>\n",
       "      <td>1</td>\n",
       "      <td>5</td>\n",
       "      <td>235</td>\n",
       "      <td>32</td>\n",
       "      <td>25</td>\n",
       "      <td>1</td>\n",
       "      <td>0</td>\n",
       "      <td>0</td>\n",
       "      <td>0</td>\n",
       "    </tr>\n",
       "    <tr>\n",
       "      <th>699</th>\n",
       "      <td>0</td>\n",
       "      <td>0</td>\n",
       "      <td>0</td>\n",
       "      <td>1</td>\n",
       "      <td>5</td>\n",
       "      <td>291</td>\n",
       "      <td>40</td>\n",
       "      <td>25</td>\n",
       "      <td>0</td>\n",
       "      <td>1</td>\n",
       "      <td>1</td>\n",
       "      <td>0</td>\n",
       "    </tr>\n",
       "  </tbody>\n",
       "</table>\n",
       "<p>700 rows × 12 columns</p>\n",
       "</div>"
      ],
      "text/plain": [
       "     Reason_1  Reason_2  Reason_3  Reason_4  Month Value  \\\n",
       "0           0         0         0         1            7   \n",
       "1           0         0         0         0            7   \n",
       "2           0         0         0         1            7   \n",
       "3           1         0         0         0            7   \n",
       "4           0         0         0         1            7   \n",
       "..        ...       ...       ...       ...          ...   \n",
       "695         1         0         0         0            5   \n",
       "696         1         0         0         0            5   \n",
       "697         1         0         0         0            5   \n",
       "698         0         0         0         1            5   \n",
       "699         0         0         0         1            5   \n",
       "\n",
       "     Transportation Expense  Age  Body Mass Index  Education  Children  Pets  \\\n",
       "0                       289   33               30          0         2     1   \n",
       "1                       118   50               31          0         1     0   \n",
       "2                       179   38               31          0         0     0   \n",
       "3                       279   39               24          0         2     0   \n",
       "4                       289   33               30          0         2     1   \n",
       "..                      ...  ...              ...        ...       ...   ...   \n",
       "695                     179   40               22          1         2     0   \n",
       "696                     225   28               24          0         1     2   \n",
       "697                     330   28               25          1         0     0   \n",
       "698                     235   32               25          1         0     0   \n",
       "699                     291   40               25          0         1     1   \n",
       "\n",
       "     Excessive Absenteeism  \n",
       "0                        1  \n",
       "1                        0  \n",
       "2                        0  \n",
       "3                        1  \n",
       "4                        0  \n",
       "..                     ...  \n",
       "695                      1  \n",
       "696                      0  \n",
       "697                      1  \n",
       "698                      0  \n",
       "699                      0  \n",
       "\n",
       "[700 rows x 12 columns]"
      ]
     },
     "execution_count": 18,
     "metadata": {},
     "output_type": "execute_result"
    }
   ],
   "source": [
    "data_with_targets.iloc[:,:14]"
   ]
  },
  {
   "cell_type": "markdown",
   "id": "a60a2bdf",
   "metadata": {},
   "source": [
    "### Display the same result with negative indices. Indicate the number of columns at the end that we want to skip. \n",
    "\n",
    "We wanted to select all rows and all columns but the last one."
   ]
  },
  {
   "cell_type": "code",
   "execution_count": 19,
   "id": "b16c33c4",
   "metadata": {},
   "outputs": [
    {
     "data": {
      "text/html": [
       "<div>\n",
       "<style scoped>\n",
       "    .dataframe tbody tr th:only-of-type {\n",
       "        vertical-align: middle;\n",
       "    }\n",
       "\n",
       "    .dataframe tbody tr th {\n",
       "        vertical-align: top;\n",
       "    }\n",
       "\n",
       "    .dataframe thead th {\n",
       "        text-align: right;\n",
       "    }\n",
       "</style>\n",
       "<table border=\"1\" class=\"dataframe\">\n",
       "  <thead>\n",
       "    <tr style=\"text-align: right;\">\n",
       "      <th></th>\n",
       "      <th>Reason_1</th>\n",
       "      <th>Reason_2</th>\n",
       "      <th>Reason_3</th>\n",
       "      <th>Reason_4</th>\n",
       "      <th>Month Value</th>\n",
       "      <th>Transportation Expense</th>\n",
       "      <th>Age</th>\n",
       "      <th>Body Mass Index</th>\n",
       "      <th>Education</th>\n",
       "      <th>Children</th>\n",
       "      <th>Pets</th>\n",
       "    </tr>\n",
       "  </thead>\n",
       "  <tbody>\n",
       "    <tr>\n",
       "      <th>0</th>\n",
       "      <td>0</td>\n",
       "      <td>0</td>\n",
       "      <td>0</td>\n",
       "      <td>1</td>\n",
       "      <td>7</td>\n",
       "      <td>289</td>\n",
       "      <td>33</td>\n",
       "      <td>30</td>\n",
       "      <td>0</td>\n",
       "      <td>2</td>\n",
       "      <td>1</td>\n",
       "    </tr>\n",
       "    <tr>\n",
       "      <th>1</th>\n",
       "      <td>0</td>\n",
       "      <td>0</td>\n",
       "      <td>0</td>\n",
       "      <td>0</td>\n",
       "      <td>7</td>\n",
       "      <td>118</td>\n",
       "      <td>50</td>\n",
       "      <td>31</td>\n",
       "      <td>0</td>\n",
       "      <td>1</td>\n",
       "      <td>0</td>\n",
       "    </tr>\n",
       "    <tr>\n",
       "      <th>2</th>\n",
       "      <td>0</td>\n",
       "      <td>0</td>\n",
       "      <td>0</td>\n",
       "      <td>1</td>\n",
       "      <td>7</td>\n",
       "      <td>179</td>\n",
       "      <td>38</td>\n",
       "      <td>31</td>\n",
       "      <td>0</td>\n",
       "      <td>0</td>\n",
       "      <td>0</td>\n",
       "    </tr>\n",
       "    <tr>\n",
       "      <th>3</th>\n",
       "      <td>1</td>\n",
       "      <td>0</td>\n",
       "      <td>0</td>\n",
       "      <td>0</td>\n",
       "      <td>7</td>\n",
       "      <td>279</td>\n",
       "      <td>39</td>\n",
       "      <td>24</td>\n",
       "      <td>0</td>\n",
       "      <td>2</td>\n",
       "      <td>0</td>\n",
       "    </tr>\n",
       "    <tr>\n",
       "      <th>4</th>\n",
       "      <td>0</td>\n",
       "      <td>0</td>\n",
       "      <td>0</td>\n",
       "      <td>1</td>\n",
       "      <td>7</td>\n",
       "      <td>289</td>\n",
       "      <td>33</td>\n",
       "      <td>30</td>\n",
       "      <td>0</td>\n",
       "      <td>2</td>\n",
       "      <td>1</td>\n",
       "    </tr>\n",
       "    <tr>\n",
       "      <th>...</th>\n",
       "      <td>...</td>\n",
       "      <td>...</td>\n",
       "      <td>...</td>\n",
       "      <td>...</td>\n",
       "      <td>...</td>\n",
       "      <td>...</td>\n",
       "      <td>...</td>\n",
       "      <td>...</td>\n",
       "      <td>...</td>\n",
       "      <td>...</td>\n",
       "      <td>...</td>\n",
       "    </tr>\n",
       "    <tr>\n",
       "      <th>695</th>\n",
       "      <td>1</td>\n",
       "      <td>0</td>\n",
       "      <td>0</td>\n",
       "      <td>0</td>\n",
       "      <td>5</td>\n",
       "      <td>179</td>\n",
       "      <td>40</td>\n",
       "      <td>22</td>\n",
       "      <td>1</td>\n",
       "      <td>2</td>\n",
       "      <td>0</td>\n",
       "    </tr>\n",
       "    <tr>\n",
       "      <th>696</th>\n",
       "      <td>1</td>\n",
       "      <td>0</td>\n",
       "      <td>0</td>\n",
       "      <td>0</td>\n",
       "      <td>5</td>\n",
       "      <td>225</td>\n",
       "      <td>28</td>\n",
       "      <td>24</td>\n",
       "      <td>0</td>\n",
       "      <td>1</td>\n",
       "      <td>2</td>\n",
       "    </tr>\n",
       "    <tr>\n",
       "      <th>697</th>\n",
       "      <td>1</td>\n",
       "      <td>0</td>\n",
       "      <td>0</td>\n",
       "      <td>0</td>\n",
       "      <td>5</td>\n",
       "      <td>330</td>\n",
       "      <td>28</td>\n",
       "      <td>25</td>\n",
       "      <td>1</td>\n",
       "      <td>0</td>\n",
       "      <td>0</td>\n",
       "    </tr>\n",
       "    <tr>\n",
       "      <th>698</th>\n",
       "      <td>0</td>\n",
       "      <td>0</td>\n",
       "      <td>0</td>\n",
       "      <td>1</td>\n",
       "      <td>5</td>\n",
       "      <td>235</td>\n",
       "      <td>32</td>\n",
       "      <td>25</td>\n",
       "      <td>1</td>\n",
       "      <td>0</td>\n",
       "      <td>0</td>\n",
       "    </tr>\n",
       "    <tr>\n",
       "      <th>699</th>\n",
       "      <td>0</td>\n",
       "      <td>0</td>\n",
       "      <td>0</td>\n",
       "      <td>1</td>\n",
       "      <td>5</td>\n",
       "      <td>291</td>\n",
       "      <td>40</td>\n",
       "      <td>25</td>\n",
       "      <td>0</td>\n",
       "      <td>1</td>\n",
       "      <td>1</td>\n",
       "    </tr>\n",
       "  </tbody>\n",
       "</table>\n",
       "<p>700 rows × 11 columns</p>\n",
       "</div>"
      ],
      "text/plain": [
       "     Reason_1  Reason_2  Reason_3  Reason_4  Month Value  \\\n",
       "0           0         0         0         1            7   \n",
       "1           0         0         0         0            7   \n",
       "2           0         0         0         1            7   \n",
       "3           1         0         0         0            7   \n",
       "4           0         0         0         1            7   \n",
       "..        ...       ...       ...       ...          ...   \n",
       "695         1         0         0         0            5   \n",
       "696         1         0         0         0            5   \n",
       "697         1         0         0         0            5   \n",
       "698         0         0         0         1            5   \n",
       "699         0         0         0         1            5   \n",
       "\n",
       "     Transportation Expense  Age  Body Mass Index  Education  Children  Pets  \n",
       "0                       289   33               30          0         2     1  \n",
       "1                       118   50               31          0         1     0  \n",
       "2                       179   38               31          0         0     0  \n",
       "3                       279   39               24          0         2     0  \n",
       "4                       289   33               30          0         2     1  \n",
       "..                      ...  ...              ...        ...       ...   ...  \n",
       "695                     179   40               22          1         2     0  \n",
       "696                     225   28               24          0         1     2  \n",
       "697                     330   28               25          1         0     0  \n",
       "698                     235   32               25          1         0     0  \n",
       "699                     291   40               25          0         1     1  \n",
       "\n",
       "[700 rows x 11 columns]"
      ]
     },
     "execution_count": 19,
     "metadata": {},
     "output_type": "execute_result"
    }
   ],
   "source": [
    "data_with_targets.iloc[:,:-1]"
   ]
  },
  {
   "cell_type": "markdown",
   "id": "1d44ecf8",
   "metadata": {},
   "source": [
    "### Store the result in another variable 'unscaled_inputs'."
   ]
  },
  {
   "cell_type": "code",
   "execution_count": 20,
   "id": "fb33e5f1",
   "metadata": {},
   "outputs": [],
   "source": [
    "unscaled_inputs = data_with_targets.iloc[:,:-1]"
   ]
  },
  {
   "cell_type": "markdown",
   "id": "c1b0dac0",
   "metadata": {},
   "source": [
    "## Standardize the data"
   ]
  },
  {
   "cell_type": "markdown",
   "id": "6b69c2e3",
   "metadata": {},
   "source": [
    "### Import the relevant modules. "
   ]
  },
  {
   "cell_type": "code",
   "execution_count": 21,
   "id": "c0bb3694",
   "metadata": {},
   "outputs": [],
   "source": [
    "# from sklearn.preprocessing import StandardScaler"
   ]
  },
  {
   "cell_type": "markdown",
   "id": "841a0a15",
   "metadata": {},
   "source": [
    "### Declare a StandardScaler object. "
   ]
  },
  {
   "cell_type": "code",
   "execution_count": 22,
   "id": "b3a4d04e",
   "metadata": {},
   "outputs": [],
   "source": [
    "# absenteeism_scaler = StandardScaler()"
   ]
  },
  {
   "cell_type": "markdown",
   "id": "f60aff85",
   "metadata": {},
   "source": [
    "###This is an empty StandardScaler object with no information. "
   ]
  },
  {
   "cell_type": "markdown",
   "id": "2c971d52",
   "metadata": {},
   "source": [
    "### Fit the input data. "
   ]
  },
  {
   "cell_type": "code",
   "execution_count": 23,
   "id": "018ecea4",
   "metadata": {},
   "outputs": [],
   "source": [
    "# import the libraries needed to create the Custom Scaler \n",
    "# note that all of them are a part of the sklearn package\n",
    "# moreover, one of them is actually the StandardScaler module, \n",
    "# so you can imagine that the Custom Scaler is build on it\n",
    "# CustomScaler will not standardize all inputs but only the ones we choose\n",
    "# This will help to preserve the dummies untouched.\n",
    "\n",
    "from sklearn.base import BaseEstimator, TransformerMixin\n",
    "from sklearn.preprocessing import StandardScaler\n",
    "\n",
    "# create the Custom Scaler class\n",
    "\n",
    "class CustomScaler(BaseEstimator,TransformerMixin): \n",
    "    \n",
    "    # init or what information we need to declare a CustomScaler object\n",
    "    # and what is calculated/declared as we do\n",
    "    \n",
    "    def __init__(self,columns, copy=True, with_mean=True, with_std=True):\n",
    "        # with some columns 'twist'\n",
    "        self.columns = columns\n",
    "        self.copy = copy\n",
    "        self.with_mean = with_mean\n",
    "        self.with_std = with_std\n",
    "        \n",
    "        \n",
    "# the fit method, which, again based on StandardScale\n",
    "    \n",
    "    def fit(self, X, y=None):\n",
    "        self.scaler = StandardScaler(copy=self.copy, with_mean=self.with_mean, with_std=self.with_std)\n",
    "        self.scaler.fit(X[self.columns], y)\n",
    "        self.mean_ = np.mean(X[self.columns])\n",
    "        self.var_ = np.var(X[self.columns])\n",
    "        return self\n",
    "    \n",
    "    \n",
    "# the transform method which does the actual scaling\n",
    "\n",
    "    def transform(self, X, y=None, copy=None):\n",
    "        \n",
    "            # record the initial order of the columns\n",
    "            init_col_order = X.columns\n",
    "\n",
    "            # scale all features that you chose when creating the instance of the class\n",
    "            X_scaled = pd.DataFrame(self.scaler.transform(X[self.columns]), columns=self.columns)\n",
    "\n",
    "            # declare a variable containing all information that was not scaled\n",
    "            X_not_scaled = X.loc[:,~X.columns.isin(self.columns)]\n",
    "\n",
    "            # return a data frame which contains all scaled features and all 'not scaled' features\n",
    "            # use the original order (that you recorded in the beginning)\n",
    "            return pd.concat([X_not_scaled, X_scaled], axis=1)[init_col_order]\n",
    "    "
   ]
  },
  {
   "cell_type": "markdown",
   "id": "738ac384",
   "metadata": {},
   "source": [
    "#In practice, we would avoid this above step by standardizing prior to creating the dummies. "
   ]
  },
  {
   "cell_type": "markdown",
   "id": "682dcc29",
   "metadata": {},
   "source": [
    "###Check the column values of unscaled_inputs dataframe."
   ]
  },
  {
   "cell_type": "code",
   "execution_count": 24,
   "id": "e607e6dd",
   "metadata": {},
   "outputs": [
    {
     "data": {
      "text/plain": [
       "array(['Reason_1', 'Reason_2', 'Reason_3', 'Reason_4', 'Month Value',\n",
       "       'Transportation Expense', 'Age', 'Body Mass Index', 'Education',\n",
       "       'Children', 'Pets'], dtype=object)"
      ]
     },
     "execution_count": 24,
     "metadata": {},
     "output_type": "execute_result"
    }
   ],
   "source": [
    "unscaled_inputs.columns.values "
   ]
  },
  {
   "cell_type": "code",
   "execution_count": 25,
   "id": "41d809e9",
   "metadata": {},
   "outputs": [
    {
     "data": {
      "text/plain": [
       "pandas.core.frame.DataFrame"
      ]
     },
     "execution_count": 25,
     "metadata": {},
     "output_type": "execute_result"
    }
   ],
   "source": [
    "type(unscaled_inputs)"
   ]
  },
  {
   "cell_type": "markdown",
   "id": "269c009f",
   "metadata": {},
   "source": [
    "###Create a new variable called columns_to_scale that will contain the names of the feature we would like to scale. So we will omit the dummy variables from this list. "
   ]
  },
  {
   "cell_type": "markdown",
   "id": "8f9dd781",
   "metadata": {},
   "source": [
    "columns_to_scale = ['Month Value','Day of the week', 'Transportation Expense', \n",
    "                    'Distance to Work','Age', 'Daily Work Load Average', 'Body Mass Index',\n",
    "       'Children', 'Pets']"
   ]
  },
  {
   "cell_type": "code",
   "execution_count": 26,
   "id": "9cc0c5fe",
   "metadata": {},
   "outputs": [],
   "source": [
    "columns_to_scale = ['Month Value', 'Transportation Expense','Age', 'Body Mass Index',\n",
    "       'Children', 'Pets']"
   ]
  },
  {
   "cell_type": "markdown",
   "id": "df0c6095",
   "metadata": {},
   "source": [
    "###Now we can declare the absenteeism_scaler and it will be equal to CustomScaler of columns_to_scale. "
   ]
  },
  {
   "cell_type": "code",
   "execution_count": 27,
   "id": "a3eb9bde",
   "metadata": {},
   "outputs": [],
   "source": [
    "absenteeism_scaler = CustomScaler(columns_to_scale)"
   ]
  },
  {
   "cell_type": "code",
   "execution_count": 28,
   "id": "8d29eca7",
   "metadata": {
    "scrolled": true
   },
   "outputs": [
    {
     "name": "stderr",
     "output_type": "stream",
     "text": [
      "/Applications/anaconda3/lib/python3.9/site-packages/numpy/core/fromnumeric.py:3438: FutureWarning: In a future version, DataFrame.mean(axis=None) will return a scalar mean over the entire DataFrame. To retain the old behavior, use 'frame.mean(axis=0)' or just 'frame.mean()'\n",
      "  return mean(axis=axis, dtype=dtype, out=out, **kwargs)\n"
     ]
    },
    {
     "data": {
      "text/plain": [
       "CustomScaler(columns=['Month Value', 'Transportation Expense', 'Age',\n",
       "                      'Body Mass Index', 'Children', 'Pets'])"
      ]
     },
     "execution_count": 28,
     "metadata": {},
     "output_type": "execute_result"
    }
   ],
   "source": [
    "absenteeism_scaler.fit(unscaled_inputs)"
   ]
  },
  {
   "cell_type": "markdown",
   "id": "7169de04",
   "metadata": {},
   "source": [
    "###This line calculates the mean and standard deviation for each feature from unscaled inputs. This information will be stored in the absenteeism_scaler object. Whenever we get new data, we will know that the standardization information is contained in the absenteeism_scaler. We will be able to standardize the data in the same way. We have just prepared the 'scaling mechanism'. "
   ]
  },
  {
   "cell_type": "markdown",
   "id": "867e6fff",
   "metadata": {},
   "source": [
    "### To apply the 'scaling mechanism', use another method called 'Transform'. "
   ]
  },
  {
   "cell_type": "code",
   "execution_count": 29,
   "id": "95a6a62a",
   "metadata": {},
   "outputs": [],
   "source": [
    "scaled_inputs = absenteeism_scaler.transform(unscaled_inputs)"
   ]
  },
  {
   "cell_type": "markdown",
   "id": "3036bc9e",
   "metadata": {},
   "source": [
    "###This operation transforms the unscaled inputs using the information contained in absenteeism_scaler. We subtract the mean and divide by the standard deviation. This is the most common and useful way to transform the data when deploying a model. "
   ]
  },
  {
   "cell_type": "code",
   "execution_count": 30,
   "id": "395e8da9",
   "metadata": {
    "scrolled": true
   },
   "outputs": [
    {
     "data": {
      "text/html": [
       "<div>\n",
       "<style scoped>\n",
       "    .dataframe tbody tr th:only-of-type {\n",
       "        vertical-align: middle;\n",
       "    }\n",
       "\n",
       "    .dataframe tbody tr th {\n",
       "        vertical-align: top;\n",
       "    }\n",
       "\n",
       "    .dataframe thead th {\n",
       "        text-align: right;\n",
       "    }\n",
       "</style>\n",
       "<table border=\"1\" class=\"dataframe\">\n",
       "  <thead>\n",
       "    <tr style=\"text-align: right;\">\n",
       "      <th></th>\n",
       "      <th>Reason_1</th>\n",
       "      <th>Reason_2</th>\n",
       "      <th>Reason_3</th>\n",
       "      <th>Reason_4</th>\n",
       "      <th>Month Value</th>\n",
       "      <th>Transportation Expense</th>\n",
       "      <th>Age</th>\n",
       "      <th>Body Mass Index</th>\n",
       "      <th>Education</th>\n",
       "      <th>Children</th>\n",
       "      <th>Pets</th>\n",
       "    </tr>\n",
       "  </thead>\n",
       "  <tbody>\n",
       "    <tr>\n",
       "      <th>0</th>\n",
       "      <td>0</td>\n",
       "      <td>0</td>\n",
       "      <td>0</td>\n",
       "      <td>1</td>\n",
       "      <td>0.182726</td>\n",
       "      <td>1.005844</td>\n",
       "      <td>-0.536062</td>\n",
       "      <td>0.767431</td>\n",
       "      <td>0</td>\n",
       "      <td>0.880469</td>\n",
       "      <td>0.268487</td>\n",
       "    </tr>\n",
       "    <tr>\n",
       "      <th>1</th>\n",
       "      <td>0</td>\n",
       "      <td>0</td>\n",
       "      <td>0</td>\n",
       "      <td>0</td>\n",
       "      <td>0.182726</td>\n",
       "      <td>-1.574681</td>\n",
       "      <td>2.130803</td>\n",
       "      <td>1.002633</td>\n",
       "      <td>0</td>\n",
       "      <td>-0.019280</td>\n",
       "      <td>-0.589690</td>\n",
       "    </tr>\n",
       "    <tr>\n",
       "      <th>2</th>\n",
       "      <td>0</td>\n",
       "      <td>0</td>\n",
       "      <td>0</td>\n",
       "      <td>1</td>\n",
       "      <td>0.182726</td>\n",
       "      <td>-0.654143</td>\n",
       "      <td>0.248310</td>\n",
       "      <td>1.002633</td>\n",
       "      <td>0</td>\n",
       "      <td>-0.919030</td>\n",
       "      <td>-0.589690</td>\n",
       "    </tr>\n",
       "    <tr>\n",
       "      <th>3</th>\n",
       "      <td>1</td>\n",
       "      <td>0</td>\n",
       "      <td>0</td>\n",
       "      <td>0</td>\n",
       "      <td>0.182726</td>\n",
       "      <td>0.854936</td>\n",
       "      <td>0.405184</td>\n",
       "      <td>-0.643782</td>\n",
       "      <td>0</td>\n",
       "      <td>0.880469</td>\n",
       "      <td>-0.589690</td>\n",
       "    </tr>\n",
       "    <tr>\n",
       "      <th>4</th>\n",
       "      <td>0</td>\n",
       "      <td>0</td>\n",
       "      <td>0</td>\n",
       "      <td>1</td>\n",
       "      <td>0.182726</td>\n",
       "      <td>1.005844</td>\n",
       "      <td>-0.536062</td>\n",
       "      <td>0.767431</td>\n",
       "      <td>0</td>\n",
       "      <td>0.880469</td>\n",
       "      <td>0.268487</td>\n",
       "    </tr>\n",
       "    <tr>\n",
       "      <th>...</th>\n",
       "      <td>...</td>\n",
       "      <td>...</td>\n",
       "      <td>...</td>\n",
       "      <td>...</td>\n",
       "      <td>...</td>\n",
       "      <td>...</td>\n",
       "      <td>...</td>\n",
       "      <td>...</td>\n",
       "      <td>...</td>\n",
       "      <td>...</td>\n",
       "      <td>...</td>\n",
       "    </tr>\n",
       "    <tr>\n",
       "      <th>695</th>\n",
       "      <td>1</td>\n",
       "      <td>0</td>\n",
       "      <td>0</td>\n",
       "      <td>0</td>\n",
       "      <td>-0.388293</td>\n",
       "      <td>-0.654143</td>\n",
       "      <td>0.562059</td>\n",
       "      <td>-1.114186</td>\n",
       "      <td>1</td>\n",
       "      <td>0.880469</td>\n",
       "      <td>-0.589690</td>\n",
       "    </tr>\n",
       "    <tr>\n",
       "      <th>696</th>\n",
       "      <td>1</td>\n",
       "      <td>0</td>\n",
       "      <td>0</td>\n",
       "      <td>0</td>\n",
       "      <td>-0.388293</td>\n",
       "      <td>0.040034</td>\n",
       "      <td>-1.320435</td>\n",
       "      <td>-0.643782</td>\n",
       "      <td>0</td>\n",
       "      <td>-0.019280</td>\n",
       "      <td>1.126663</td>\n",
       "    </tr>\n",
       "    <tr>\n",
       "      <th>697</th>\n",
       "      <td>1</td>\n",
       "      <td>0</td>\n",
       "      <td>0</td>\n",
       "      <td>0</td>\n",
       "      <td>-0.388293</td>\n",
       "      <td>1.624567</td>\n",
       "      <td>-1.320435</td>\n",
       "      <td>-0.408580</td>\n",
       "      <td>1</td>\n",
       "      <td>-0.919030</td>\n",
       "      <td>-0.589690</td>\n",
       "    </tr>\n",
       "    <tr>\n",
       "      <th>698</th>\n",
       "      <td>0</td>\n",
       "      <td>0</td>\n",
       "      <td>0</td>\n",
       "      <td>1</td>\n",
       "      <td>-0.388293</td>\n",
       "      <td>0.190942</td>\n",
       "      <td>-0.692937</td>\n",
       "      <td>-0.408580</td>\n",
       "      <td>1</td>\n",
       "      <td>-0.919030</td>\n",
       "      <td>-0.589690</td>\n",
       "    </tr>\n",
       "    <tr>\n",
       "      <th>699</th>\n",
       "      <td>0</td>\n",
       "      <td>0</td>\n",
       "      <td>0</td>\n",
       "      <td>1</td>\n",
       "      <td>-0.388293</td>\n",
       "      <td>1.036026</td>\n",
       "      <td>0.562059</td>\n",
       "      <td>-0.408580</td>\n",
       "      <td>0</td>\n",
       "      <td>-0.019280</td>\n",
       "      <td>0.268487</td>\n",
       "    </tr>\n",
       "  </tbody>\n",
       "</table>\n",
       "<p>700 rows × 11 columns</p>\n",
       "</div>"
      ],
      "text/plain": [
       "     Reason_1  Reason_2  Reason_3  Reason_4  Month Value  \\\n",
       "0           0         0         0         1     0.182726   \n",
       "1           0         0         0         0     0.182726   \n",
       "2           0         0         0         1     0.182726   \n",
       "3           1         0         0         0     0.182726   \n",
       "4           0         0         0         1     0.182726   \n",
       "..        ...       ...       ...       ...          ...   \n",
       "695         1         0         0         0    -0.388293   \n",
       "696         1         0         0         0    -0.388293   \n",
       "697         1         0         0         0    -0.388293   \n",
       "698         0         0         0         1    -0.388293   \n",
       "699         0         0         0         1    -0.388293   \n",
       "\n",
       "     Transportation Expense       Age  Body Mass Index  Education  Children  \\\n",
       "0                  1.005844 -0.536062         0.767431          0  0.880469   \n",
       "1                 -1.574681  2.130803         1.002633          0 -0.019280   \n",
       "2                 -0.654143  0.248310         1.002633          0 -0.919030   \n",
       "3                  0.854936  0.405184        -0.643782          0  0.880469   \n",
       "4                  1.005844 -0.536062         0.767431          0  0.880469   \n",
       "..                      ...       ...              ...        ...       ...   \n",
       "695               -0.654143  0.562059        -1.114186          1  0.880469   \n",
       "696                0.040034 -1.320435        -0.643782          0 -0.019280   \n",
       "697                1.624567 -1.320435        -0.408580          1 -0.919030   \n",
       "698                0.190942 -0.692937        -0.408580          1 -0.919030   \n",
       "699                1.036026  0.562059        -0.408580          0 -0.019280   \n",
       "\n",
       "         Pets  \n",
       "0    0.268487  \n",
       "1   -0.589690  \n",
       "2   -0.589690  \n",
       "3   -0.589690  \n",
       "4    0.268487  \n",
       "..        ...  \n",
       "695 -0.589690  \n",
       "696  1.126663  \n",
       "697 -0.589690  \n",
       "698 -0.589690  \n",
       "699  0.268487  \n",
       "\n",
       "[700 rows x 11 columns]"
      ]
     },
     "execution_count": 30,
     "metadata": {},
     "output_type": "execute_result"
    }
   ],
   "source": [
    "scaled_inputs"
   ]
  },
  {
   "cell_type": "markdown",
   "id": "b2873b8d",
   "metadata": {},
   "source": [
    "###All the input data has been standardized. "
   ]
  },
  {
   "cell_type": "markdown",
   "id": "6b65bb76",
   "metadata": {},
   "source": [
    "### Check the dimensions of the scaled inputs. "
   ]
  },
  {
   "cell_type": "code",
   "execution_count": 31,
   "id": "14f797df",
   "metadata": {},
   "outputs": [
    {
     "data": {
      "text/plain": [
       "(700, 11)"
      ]
     },
     "execution_count": 31,
     "metadata": {},
     "output_type": "execute_result"
    }
   ],
   "source": [
    "scaled_inputs.shape"
   ]
  },
  {
   "cell_type": "markdown",
   "id": "b5ed9d3b",
   "metadata": {},
   "source": [
    "###We have 700 observations and 14 features. "
   ]
  },
  {
   "cell_type": "markdown",
   "id": "9a71308e",
   "metadata": {},
   "source": [
    "## Split the data into train and test and shuffle. "
   ]
  },
  {
   "cell_type": "markdown",
   "id": "a6019592",
   "metadata": {},
   "source": [
    "#Overfitting occurs when the model learns to predict the data we've given it so well that when applied in a real life situation with new data, it fails miserably. One way to deal with overfitting is to hide a small part of the data set from the algorithm. So we train the model based on most of the data but not all of it. After that, we use the small piece of data we left aside to test if the model will do well in real life.\n",
    "\n",
    "We also want to shuffle the data so that we remove all types of dependencies that come from the order of the data set like day of the week.\n"
   ]
  },
  {
   "cell_type": "markdown",
   "id": "4a4781a2",
   "metadata": {},
   "source": [
    "### Import the relevant module. "
   ]
  },
  {
   "cell_type": "code",
   "execution_count": 32,
   "id": "6426b922",
   "metadata": {},
   "outputs": [],
   "source": [
    "from sklearn.model_selection import train_test_split"
   ]
  },
  {
   "cell_type": "markdown",
   "id": "5f32e744",
   "metadata": {},
   "source": [
    "###train_test_split method has many arguments and the two most important ones are inputs and targets. "
   ]
  },
  {
   "cell_type": "markdown",
   "id": "67155f9b",
   "metadata": {},
   "source": [
    "### Indicate the inputs and targets in the train_test_split method. "
   ]
  },
  {
   "cell_type": "code",
   "execution_count": 33,
   "id": "7f402b14",
   "metadata": {},
   "outputs": [
    {
     "data": {
      "text/plain": [
       "[     Reason_1  Reason_2  Reason_3  Reason_4  Month Value  \\\n",
       " 184         0         0         0         1    -0.673803   \n",
       " 169         1         0         0         0    -0.959313   \n",
       " 228         1         0         0         0    -0.102784   \n",
       " 131         0         0         0         1    -1.530333   \n",
       " 527         0         0         0         1     1.039256   \n",
       " ..        ...       ...       ...       ...          ...   \n",
       " 549         0         0         0         0     1.324766   \n",
       " 16          0         0         0         1     0.182726   \n",
       " 313         0         0         0         0     1.039256   \n",
       " 595         0         0         0         1    -1.244823   \n",
       " 337         0         0         0         0     1.324766   \n",
       " \n",
       "      Transportation Expense       Age  Body Mass Index  Education  Children  \\\n",
       " 184                1.036026  0.562059        -0.408580          0 -0.019280   \n",
       " 169               -0.654143  0.562059        -1.114186          1  0.880469   \n",
       " 228               -1.574681  2.130803         1.002633          0 -0.019280   \n",
       " 131               -1.574681  0.091435         0.297027          0 -0.919030   \n",
       " 527               -0.503235 -0.536062        -0.408580          0  0.880469   \n",
       " ..                      ...       ...              ...        ...       ...   \n",
       " 549                1.005844 -0.536062         0.767431          0  0.880469   \n",
       " 16                -0.654143  0.248310         1.002633          0 -0.919030   \n",
       " 313               -0.986140 -1.163560        -1.114186          0 -0.919030   \n",
       " 595               -0.654143  0.248310         1.002633          0 -0.919030   \n",
       " 337                0.854936  0.405184        -0.643782          0  0.880469   \n",
       " \n",
       "          Pets  \n",
       " 184  0.268487  \n",
       " 169 -0.589690  \n",
       " 228 -0.589690  \n",
       " 131 -0.589690  \n",
       " 527  1.126663  \n",
       " ..        ...  \n",
       " 549  0.268487  \n",
       " 16  -0.589690  \n",
       " 313 -0.589690  \n",
       " 595 -0.589690  \n",
       " 337 -0.589690  \n",
       " \n",
       " [525 rows x 11 columns],\n",
       "      Reason_1  Reason_2  Reason_3  Reason_4  Month Value  \\\n",
       " 165         1         0         0         0    -0.959313   \n",
       " 420         1         0         0         0    -0.673803   \n",
       " 98          0         0         0         1     1.610276   \n",
       " 256         1         0         0         0     0.468236   \n",
       " 402         0         0         0         1    -0.959313   \n",
       " ..        ...       ...       ...       ...          ...   \n",
       " 46          0         0         0         1     0.753746   \n",
       " 592         0         0         0         1    -1.244823   \n",
       " 525         1         0         0         0     1.039256   \n",
       " 567         0         0         0         1     1.610276   \n",
       " 258         0         0         0         1     0.468236   \n",
       " \n",
       "      Transportation Expense       Age  Body Mass Index  Education  Children  \\\n",
       " 165               -1.016322 -0.379188        -0.408580          0  0.880469   \n",
       " 420               -1.574681  2.130803         1.002633          0 -0.019280   \n",
       " 98                 0.387122  1.660180         1.237836          0  0.880469   \n",
       " 256                1.171843  1.032682        -0.408580          0  0.880469   \n",
       " 402               -1.574681  2.130803         1.002633          0 -0.019280   \n",
       " ..                      ...       ...              ...        ...       ...   \n",
       " 46                -0.654143  0.248310         1.002633          0 -0.919030   \n",
       " 592                0.040034  0.718933         0.297027          1  0.880469   \n",
       " 525                2.213108 -0.849811        -0.408580          0  1.780219   \n",
       " 567                0.040034 -1.320435        -0.643782          0 -0.019280   \n",
       " 258                0.568211 -0.065439        -0.878984          0  2.679969   \n",
       " \n",
       "          Pets  \n",
       " 165 -0.589690  \n",
       " 420 -0.589690  \n",
       " 98   0.268487  \n",
       " 256  0.268487  \n",
       " 402 -0.589690  \n",
       " ..        ...  \n",
       " 46  -0.589690  \n",
       " 592  1.126663  \n",
       " 525 -0.589690  \n",
       " 567  1.126663  \n",
       " 258 -0.589690  \n",
       " \n",
       " [175 rows x 11 columns],\n",
       " array([0, 1, 1, 0, 1, 1, 1, 0, 0, 1, 0, 0, 0, 0, 0, 1, 0, 1, 0, 0, 1, 1,\n",
       "        1, 1, 1, 0, 0, 0, 0, 1, 0, 1, 1, 0, 0, 0, 0, 0, 1, 0, 0, 1, 1, 0,\n",
       "        0, 0, 1, 1, 1, 1, 0, 0, 1, 1, 1, 0, 1, 0, 1, 0, 0, 1, 0, 1, 0, 0,\n",
       "        0, 1, 0, 0, 0, 1, 1, 1, 0, 0, 0, 0, 0, 1, 1, 1, 0, 0, 1, 1, 0, 0,\n",
       "        0, 0, 0, 0, 1, 1, 1, 0, 0, 1, 1, 1, 1, 1, 1, 1, 1, 0, 0, 0, 0, 1,\n",
       "        1, 1, 1, 0, 0, 0, 1, 1, 1, 1, 0, 1, 0, 0, 1, 0, 0, 0, 0, 0, 1, 0,\n",
       "        0, 0, 0, 1, 0, 0, 0, 1, 1, 0, 0, 0, 0, 0, 0, 0, 0, 1, 0, 0, 0, 1,\n",
       "        1, 1, 0, 1, 1, 1, 1, 0, 1, 0, 0, 1, 1, 1, 1, 0, 1, 1, 0, 0, 0, 0,\n",
       "        0, 1, 0, 0, 0, 1, 1, 1, 1, 1, 1, 1, 1, 0, 1, 0, 1, 0, 1, 1, 0, 0,\n",
       "        0, 0, 1, 1, 0, 0, 0, 0, 1, 1, 1, 1, 0, 0, 1, 1, 1, 0, 1, 1, 1, 0,\n",
       "        0, 1, 0, 0, 1, 0, 0, 1, 0, 1, 1, 1, 1, 0, 0, 0, 1, 0, 0, 1, 1, 1,\n",
       "        0, 0, 0, 0, 1, 0, 0, 1, 1, 1, 0, 1, 0, 0, 1, 1, 0, 1, 1, 0, 1, 1,\n",
       "        0, 1, 0, 0, 0, 0, 1, 0, 1, 1, 1, 1, 0, 0, 1, 1, 0, 1, 1, 1, 0, 1,\n",
       "        1, 0, 0, 1, 1, 1, 0, 1, 0, 1, 0, 0, 0, 0, 1, 0, 1, 1, 1, 1, 1, 1,\n",
       "        0, 0, 1, 1, 0, 0, 0, 1, 1, 0, 0, 0, 1, 0, 0, 0, 1, 1, 0, 1, 1, 0,\n",
       "        1, 0, 1, 0, 0, 1, 1, 0, 1, 0, 0, 1, 1, 1, 1, 1, 0, 0, 0, 0, 0, 0,\n",
       "        1, 0, 0, 0, 1, 1, 1, 0, 0, 0, 0, 1, 0, 1, 1, 1, 0, 1, 0, 0, 0, 1,\n",
       "        1, 0, 0, 0, 1, 1, 0, 1, 1, 1, 0, 0, 0, 0, 0, 1, 1, 0, 0, 0, 1, 0,\n",
       "        0, 0, 0, 1, 0, 0, 0, 0, 1, 0, 0, 1, 0, 0, 1, 0, 0, 0, 0, 0, 0, 0,\n",
       "        1, 0, 1, 1, 1, 0, 0, 0, 0, 0, 1, 1, 1, 0, 1, 0, 1, 1, 0, 0, 0, 0,\n",
       "        0, 0, 1, 1, 0, 0, 1, 0, 0, 1, 0, 1, 0, 1, 1, 1, 0, 1, 1, 1, 0, 0,\n",
       "        1, 0, 1, 1, 1, 1, 1, 1, 1, 0, 0, 1, 1, 0, 0, 1, 0, 0, 0, 1, 0, 1,\n",
       "        1, 0, 1, 0, 0, 1, 0, 1, 1, 0, 0, 1, 0, 1, 0, 0, 1, 0, 1, 0, 1, 0,\n",
       "        0, 0, 1, 0, 0, 0, 0, 1, 0, 0, 1, 0, 1, 0, 0, 0, 0, 0, 0]),\n",
       " array([1, 1, 0, 0, 0, 0, 1, 0, 1, 1, 1, 1, 0, 0, 0, 0, 0, 0, 0, 0, 1, 0,\n",
       "        1, 1, 0, 0, 1, 1, 0, 0, 0, 1, 1, 0, 0, 0, 0, 1, 0, 1, 0, 1, 0, 0,\n",
       "        1, 1, 1, 1, 0, 0, 1, 0, 1, 0, 0, 0, 1, 0, 0, 1, 0, 1, 0, 1, 1, 0,\n",
       "        1, 1, 1, 0, 0, 0, 1, 0, 0, 0, 0, 1, 0, 1, 1, 1, 1, 0, 0, 0, 0, 0,\n",
       "        0, 1, 1, 1, 1, 0, 0, 1, 0, 0, 0, 1, 1, 1, 0, 1, 1, 0, 1, 0, 0, 1,\n",
       "        1, 0, 0, 0, 0, 0, 0, 1, 1, 1, 1, 0, 1, 1, 1, 1, 0, 0, 0, 0, 1, 0,\n",
       "        1, 0, 1, 0, 0, 0, 0, 1, 1, 1, 1, 0, 0, 0, 1, 0, 0, 0, 0, 1, 1, 0,\n",
       "        1, 1, 1, 0, 0, 1, 1, 1, 0, 0, 1, 0, 1, 0, 0, 0, 0, 0, 1, 0, 1])]"
      ]
     },
     "execution_count": 33,
     "metadata": {},
     "output_type": "execute_result"
    }
   ],
   "source": [
    "train_test_split(scaled_inputs,targets)"
   ]
  },
  {
   "cell_type": "markdown",
   "id": "108b2c35",
   "metadata": {},
   "source": [
    "###The output has 4 arrays: a training dataset with inputs, then a test dataset with inputs,  a training dataset with targets, then a test dataset with targets. "
   ]
  },
  {
   "cell_type": "markdown",
   "id": "a62be75a",
   "metadata": {},
   "source": [
    "### To make this output useful, declare 4 variables that will contain the 4 outputs. "
   ]
  },
  {
   "cell_type": "code",
   "execution_count": 34,
   "id": "6016161a",
   "metadata": {},
   "outputs": [],
   "source": [
    "x_train, x_test, y_train, y_test = train_test_split(scaled_inputs,targets)"
   ]
  },
  {
   "cell_type": "markdown",
   "id": "e10c000a",
   "metadata": {},
   "source": [
    "### Check the shape of these variables. \n",
    "\n",
    "This will be very indicative of what the train-test split has actually achieved."
   ]
  },
  {
   "cell_type": "code",
   "execution_count": 35,
   "id": "f4e30f46",
   "metadata": {},
   "outputs": [
    {
     "name": "stdout",
     "output_type": "stream",
     "text": [
      "(525, 11) (525,)\n"
     ]
    }
   ],
   "source": [
    "print(x_train.shape, y_train.shape)"
   ]
  },
  {
   "cell_type": "code",
   "execution_count": 36,
   "id": "28c02cd2",
   "metadata": {},
   "outputs": [
    {
     "name": "stdout",
     "output_type": "stream",
     "text": [
      "(175, 11) (175,)\n"
     ]
    }
   ],
   "source": [
    "print(x_test.shape, y_test.shape)"
   ]
  },
  {
   "cell_type": "markdown",
   "id": "c59658c5",
   "metadata": {},
   "source": [
    "###Training inputs contain 525 observations along 14 features. Training targets are a vector of length 525 and this corresponds to the 'Excessive_Absenteeism' column. \n",
    "Test inputs contain 175 observations along 14 features and 1 target variable. This method has split the scaled inputs and targets into matching forms that can be used in the machine learning part. "
   ]
  },
  {
   "cell_type": "markdown",
   "id": "472f9eae",
   "metadata": {},
   "source": [
    "###This split is 3 to 1 (75% observations will help us with training and 25% observations will serve for testing). This is the default split. Usually we opt for splits like 90-10 or 80-20 because we want to train on more data. We don't like setting aside too much data for testing because this means we are going to train the model on less data. We specify the split by mentioning the train_size. Train_size takes values between 0 and 1. Train_size of 0.9 means 90% of the data will be used for training and 10% for testing. Usually the train_size is 0.8 in most models.  "
   ]
  },
  {
   "cell_type": "markdown",
   "id": "570dde83",
   "metadata": {},
   "source": [
    "###By default shuffle is set to True and everytime we run the code, we get a different train and test set. So we get a different split everytime and this causes the final model to differ everytime. Due to different split everytime, we may get a higher accuracy or lower accuracy due to the random split. If we set random_state = 20, then it will make the shuffle pseudo random and it will always shuffle observations in the same random way. "
   ]
  },
  {
   "cell_type": "code",
   "execution_count": 37,
   "id": "2409dc70",
   "metadata": {},
   "outputs": [],
   "source": [
    "x_train, x_test, y_train, y_test = train_test_split(scaled_inputs,targets, train_size = 0.8, random_state = 20)"
   ]
  },
  {
   "cell_type": "code",
   "execution_count": 38,
   "id": "af6b914e",
   "metadata": {},
   "outputs": [
    {
     "data": {
      "text/html": [
       "<div>\n",
       "<style scoped>\n",
       "    .dataframe tbody tr th:only-of-type {\n",
       "        vertical-align: middle;\n",
       "    }\n",
       "\n",
       "    .dataframe tbody tr th {\n",
       "        vertical-align: top;\n",
       "    }\n",
       "\n",
       "    .dataframe thead th {\n",
       "        text-align: right;\n",
       "    }\n",
       "</style>\n",
       "<table border=\"1\" class=\"dataframe\">\n",
       "  <thead>\n",
       "    <tr style=\"text-align: right;\">\n",
       "      <th></th>\n",
       "      <th>Reason_1</th>\n",
       "      <th>Reason_2</th>\n",
       "      <th>Reason_3</th>\n",
       "      <th>Reason_4</th>\n",
       "      <th>Month Value</th>\n",
       "      <th>Transportation Expense</th>\n",
       "      <th>Age</th>\n",
       "      <th>Body Mass Index</th>\n",
       "      <th>Education</th>\n",
       "      <th>Children</th>\n",
       "      <th>Pets</th>\n",
       "    </tr>\n",
       "  </thead>\n",
       "  <tbody>\n",
       "    <tr>\n",
       "      <th>346</th>\n",
       "      <td>0</td>\n",
       "      <td>0</td>\n",
       "      <td>0</td>\n",
       "      <td>1</td>\n",
       "      <td>1.610276</td>\n",
       "      <td>-0.654143</td>\n",
       "      <td>0.248310</td>\n",
       "      <td>1.002633</td>\n",
       "      <td>0</td>\n",
       "      <td>-0.919030</td>\n",
       "      <td>-0.589690</td>\n",
       "    </tr>\n",
       "    <tr>\n",
       "      <th>91</th>\n",
       "      <td>0</td>\n",
       "      <td>0</td>\n",
       "      <td>1</td>\n",
       "      <td>0</td>\n",
       "      <td>1.324766</td>\n",
       "      <td>-0.654143</td>\n",
       "      <td>0.562059</td>\n",
       "      <td>-1.114186</td>\n",
       "      <td>1</td>\n",
       "      <td>0.880469</td>\n",
       "      <td>-0.589690</td>\n",
       "    </tr>\n",
       "    <tr>\n",
       "      <th>299</th>\n",
       "      <td>1</td>\n",
       "      <td>0</td>\n",
       "      <td>0</td>\n",
       "      <td>0</td>\n",
       "      <td>1.039256</td>\n",
       "      <td>-0.654143</td>\n",
       "      <td>-1.006686</td>\n",
       "      <td>-1.819793</td>\n",
       "      <td>1</td>\n",
       "      <td>-0.919030</td>\n",
       "      <td>-0.589690</td>\n",
       "    </tr>\n",
       "    <tr>\n",
       "      <th>129</th>\n",
       "      <td>0</td>\n",
       "      <td>0</td>\n",
       "      <td>1</td>\n",
       "      <td>0</td>\n",
       "      <td>-1.530333</td>\n",
       "      <td>-0.654143</td>\n",
       "      <td>-1.006686</td>\n",
       "      <td>-1.819793</td>\n",
       "      <td>1</td>\n",
       "      <td>-0.919030</td>\n",
       "      <td>-0.589690</td>\n",
       "    </tr>\n",
       "    <tr>\n",
       "      <th>695</th>\n",
       "      <td>1</td>\n",
       "      <td>0</td>\n",
       "      <td>0</td>\n",
       "      <td>0</td>\n",
       "      <td>-0.388293</td>\n",
       "      <td>-0.654143</td>\n",
       "      <td>0.562059</td>\n",
       "      <td>-1.114186</td>\n",
       "      <td>1</td>\n",
       "      <td>0.880469</td>\n",
       "      <td>-0.589690</td>\n",
       "    </tr>\n",
       "    <tr>\n",
       "      <th>...</th>\n",
       "      <td>...</td>\n",
       "      <td>...</td>\n",
       "      <td>...</td>\n",
       "      <td>...</td>\n",
       "      <td>...</td>\n",
       "      <td>...</td>\n",
       "      <td>...</td>\n",
       "      <td>...</td>\n",
       "      <td>...</td>\n",
       "      <td>...</td>\n",
       "      <td>...</td>\n",
       "    </tr>\n",
       "    <tr>\n",
       "      <th>218</th>\n",
       "      <td>1</td>\n",
       "      <td>0</td>\n",
       "      <td>0</td>\n",
       "      <td>0</td>\n",
       "      <td>-0.388293</td>\n",
       "      <td>-1.574681</td>\n",
       "      <td>2.130803</td>\n",
       "      <td>1.002633</td>\n",
       "      <td>0</td>\n",
       "      <td>-0.019280</td>\n",
       "      <td>-0.589690</td>\n",
       "    </tr>\n",
       "    <tr>\n",
       "      <th>223</th>\n",
       "      <td>0</td>\n",
       "      <td>0</td>\n",
       "      <td>0</td>\n",
       "      <td>1</td>\n",
       "      <td>-0.102784</td>\n",
       "      <td>1.036026</td>\n",
       "      <td>0.562059</td>\n",
       "      <td>-0.408580</td>\n",
       "      <td>0</td>\n",
       "      <td>-0.019280</td>\n",
       "      <td>0.268487</td>\n",
       "    </tr>\n",
       "    <tr>\n",
       "      <th>271</th>\n",
       "      <td>0</td>\n",
       "      <td>0</td>\n",
       "      <td>0</td>\n",
       "      <td>1</td>\n",
       "      <td>0.753746</td>\n",
       "      <td>-0.654143</td>\n",
       "      <td>0.248310</td>\n",
       "      <td>1.002633</td>\n",
       "      <td>0</td>\n",
       "      <td>-0.919030</td>\n",
       "      <td>-0.589690</td>\n",
       "    </tr>\n",
       "    <tr>\n",
       "      <th>474</th>\n",
       "      <td>0</td>\n",
       "      <td>0</td>\n",
       "      <td>0</td>\n",
       "      <td>1</td>\n",
       "      <td>0.182726</td>\n",
       "      <td>2.092381</td>\n",
       "      <td>-1.320435</td>\n",
       "      <td>0.061825</td>\n",
       "      <td>0</td>\n",
       "      <td>-0.019280</td>\n",
       "      <td>2.843016</td>\n",
       "    </tr>\n",
       "    <tr>\n",
       "      <th>355</th>\n",
       "      <td>0</td>\n",
       "      <td>0</td>\n",
       "      <td>0</td>\n",
       "      <td>1</td>\n",
       "      <td>1.610276</td>\n",
       "      <td>-0.986140</td>\n",
       "      <td>-1.163560</td>\n",
       "      <td>-1.114186</td>\n",
       "      <td>0</td>\n",
       "      <td>-0.919030</td>\n",
       "      <td>-0.589690</td>\n",
       "    </tr>\n",
       "  </tbody>\n",
       "</table>\n",
       "<p>560 rows × 11 columns</p>\n",
       "</div>"
      ],
      "text/plain": [
       "     Reason_1  Reason_2  Reason_3  Reason_4  Month Value  \\\n",
       "346         0         0         0         1     1.610276   \n",
       "91          0         0         1         0     1.324766   \n",
       "299         1         0         0         0     1.039256   \n",
       "129         0         0         1         0    -1.530333   \n",
       "695         1         0         0         0    -0.388293   \n",
       "..        ...       ...       ...       ...          ...   \n",
       "218         1         0         0         0    -0.388293   \n",
       "223         0         0         0         1    -0.102784   \n",
       "271         0         0         0         1     0.753746   \n",
       "474         0         0         0         1     0.182726   \n",
       "355         0         0         0         1     1.610276   \n",
       "\n",
       "     Transportation Expense       Age  Body Mass Index  Education  Children  \\\n",
       "346               -0.654143  0.248310         1.002633          0 -0.919030   \n",
       "91                -0.654143  0.562059        -1.114186          1  0.880469   \n",
       "299               -0.654143 -1.006686        -1.819793          1 -0.919030   \n",
       "129               -0.654143 -1.006686        -1.819793          1 -0.919030   \n",
       "695               -0.654143  0.562059        -1.114186          1  0.880469   \n",
       "..                      ...       ...              ...        ...       ...   \n",
       "218               -1.574681  2.130803         1.002633          0 -0.019280   \n",
       "223                1.036026  0.562059        -0.408580          0 -0.019280   \n",
       "271               -0.654143  0.248310         1.002633          0 -0.919030   \n",
       "474                2.092381 -1.320435         0.061825          0 -0.019280   \n",
       "355               -0.986140 -1.163560        -1.114186          0 -0.919030   \n",
       "\n",
       "         Pets  \n",
       "346 -0.589690  \n",
       "91  -0.589690  \n",
       "299 -0.589690  \n",
       "129 -0.589690  \n",
       "695 -0.589690  \n",
       "..        ...  \n",
       "218 -0.589690  \n",
       "223  0.268487  \n",
       "271 -0.589690  \n",
       "474  2.843016  \n",
       "355 -0.589690  \n",
       "\n",
       "[560 rows x 11 columns]"
      ]
     },
     "execution_count": 38,
     "metadata": {},
     "output_type": "execute_result"
    }
   ],
   "source": [
    "x_train"
   ]
  },
  {
   "cell_type": "code",
   "execution_count": 39,
   "id": "9e657110",
   "metadata": {},
   "outputs": [
    {
     "data": {
      "text/html": [
       "<div>\n",
       "<style scoped>\n",
       "    .dataframe tbody tr th:only-of-type {\n",
       "        vertical-align: middle;\n",
       "    }\n",
       "\n",
       "    .dataframe tbody tr th {\n",
       "        vertical-align: top;\n",
       "    }\n",
       "\n",
       "    .dataframe thead th {\n",
       "        text-align: right;\n",
       "    }\n",
       "</style>\n",
       "<table border=\"1\" class=\"dataframe\">\n",
       "  <thead>\n",
       "    <tr style=\"text-align: right;\">\n",
       "      <th></th>\n",
       "      <th>Reason_1</th>\n",
       "      <th>Reason_2</th>\n",
       "      <th>Reason_3</th>\n",
       "      <th>Reason_4</th>\n",
       "      <th>Month Value</th>\n",
       "      <th>Transportation Expense</th>\n",
       "      <th>Age</th>\n",
       "      <th>Body Mass Index</th>\n",
       "      <th>Education</th>\n",
       "      <th>Children</th>\n",
       "      <th>Pets</th>\n",
       "    </tr>\n",
       "  </thead>\n",
       "  <tbody>\n",
       "    <tr>\n",
       "      <th>535</th>\n",
       "      <td>0</td>\n",
       "      <td>0</td>\n",
       "      <td>0</td>\n",
       "      <td>1</td>\n",
       "      <td>1.324766</td>\n",
       "      <td>-0.654143</td>\n",
       "      <td>0.248310</td>\n",
       "      <td>1.002633</td>\n",
       "      <td>0</td>\n",
       "      <td>-0.919030</td>\n",
       "      <td>-0.589690</td>\n",
       "    </tr>\n",
       "    <tr>\n",
       "      <th>281</th>\n",
       "      <td>0</td>\n",
       "      <td>0</td>\n",
       "      <td>0</td>\n",
       "      <td>1</td>\n",
       "      <td>0.753746</td>\n",
       "      <td>1.036026</td>\n",
       "      <td>0.562059</td>\n",
       "      <td>-0.408580</td>\n",
       "      <td>0</td>\n",
       "      <td>-0.019280</td>\n",
       "      <td>0.268487</td>\n",
       "    </tr>\n",
       "    <tr>\n",
       "      <th>324</th>\n",
       "      <td>0</td>\n",
       "      <td>0</td>\n",
       "      <td>0</td>\n",
       "      <td>1</td>\n",
       "      <td>1.324766</td>\n",
       "      <td>0.190942</td>\n",
       "      <td>1.032682</td>\n",
       "      <td>2.649049</td>\n",
       "      <td>0</td>\n",
       "      <td>-0.019280</td>\n",
       "      <td>-0.589690</td>\n",
       "    </tr>\n",
       "    <tr>\n",
       "      <th>645</th>\n",
       "      <td>0</td>\n",
       "      <td>0</td>\n",
       "      <td>0</td>\n",
       "      <td>1</td>\n",
       "      <td>-0.959313</td>\n",
       "      <td>-0.654143</td>\n",
       "      <td>0.248310</td>\n",
       "      <td>1.002633</td>\n",
       "      <td>0</td>\n",
       "      <td>-0.919030</td>\n",
       "      <td>-0.589690</td>\n",
       "    </tr>\n",
       "    <tr>\n",
       "      <th>10</th>\n",
       "      <td>1</td>\n",
       "      <td>0</td>\n",
       "      <td>0</td>\n",
       "      <td>0</td>\n",
       "      <td>0.182726</td>\n",
       "      <td>0.568211</td>\n",
       "      <td>-0.065439</td>\n",
       "      <td>-0.878984</td>\n",
       "      <td>0</td>\n",
       "      <td>2.679969</td>\n",
       "      <td>-0.589690</td>\n",
       "    </tr>\n",
       "    <tr>\n",
       "      <th>...</th>\n",
       "      <td>...</td>\n",
       "      <td>...</td>\n",
       "      <td>...</td>\n",
       "      <td>...</td>\n",
       "      <td>...</td>\n",
       "      <td>...</td>\n",
       "      <td>...</td>\n",
       "      <td>...</td>\n",
       "      <td>...</td>\n",
       "      <td>...</td>\n",
       "      <td>...</td>\n",
       "    </tr>\n",
       "    <tr>\n",
       "      <th>136</th>\n",
       "      <td>0</td>\n",
       "      <td>0</td>\n",
       "      <td>0</td>\n",
       "      <td>1</td>\n",
       "      <td>-1.530333</td>\n",
       "      <td>1.005844</td>\n",
       "      <td>-0.536062</td>\n",
       "      <td>0.767431</td>\n",
       "      <td>0</td>\n",
       "      <td>0.880469</td>\n",
       "      <td>0.268487</td>\n",
       "    </tr>\n",
       "    <tr>\n",
       "      <th>430</th>\n",
       "      <td>0</td>\n",
       "      <td>0</td>\n",
       "      <td>0</td>\n",
       "      <td>1</td>\n",
       "      <td>-0.388293</td>\n",
       "      <td>2.092381</td>\n",
       "      <td>-1.320435</td>\n",
       "      <td>0.061825</td>\n",
       "      <td>0</td>\n",
       "      <td>-0.019280</td>\n",
       "      <td>2.843016</td>\n",
       "    </tr>\n",
       "    <tr>\n",
       "      <th>32</th>\n",
       "      <td>0</td>\n",
       "      <td>0</td>\n",
       "      <td>0</td>\n",
       "      <td>1</td>\n",
       "      <td>0.468236</td>\n",
       "      <td>0.190942</td>\n",
       "      <td>0.091435</td>\n",
       "      <td>0.532229</td>\n",
       "      <td>1</td>\n",
       "      <td>-0.019280</td>\n",
       "      <td>0.268487</td>\n",
       "    </tr>\n",
       "    <tr>\n",
       "      <th>449</th>\n",
       "      <td>0</td>\n",
       "      <td>0</td>\n",
       "      <td>0</td>\n",
       "      <td>1</td>\n",
       "      <td>-0.102784</td>\n",
       "      <td>0.356940</td>\n",
       "      <td>0.718933</td>\n",
       "      <td>-0.878984</td>\n",
       "      <td>0</td>\n",
       "      <td>-0.919030</td>\n",
       "      <td>-0.589690</td>\n",
       "    </tr>\n",
       "    <tr>\n",
       "      <th>59</th>\n",
       "      <td>0</td>\n",
       "      <td>0</td>\n",
       "      <td>0</td>\n",
       "      <td>1</td>\n",
       "      <td>0.753746</td>\n",
       "      <td>0.387122</td>\n",
       "      <td>1.660180</td>\n",
       "      <td>1.237836</td>\n",
       "      <td>0</td>\n",
       "      <td>0.880469</td>\n",
       "      <td>0.268487</td>\n",
       "    </tr>\n",
       "  </tbody>\n",
       "</table>\n",
       "<p>140 rows × 11 columns</p>\n",
       "</div>"
      ],
      "text/plain": [
       "     Reason_1  Reason_2  Reason_3  Reason_4  Month Value  \\\n",
       "535         0         0         0         1     1.324766   \n",
       "281         0         0         0         1     0.753746   \n",
       "324         0         0         0         1     1.324766   \n",
       "645         0         0         0         1    -0.959313   \n",
       "10          1         0         0         0     0.182726   \n",
       "..        ...       ...       ...       ...          ...   \n",
       "136         0         0         0         1    -1.530333   \n",
       "430         0         0         0         1    -0.388293   \n",
       "32          0         0         0         1     0.468236   \n",
       "449         0         0         0         1    -0.102784   \n",
       "59          0         0         0         1     0.753746   \n",
       "\n",
       "     Transportation Expense       Age  Body Mass Index  Education  Children  \\\n",
       "535               -0.654143  0.248310         1.002633          0 -0.919030   \n",
       "281                1.036026  0.562059        -0.408580          0 -0.019280   \n",
       "324                0.190942  1.032682         2.649049          0 -0.019280   \n",
       "645               -0.654143  0.248310         1.002633          0 -0.919030   \n",
       "10                 0.568211 -0.065439        -0.878984          0  2.679969   \n",
       "..                      ...       ...              ...        ...       ...   \n",
       "136                1.005844 -0.536062         0.767431          0  0.880469   \n",
       "430                2.092381 -1.320435         0.061825          0 -0.019280   \n",
       "32                 0.190942  0.091435         0.532229          1 -0.019280   \n",
       "449                0.356940  0.718933        -0.878984          0 -0.919030   \n",
       "59                 0.387122  1.660180         1.237836          0  0.880469   \n",
       "\n",
       "         Pets  \n",
       "535 -0.589690  \n",
       "281  0.268487  \n",
       "324 -0.589690  \n",
       "645 -0.589690  \n",
       "10  -0.589690  \n",
       "..        ...  \n",
       "136  0.268487  \n",
       "430  2.843016  \n",
       "32   0.268487  \n",
       "449 -0.589690  \n",
       "59   0.268487  \n",
       "\n",
       "[140 rows x 11 columns]"
      ]
     },
     "execution_count": 39,
     "metadata": {},
     "output_type": "execute_result"
    }
   ],
   "source": [
    "x_test"
   ]
  },
  {
   "cell_type": "code",
   "execution_count": 40,
   "id": "9d4cef6d",
   "metadata": {},
   "outputs": [
    {
     "name": "stdout",
     "output_type": "stream",
     "text": [
      "(560, 11) (560,)\n"
     ]
    }
   ],
   "source": [
    "print(x_train.shape, y_train.shape)"
   ]
  },
  {
   "cell_type": "code",
   "execution_count": 41,
   "id": "1c93ce4a",
   "metadata": {},
   "outputs": [
    {
     "name": "stdout",
     "output_type": "stream",
     "text": [
      "(140, 11) (140,)\n"
     ]
    }
   ],
   "source": [
    "print(x_test.shape, y_test.shape)"
   ]
  },
  {
   "cell_type": "markdown",
   "id": "15088286",
   "metadata": {},
   "source": [
    "## Logistic regression with sklearn."
   ]
  },
  {
   "cell_type": "markdown",
   "id": "a178dbbe",
   "metadata": {},
   "source": [
    "### Import the relevant modules. "
   ]
  },
  {
   "cell_type": "code",
   "execution_count": 42,
   "id": "4ee77b37",
   "metadata": {},
   "outputs": [],
   "source": [
    "from sklearn.linear_model import LogisticRegression\n",
    "from sklearn import metrics "
   ]
  },
  {
   "cell_type": "markdown",
   "id": "f7dadd00",
   "metadata": {},
   "source": [
    "###metrics module will be useful in evaluating the model. StatsModels are not always numerically stable for machine learning models."
   ]
  },
  {
   "cell_type": "markdown",
   "id": "6a3d3330",
   "metadata": {},
   "source": [
    "## Training the model."
   ]
  },
  {
   "cell_type": "markdown",
   "id": "2a8fe43b",
   "metadata": {},
   "source": [
    "### Declare a new variable which will be a LogisticRegression object. "
   ]
  },
  {
   "cell_type": "code",
   "execution_count": 43,
   "id": "780ed0f4",
   "metadata": {},
   "outputs": [],
   "source": [
    "reg = LogisticRegression()"
   ]
  },
  {
   "cell_type": "markdown",
   "id": "10e06c44",
   "metadata": {},
   "source": [
    "### Fit the regression. "
   ]
  },
  {
   "cell_type": "code",
   "execution_count": 44,
   "id": "69dea759",
   "metadata": {},
   "outputs": [
    {
     "data": {
      "text/plain": [
       "LogisticRegression()"
      ]
     },
     "execution_count": 44,
     "metadata": {},
     "output_type": "execute_result"
    }
   ],
   "source": [
    "reg.fit(x_train,y_train)"
   ]
  },
  {
   "cell_type": "markdown",
   "id": "057e953d",
   "metadata": {},
   "source": [
    "###This method does all the machine learning. "
   ]
  },
  {
   "cell_type": "markdown",
   "id": "cc0a3e2b",
   "metadata": {},
   "source": [
    "### Get all the default parameters of the logistic regression object. "
   ]
  },
  {
   "cell_type": "code",
   "execution_count": 45,
   "id": "8a26d62b",
   "metadata": {},
   "outputs": [
    {
     "name": "stdout",
     "output_type": "stream",
     "text": [
      "{'C': 1.0, 'class_weight': None, 'dual': False, 'fit_intercept': True, 'intercept_scaling': 1, 'l1_ratio': None, 'max_iter': 100, 'multi_class': 'auto', 'n_jobs': None, 'penalty': 'l2', 'random_state': None, 'solver': 'lbfgs', 'tol': 0.0001, 'verbose': 0, 'warm_start': False}\n"
     ]
    }
   ],
   "source": [
    "print(reg.get_params())"
   ]
  },
  {
   "cell_type": "markdown",
   "id": "a76c129b",
   "metadata": {},
   "source": [
    "###Each of these parameters can help improve the model one way or the other. "
   ]
  },
  {
   "cell_type": "markdown",
   "id": "343566c6",
   "metadata": {},
   "source": [
    "### Evaluate the accuracy of the model. "
   ]
  },
  {
   "cell_type": "code",
   "execution_count": 46,
   "id": "b21883f1",
   "metadata": {},
   "outputs": [
    {
     "data": {
      "text/plain": [
       "0.7732142857142857"
      ]
     },
     "execution_count": 46,
     "metadata": {},
     "output_type": "execute_result"
    }
   ],
   "source": [
    "reg.score(x_train,y_train)"
   ]
  },
  {
   "cell_type": "markdown",
   "id": "8ece8d1a",
   "metadata": {},
   "source": [
    "###The model has an accuracy of 0.8 that means based on the data we used, the model learned to classify 80% of the observations correctly. "
   ]
  },
  {
   "cell_type": "markdown",
   "id": "47d60dd9",
   "metadata": {},
   "source": [
    "### Manually check the accuracy. "
   ]
  },
  {
   "cell_type": "markdown",
   "id": "5ac8fbb3",
   "metadata": {},
   "source": [
    "###The LogisticRegression model is trained on the train inputs. Based on them, it finds outputs which are trying to be as close to the targets as possible. Accuracy means that x% of the model outputs match the targets. To find the accuracy manually, we should find the outputs and compare them with the targets. "
   ]
  },
  {
   "cell_type": "markdown",
   "id": "db2b1d24",
   "metadata": {},
   "source": [
    "### Find model outputs using sklearn. \n",
    "\n",
    "reg.predict method finds the predicted output of the regression for the inputs in x_train. "
   ]
  },
  {
   "cell_type": "code",
   "execution_count": 47,
   "id": "365e53ca",
   "metadata": {},
   "outputs": [
    {
     "data": {
      "text/plain": [
       "array([0, 1, 1, 1, 1, 0, 0, 1, 0, 1, 1, 1, 0, 1, 0, 0, 0, 0, 0, 1, 1, 0,\n",
       "       0, 0, 0, 0, 0, 1, 1, 0, 0, 1, 0, 1, 0, 0, 1, 0, 0, 0, 1, 0, 1, 1,\n",
       "       1, 0, 0, 0, 1, 1, 0, 1, 0, 0, 0, 1, 1, 0, 0, 0, 0, 0, 1, 0, 0, 0,\n",
       "       0, 0, 0, 0, 0, 1, 1, 0, 0, 0, 1, 0, 0, 1, 1, 1, 0, 0, 0, 1, 1, 0,\n",
       "       0, 1, 0, 0, 1, 0, 0, 0, 0, 1, 0, 1, 1, 1, 1, 0, 1, 1, 0, 0, 1, 0,\n",
       "       0, 1, 0, 1, 1, 0, 0, 0, 1, 1, 1, 1, 1, 0, 0, 1, 0, 1, 0, 0, 1, 0,\n",
       "       0, 0, 0, 0, 1, 0, 0, 0, 0, 0, 1, 1, 1, 0, 0, 1, 0, 1, 0, 0, 1, 0,\n",
       "       1, 1, 0, 1, 0, 0, 1, 0, 1, 0, 0, 1, 1, 0, 1, 1, 0, 0, 0, 0, 1, 0,\n",
       "       0, 0, 0, 0, 1, 0, 0, 1, 1, 0, 0, 1, 0, 0, 1, 1, 1, 0, 0, 0, 0, 1,\n",
       "       1, 0, 0, 1, 1, 1, 1, 0, 1, 0, 0, 0, 1, 1, 1, 0, 0, 0, 0, 0, 0, 1,\n",
       "       1, 0, 0, 0, 1, 0, 0, 1, 1, 0, 0, 1, 1, 0, 0, 1, 1, 0, 0, 0, 0, 1,\n",
       "       0, 0, 1, 0, 1, 1, 1, 0, 1, 0, 1, 0, 1, 0, 1, 1, 0, 1, 1, 1, 1, 1,\n",
       "       0, 0, 0, 0, 0, 0, 1, 1, 0, 0, 1, 0, 1, 1, 0, 1, 0, 0, 1, 0, 1, 0,\n",
       "       0, 0, 1, 0, 0, 0, 0, 1, 1, 1, 1, 1, 1, 1, 0, 0, 0, 0, 0, 1, 0, 0,\n",
       "       1, 0, 0, 0, 1, 0, 1, 0, 1, 1, 0, 0, 0, 0, 1, 1, 1, 1, 0, 0, 1, 1,\n",
       "       0, 0, 1, 0, 0, 1, 0, 0, 0, 0, 0, 0, 0, 0, 0, 1, 1, 1, 0, 0, 0, 1,\n",
       "       0, 0, 1, 0, 1, 1, 0, 0, 1, 0, 1, 1, 1, 0, 0, 0, 0, 1, 1, 1, 0, 0,\n",
       "       1, 1, 1, 1, 0, 0, 1, 1, 0, 1, 0, 1, 1, 1, 0, 1, 0, 1, 1, 0, 0, 0,\n",
       "       0, 0, 0, 0, 0, 1, 1, 0, 1, 1, 0, 1, 0, 0, 0, 1, 1, 0, 1, 1, 1, 0,\n",
       "       0, 0, 0, 1, 0, 0, 1, 0, 0, 1, 0, 0, 1, 0, 1, 1, 1, 0, 0, 1, 1, 0,\n",
       "       0, 0, 0, 0, 0, 0, 0, 0, 1, 1, 1, 1, 1, 0, 1, 1, 0, 0, 0, 0, 0, 0,\n",
       "       1, 1, 0, 0, 0, 0, 1, 0, 0, 0, 1, 0, 1, 1, 0, 0, 1, 0, 0, 1, 0, 0,\n",
       "       0, 0, 0, 0, 0, 1, 0, 0, 1, 0, 0, 0, 0, 1, 0, 0, 1, 0, 1, 0, 0, 0,\n",
       "       0, 1, 1, 1, 1, 0, 0, 0, 1, 1, 1, 1, 0, 0, 1, 1, 0, 0, 1, 0, 1, 1,\n",
       "       0, 1, 1, 0, 1, 1, 1, 0, 0, 0, 1, 1, 1, 0, 1, 1, 0, 1, 1, 0, 0, 0,\n",
       "       0, 1, 0, 1, 1, 1, 0, 0, 0, 0])"
      ]
     },
     "execution_count": 47,
     "metadata": {},
     "output_type": "execute_result"
    }
   ],
   "source": [
    "model_outputs = reg.predict(x_train)\n",
    "model_outputs"
   ]
  },
  {
   "cell_type": "markdown",
   "id": "374b09d0",
   "metadata": {},
   "source": [
    "###The predictions of the model is an array of 0s and 1s. "
   ]
  },
  {
   "cell_type": "markdown",
   "id": "2c7fd2e8",
   "metadata": {},
   "source": [
    "### Display the targets.\n",
    "\n",
    "We will now compare these targets with the predictions. "
   ]
  },
  {
   "cell_type": "code",
   "execution_count": 48,
   "id": "ef67585e",
   "metadata": {},
   "outputs": [
    {
     "data": {
      "text/plain": [
       "array([0, 1, 1, 1, 1, 0, 0, 1, 0, 1, 0, 1, 1, 0, 0, 0, 0, 0, 1, 1, 0, 0,\n",
       "       1, 1, 0, 0, 0, 0, 1, 0, 0, 1, 0, 1, 0, 0, 0, 1, 1, 1, 1, 0, 1, 1,\n",
       "       1, 0, 0, 0, 1, 1, 1, 1, 0, 0, 0, 1, 1, 0, 0, 1, 0, 0, 1, 0, 0, 0,\n",
       "       0, 0, 0, 1, 0, 1, 1, 0, 0, 1, 1, 0, 0, 1, 1, 0, 0, 1, 0, 1, 0, 1,\n",
       "       1, 1, 0, 0, 1, 0, 0, 0, 0, 0, 0, 1, 1, 1, 1, 0, 1, 1, 0, 0, 1, 0,\n",
       "       0, 1, 1, 1, 1, 0, 0, 1, 1, 1, 1, 1, 0, 0, 0, 1, 0, 1, 0, 0, 1, 1,\n",
       "       0, 0, 0, 0, 0, 0, 0, 0, 0, 0, 1, 0, 1, 1, 0, 0, 0, 1, 0, 0, 0, 1,\n",
       "       0, 1, 0, 0, 0, 1, 1, 0, 1, 1, 0, 0, 1, 1, 1, 0, 0, 0, 0, 0, 1, 0,\n",
       "       0, 0, 0, 0, 1, 0, 0, 1, 1, 1, 0, 1, 0, 0, 0, 1, 1, 0, 0, 0, 0, 1,\n",
       "       1, 0, 0, 1, 1, 1, 0, 0, 0, 1, 0, 0, 1, 1, 1, 0, 0, 1, 0, 1, 0, 0,\n",
       "       1, 0, 0, 0, 0, 0, 1, 0, 1, 0, 0, 1, 1, 1, 1, 0, 1, 1, 0, 0, 0, 0,\n",
       "       0, 0, 1, 0, 1, 1, 1, 1, 1, 0, 1, 0, 1, 0, 1, 1, 1, 1, 1, 1, 0, 0,\n",
       "       0, 0, 0, 0, 0, 0, 0, 1, 0, 0, 1, 0, 1, 0, 1, 0, 0, 0, 1, 0, 0, 0,\n",
       "       1, 0, 1, 0, 0, 0, 0, 1, 0, 1, 0, 0, 1, 1, 0, 0, 0, 1, 0, 1, 0, 0,\n",
       "       0, 1, 0, 1, 1, 0, 1, 0, 1, 1, 0, 0, 1, 0, 1, 0, 0, 1, 0, 0, 1, 1,\n",
       "       1, 0, 0, 0, 0, 1, 1, 1, 0, 0, 0, 1, 0, 1, 0, 1, 1, 1, 0, 0, 0, 1,\n",
       "       0, 0, 1, 0, 1, 1, 0, 0, 0, 0, 1, 0, 1, 1, 0, 0, 0, 1, 1, 1, 0, 0,\n",
       "       1, 1, 1, 1, 0, 0, 1, 0, 0, 1, 0, 0, 1, 1, 1, 1, 1, 1, 1, 0, 1, 0,\n",
       "       0, 0, 0, 0, 0, 0, 1, 0, 1, 1, 0, 1, 0, 0, 0, 1, 1, 0, 0, 1, 1, 1,\n",
       "       0, 1, 0, 1, 0, 0, 1, 0, 1, 1, 0, 1, 1, 1, 1, 1, 1, 0, 0, 0, 0, 0,\n",
       "       0, 0, 0, 1, 0, 0, 0, 0, 0, 1, 0, 1, 1, 0, 0, 0, 0, 0, 0, 0, 1, 0,\n",
       "       1, 1, 0, 0, 0, 0, 1, 0, 1, 0, 1, 1, 0, 1, 0, 1, 1, 0, 0, 1, 0, 0,\n",
       "       1, 1, 0, 0, 1, 1, 0, 0, 1, 1, 0, 0, 0, 1, 0, 1, 1, 0, 1, 0, 0, 1,\n",
       "       0, 1, 0, 0, 1, 0, 0, 1, 1, 1, 1, 1, 0, 1, 1, 1, 1, 1, 0, 0, 1, 0,\n",
       "       0, 1, 1, 1, 1, 1, 1, 0, 0, 0, 1, 1, 1, 1, 1, 1, 0, 1, 1, 0, 0, 0,\n",
       "       0, 0, 0, 1, 1, 1, 1, 0, 1, 0])"
      ]
     },
     "execution_count": 48,
     "metadata": {},
     "output_type": "execute_result"
    }
   ],
   "source": [
    "y_train"
   ]
  },
  {
   "cell_type": "markdown",
   "id": "905ca291",
   "metadata": {},
   "source": [
    "### Compare the model predictions with the targets.  "
   ]
  },
  {
   "cell_type": "code",
   "execution_count": 49,
   "id": "923342a6",
   "metadata": {},
   "outputs": [
    {
     "data": {
      "text/plain": [
       "array([ True,  True,  True,  True,  True,  True,  True,  True,  True,\n",
       "        True, False,  True, False, False,  True,  True,  True,  True,\n",
       "       False,  True, False,  True, False, False,  True,  True,  True,\n",
       "       False,  True,  True,  True,  True,  True,  True,  True,  True,\n",
       "       False, False, False, False,  True,  True,  True,  True,  True,\n",
       "        True,  True,  True,  True,  True, False,  True,  True,  True,\n",
       "        True,  True,  True,  True,  True, False,  True,  True,  True,\n",
       "        True,  True,  True,  True,  True,  True, False,  True,  True,\n",
       "        True,  True,  True, False,  True,  True,  True,  True,  True,\n",
       "       False,  True, False,  True,  True, False, False, False,  True,\n",
       "        True,  True,  True,  True,  True,  True,  True, False,  True,\n",
       "        True,  True,  True,  True,  True,  True,  True,  True,  True,\n",
       "        True,  True,  True,  True, False,  True,  True,  True,  True,\n",
       "       False,  True,  True,  True,  True, False,  True,  True,  True,\n",
       "        True,  True,  True,  True,  True, False,  True,  True,  True,\n",
       "        True, False,  True,  True,  True,  True,  True,  True, False,\n",
       "        True, False,  True, False,  True,  True,  True,  True, False,\n",
       "       False, False,  True,  True, False,  True, False,  True,  True,\n",
       "        True, False,  True, False,  True, False,  True, False,  True,\n",
       "        True,  True,  True,  True,  True,  True,  True,  True,  True,\n",
       "        True,  True,  True,  True,  True, False,  True,  True,  True,\n",
       "        True, False,  True,  True,  True,  True,  True,  True,  True,\n",
       "        True,  True,  True,  True,  True,  True, False,  True, False,\n",
       "       False,  True,  True,  True,  True,  True,  True,  True, False,\n",
       "        True, False,  True, False,  True,  True,  True,  True, False,\n",
       "        True, False, False,  True,  True,  True,  True,  True, False,\n",
       "       False, False,  True, False,  True,  True,  True, False,  True,\n",
       "        True,  True,  True,  True,  True,  True, False,  True,  True,\n",
       "        True,  True,  True,  True,  True,  True, False,  True,  True,\n",
       "        True, False, False,  True,  True,  True,  True,  True,  True,\n",
       "       False,  True,  True,  True,  True,  True,  True, False, False,\n",
       "       False,  True,  True,  True,  True, False,  True, False,  True,\n",
       "        True,  True,  True,  True,  True,  True, False,  True, False,\n",
       "       False,  True,  True,  True,  True,  True, False,  True,  True,\n",
       "        True,  True, False, False,  True, False,  True,  True,  True,\n",
       "        True,  True,  True,  True,  True, False,  True,  True, False,\n",
       "       False,  True,  True,  True,  True,  True, False,  True, False,\n",
       "        True,  True,  True, False, False,  True,  True,  True, False,\n",
       "        True, False,  True,  True,  True,  True,  True,  True,  True,\n",
       "        True,  True,  True,  True,  True,  True,  True,  True,  True,\n",
       "       False,  True,  True, False,  True, False,  True,  True,  True,\n",
       "        True,  True,  True,  True,  True,  True,  True,  True,  True,\n",
       "        True,  True,  True, False,  True,  True,  True, False,  True,\n",
       "        True, False,  True, False,  True,  True,  True, False,  True,\n",
       "        True,  True,  True,  True,  True, False,  True,  True,  True,\n",
       "        True,  True,  True,  True,  True,  True,  True,  True,  True,\n",
       "       False,  True,  True, False,  True, False,  True,  True,  True,\n",
       "        True,  True,  True, False,  True,  True, False,  True, False,\n",
       "        True,  True,  True,  True,  True, False, False,  True,  True,\n",
       "        True,  True, False,  True,  True,  True,  True, False,  True,\n",
       "       False,  True,  True,  True, False, False,  True,  True,  True,\n",
       "        True, False,  True,  True,  True,  True,  True,  True,  True,\n",
       "        True,  True, False,  True,  True, False, False,  True,  True,\n",
       "       False,  True,  True,  True,  True,  True,  True, False, False,\n",
       "        True,  True, False,  True,  True,  True,  True, False,  True,\n",
       "        True,  True,  True,  True, False,  True,  True,  True,  True,\n",
       "        True, False,  True,  True, False, False,  True,  True,  True,\n",
       "       False,  True,  True,  True,  True,  True, False,  True,  True,\n",
       "       False, False, False,  True,  True, False,  True,  True,  True,\n",
       "       False,  True,  True,  True,  True,  True,  True,  True,  True,\n",
       "        True, False,  True,  True,  True,  True,  True,  True,  True,\n",
       "        True,  True, False,  True,  True,  True,  True, False,  True,\n",
       "       False,  True])"
      ]
     },
     "execution_count": 49,
     "metadata": {},
     "output_type": "execute_result"
    }
   ],
   "source": [
    "model_outputs == y_train"
   ]
  },
  {
   "cell_type": "markdown",
   "id": "3c90223c",
   "metadata": {},
   "source": [
    "### Sum the True which is equal to 1 and False which is equal to 0 in the above array. "
   ]
  },
  {
   "cell_type": "code",
   "execution_count": 50,
   "id": "0382728b",
   "metadata": {},
   "outputs": [
    {
     "data": {
      "text/plain": [
       "433"
      ]
     },
     "execution_count": 50,
     "metadata": {},
     "output_type": "execute_result"
    }
   ],
   "source": [
    "np.sum((model_outputs == y_train))"
   ]
  },
  {
   "cell_type": "markdown",
   "id": "f30b30ed",
   "metadata": {},
   "source": [
    "###Accuracy will be Number of correct predictions / total number of observations. "
   ]
  },
  {
   "cell_type": "code",
   "execution_count": 51,
   "id": "d570cf16",
   "metadata": {
    "scrolled": true
   },
   "outputs": [
    {
     "data": {
      "text/plain": [
       "560"
      ]
     },
     "execution_count": 51,
     "metadata": {},
     "output_type": "execute_result"
    }
   ],
   "source": [
    "model_outputs.shape[0]"
   ]
  },
  {
   "cell_type": "markdown",
   "id": "392a047f",
   "metadata": {},
   "source": [
    "###Total number of observations is 560. "
   ]
  },
  {
   "cell_type": "code",
   "execution_count": 52,
   "id": "eec261ca",
   "metadata": {},
   "outputs": [
    {
     "data": {
      "text/plain": [
       "0.7732142857142857"
      ]
     },
     "execution_count": 52,
     "metadata": {},
     "output_type": "execute_result"
    }
   ],
   "source": [
    "Accuracy = np.sum((model_outputs == y_train))/model_outputs.shape[0]\n",
    "Accuracy"
   ]
  },
  {
   "cell_type": "markdown",
   "id": "a9c24011",
   "metadata": {},
   "source": [
    "###This result is the same as the accuracy calculated using sklearn method score(). "
   ]
  },
  {
   "cell_type": "markdown",
   "id": "e8d1b533",
   "metadata": {},
   "source": [
    "## Finding the intercept and coefficients. \n",
    "\n",
    "To use this regression model outside Python, we need to determine coefficients or weights which we apply to the inputs to obtain a final result. \n"
   ]
  },
  {
   "cell_type": "markdown",
   "id": "059f2498",
   "metadata": {},
   "source": [
    "#Intercept"
   ]
  },
  {
   "cell_type": "code",
   "execution_count": 53,
   "id": "49cf1600",
   "metadata": {},
   "outputs": [
    {
     "data": {
      "text/plain": [
       "array([-1.6474549])"
      ]
     },
     "execution_count": 53,
     "metadata": {},
     "output_type": "execute_result"
    }
   ],
   "source": [
    "reg.intercept_"
   ]
  },
  {
   "cell_type": "markdown",
   "id": "2ed43cba",
   "metadata": {},
   "source": [
    "#Coefficients"
   ]
  },
  {
   "cell_type": "code",
   "execution_count": 54,
   "id": "96d5ab21",
   "metadata": {
    "scrolled": true
   },
   "outputs": [
    {
     "data": {
      "text/plain": [
       "array([[ 2.80019733,  0.95188356,  3.11555338,  0.83900082,  0.1589299 ,\n",
       "         0.60528415, -0.16989096,  0.27981088, -0.21053312,  0.34826214,\n",
       "        -0.27739602]])"
      ]
     },
     "execution_count": 54,
     "metadata": {},
     "output_type": "execute_result"
    }
   ],
   "source": [
    "reg.coef_"
   ]
  },
  {
   "cell_type": "markdown",
   "id": "6b7ec8cb",
   "metadata": {},
   "source": [
    "### We want to know what variables those coefficients refer to. "
   ]
  },
  {
   "cell_type": "markdown",
   "id": "336d502c",
   "metadata": {},
   "source": [
    "###scaled_inputs variable has the inputs. We can use scaled_inputs.columns.values because scaled_inputs is a dataframe whereas an ndarray will not have columns. "
   ]
  },
  {
   "cell_type": "code",
   "execution_count": 55,
   "id": "cb50c3f0",
   "metadata": {},
   "outputs": [
    {
     "data": {
      "text/plain": [
       "pandas.core.frame.DataFrame"
      ]
     },
     "execution_count": 55,
     "metadata": {},
     "output_type": "execute_result"
    }
   ],
   "source": [
    "type(scaled_inputs)"
   ]
  },
  {
   "cell_type": "code",
   "execution_count": 56,
   "id": "4e1c9db7",
   "metadata": {
    "scrolled": true
   },
   "outputs": [
    {
     "data": {
      "text/plain": [
       "array(['Reason_1', 'Reason_2', 'Reason_3', 'Reason_4', 'Month Value',\n",
       "       'Transportation Expense', 'Age', 'Body Mass Index', 'Education',\n",
       "       'Children', 'Pets'], dtype=object)"
      ]
     },
     "execution_count": 56,
     "metadata": {},
     "output_type": "execute_result"
    }
   ],
   "source": [
    "scaled_inputs.columns.values"
   ]
  },
  {
   "cell_type": "markdown",
   "id": "8a7a6102",
   "metadata": {},
   "source": [
    "###Unscaled_inputs variable has the pandas dataframe. "
   ]
  },
  {
   "cell_type": "code",
   "execution_count": 57,
   "id": "46718b1f",
   "metadata": {},
   "outputs": [
    {
     "data": {
      "text/plain": [
       "array(['Reason_1', 'Reason_2', 'Reason_3', 'Reason_4', 'Month Value',\n",
       "       'Transportation Expense', 'Age', 'Body Mass Index', 'Education',\n",
       "       'Children', 'Pets'], dtype=object)"
      ]
     },
     "execution_count": 57,
     "metadata": {},
     "output_type": "execute_result"
    }
   ],
   "source": [
    "unscaled_inputs.columns.values"
   ]
  },
  {
   "cell_type": "markdown",
   "id": "68085dc0",
   "metadata": {},
   "source": [
    "### Declare a new variable that will contain these column values. "
   ]
  },
  {
   "cell_type": "code",
   "execution_count": 58,
   "id": "b0cf2cc7",
   "metadata": {},
   "outputs": [],
   "source": [
    "feature_name = unscaled_inputs.columns.values"
   ]
  },
  {
   "cell_type": "markdown",
   "id": "3bfab5f5",
   "metadata": {},
   "source": [
    "### Create a dataframe that will contain the intercept, feature_name, and the corresponding coefficients. The dataframe will be called summary_table. \n",
    "\n",
    "We must transpose this array because by default ND arrays (reg.coef_) are rows and not columns."
   ]
  },
  {
   "cell_type": "code",
   "execution_count": 59,
   "id": "8b6e8c9f",
   "metadata": {},
   "outputs": [
    {
     "data": {
      "text/html": [
       "<div>\n",
       "<style scoped>\n",
       "    .dataframe tbody tr th:only-of-type {\n",
       "        vertical-align: middle;\n",
       "    }\n",
       "\n",
       "    .dataframe tbody tr th {\n",
       "        vertical-align: top;\n",
       "    }\n",
       "\n",
       "    .dataframe thead th {\n",
       "        text-align: right;\n",
       "    }\n",
       "</style>\n",
       "<table border=\"1\" class=\"dataframe\">\n",
       "  <thead>\n",
       "    <tr style=\"text-align: right;\">\n",
       "      <th></th>\n",
       "      <th>Feature name</th>\n",
       "      <th>Coefficient</th>\n",
       "    </tr>\n",
       "  </thead>\n",
       "  <tbody>\n",
       "    <tr>\n",
       "      <th>0</th>\n",
       "      <td>Reason_1</td>\n",
       "      <td>2.800197</td>\n",
       "    </tr>\n",
       "    <tr>\n",
       "      <th>1</th>\n",
       "      <td>Reason_2</td>\n",
       "      <td>0.951884</td>\n",
       "    </tr>\n",
       "    <tr>\n",
       "      <th>2</th>\n",
       "      <td>Reason_3</td>\n",
       "      <td>3.115553</td>\n",
       "    </tr>\n",
       "    <tr>\n",
       "      <th>3</th>\n",
       "      <td>Reason_4</td>\n",
       "      <td>0.839001</td>\n",
       "    </tr>\n",
       "    <tr>\n",
       "      <th>4</th>\n",
       "      <td>Month Value</td>\n",
       "      <td>0.158930</td>\n",
       "    </tr>\n",
       "    <tr>\n",
       "      <th>5</th>\n",
       "      <td>Transportation Expense</td>\n",
       "      <td>0.605284</td>\n",
       "    </tr>\n",
       "    <tr>\n",
       "      <th>6</th>\n",
       "      <td>Age</td>\n",
       "      <td>-0.169891</td>\n",
       "    </tr>\n",
       "    <tr>\n",
       "      <th>7</th>\n",
       "      <td>Body Mass Index</td>\n",
       "      <td>0.279811</td>\n",
       "    </tr>\n",
       "    <tr>\n",
       "      <th>8</th>\n",
       "      <td>Education</td>\n",
       "      <td>-0.210533</td>\n",
       "    </tr>\n",
       "    <tr>\n",
       "      <th>9</th>\n",
       "      <td>Children</td>\n",
       "      <td>0.348262</td>\n",
       "    </tr>\n",
       "    <tr>\n",
       "      <th>10</th>\n",
       "      <td>Pets</td>\n",
       "      <td>-0.277396</td>\n",
       "    </tr>\n",
       "  </tbody>\n",
       "</table>\n",
       "</div>"
      ],
      "text/plain": [
       "              Feature name  Coefficient\n",
       "0                 Reason_1     2.800197\n",
       "1                 Reason_2     0.951884\n",
       "2                 Reason_3     3.115553\n",
       "3                 Reason_4     0.839001\n",
       "4              Month Value     0.158930\n",
       "5   Transportation Expense     0.605284\n",
       "6                      Age    -0.169891\n",
       "7          Body Mass Index     0.279811\n",
       "8                Education    -0.210533\n",
       "9                 Children     0.348262\n",
       "10                    Pets    -0.277396"
      ]
     },
     "execution_count": 59,
     "metadata": {},
     "output_type": "execute_result"
    }
   ],
   "source": [
    "summary_table = pd.DataFrame(columns = ['Feature name'], data = feature_name)\n",
    "\n",
    "summary_table['Coefficient'] = np.transpose(reg.coef_)\n",
    "\n",
    "summary_table"
   ]
  },
  {
   "cell_type": "markdown",
   "id": "a66c540b",
   "metadata": {},
   "source": [
    "###We need to transpose the reg.coef_ because by default ndarrays are rows and not columns. Intercept can be added using the append or concatenate method. These methods will add the newly appended data at the end of the dataframe. Another method is to shift indices of the summary table by 1.\n",
    "\n",
    "We'll specify the zeroth element so we can extract the float rather than the whole array."
   ]
  },
  {
   "cell_type": "code",
   "execution_count": 60,
   "id": "6f18c9a6",
   "metadata": {},
   "outputs": [
    {
     "data": {
      "text/html": [
       "<div>\n",
       "<style scoped>\n",
       "    .dataframe tbody tr th:only-of-type {\n",
       "        vertical-align: middle;\n",
       "    }\n",
       "\n",
       "    .dataframe tbody tr th {\n",
       "        vertical-align: top;\n",
       "    }\n",
       "\n",
       "    .dataframe thead th {\n",
       "        text-align: right;\n",
       "    }\n",
       "</style>\n",
       "<table border=\"1\" class=\"dataframe\">\n",
       "  <thead>\n",
       "    <tr style=\"text-align: right;\">\n",
       "      <th></th>\n",
       "      <th>Feature name</th>\n",
       "      <th>Coefficient</th>\n",
       "    </tr>\n",
       "  </thead>\n",
       "  <tbody>\n",
       "    <tr>\n",
       "      <th>0</th>\n",
       "      <td>Bias</td>\n",
       "      <td>-1.647455</td>\n",
       "    </tr>\n",
       "    <tr>\n",
       "      <th>1</th>\n",
       "      <td>Reason_1</td>\n",
       "      <td>2.800197</td>\n",
       "    </tr>\n",
       "    <tr>\n",
       "      <th>2</th>\n",
       "      <td>Reason_2</td>\n",
       "      <td>0.951884</td>\n",
       "    </tr>\n",
       "    <tr>\n",
       "      <th>3</th>\n",
       "      <td>Reason_3</td>\n",
       "      <td>3.115553</td>\n",
       "    </tr>\n",
       "    <tr>\n",
       "      <th>4</th>\n",
       "      <td>Reason_4</td>\n",
       "      <td>0.839001</td>\n",
       "    </tr>\n",
       "    <tr>\n",
       "      <th>5</th>\n",
       "      <td>Month Value</td>\n",
       "      <td>0.158930</td>\n",
       "    </tr>\n",
       "    <tr>\n",
       "      <th>6</th>\n",
       "      <td>Transportation Expense</td>\n",
       "      <td>0.605284</td>\n",
       "    </tr>\n",
       "    <tr>\n",
       "      <th>7</th>\n",
       "      <td>Age</td>\n",
       "      <td>-0.169891</td>\n",
       "    </tr>\n",
       "    <tr>\n",
       "      <th>8</th>\n",
       "      <td>Body Mass Index</td>\n",
       "      <td>0.279811</td>\n",
       "    </tr>\n",
       "    <tr>\n",
       "      <th>9</th>\n",
       "      <td>Education</td>\n",
       "      <td>-0.210533</td>\n",
       "    </tr>\n",
       "    <tr>\n",
       "      <th>10</th>\n",
       "      <td>Children</td>\n",
       "      <td>0.348262</td>\n",
       "    </tr>\n",
       "    <tr>\n",
       "      <th>11</th>\n",
       "      <td>Pets</td>\n",
       "      <td>-0.277396</td>\n",
       "    </tr>\n",
       "  </tbody>\n",
       "</table>\n",
       "</div>"
      ],
      "text/plain": [
       "              Feature name  Coefficient\n",
       "0                     Bias    -1.647455\n",
       "1                 Reason_1     2.800197\n",
       "2                 Reason_2     0.951884\n",
       "3                 Reason_3     3.115553\n",
       "4                 Reason_4     0.839001\n",
       "5              Month Value     0.158930\n",
       "6   Transportation Expense     0.605284\n",
       "7                      Age    -0.169891\n",
       "8          Body Mass Index     0.279811\n",
       "9                Education    -0.210533\n",
       "10                Children     0.348262\n",
       "11                    Pets    -0.277396"
      ]
     },
     "execution_count": 60,
     "metadata": {},
     "output_type": "execute_result"
    }
   ],
   "source": [
    "summary_table.index = summary_table.index + 1\n",
    "summary_table.loc[0] = ['Bias', reg.intercept_[0]]\n",
    "summary_table = summary_table.sort_index()\n",
    "summary_table"
   ]
  },
  {
   "cell_type": "markdown",
   "id": "677f5ad5",
   "metadata": {},
   "source": [
    "## Interpreting the coefficients. "
   ]
  },
  {
   "cell_type": "markdown",
   "id": "ba0f43e9",
   "metadata": {},
   "source": [
    "### All these coefficients are log odds. Find the exponentials of these coefficients to make them more interpretable. \n",
    "\n",
    "The coefficient are also called weights while the intercept is called bias. The weights show how we weight a certain input. The closer they are to zero, the smaller the weight. Let's calculate the odds_ratio which is equal to the exponentials of these coefficients.  \n"
   ]
  },
  {
   "cell_type": "code",
   "execution_count": 61,
   "id": "c68c3e53",
   "metadata": {},
   "outputs": [
    {
     "data": {
      "text/html": [
       "<div>\n",
       "<style scoped>\n",
       "    .dataframe tbody tr th:only-of-type {\n",
       "        vertical-align: middle;\n",
       "    }\n",
       "\n",
       "    .dataframe tbody tr th {\n",
       "        vertical-align: top;\n",
       "    }\n",
       "\n",
       "    .dataframe thead th {\n",
       "        text-align: right;\n",
       "    }\n",
       "</style>\n",
       "<table border=\"1\" class=\"dataframe\">\n",
       "  <thead>\n",
       "    <tr style=\"text-align: right;\">\n",
       "      <th></th>\n",
       "      <th>Feature name</th>\n",
       "      <th>Coefficient</th>\n",
       "      <th>Odds_ratio</th>\n",
       "    </tr>\n",
       "  </thead>\n",
       "  <tbody>\n",
       "    <tr>\n",
       "      <th>0</th>\n",
       "      <td>Bias</td>\n",
       "      <td>-1.647455</td>\n",
       "      <td>0.192539</td>\n",
       "    </tr>\n",
       "    <tr>\n",
       "      <th>1</th>\n",
       "      <td>Reason_1</td>\n",
       "      <td>2.800197</td>\n",
       "      <td>16.447892</td>\n",
       "    </tr>\n",
       "    <tr>\n",
       "      <th>2</th>\n",
       "      <td>Reason_2</td>\n",
       "      <td>0.951884</td>\n",
       "      <td>2.590585</td>\n",
       "    </tr>\n",
       "    <tr>\n",
       "      <th>3</th>\n",
       "      <td>Reason_3</td>\n",
       "      <td>3.115553</td>\n",
       "      <td>22.545903</td>\n",
       "    </tr>\n",
       "    <tr>\n",
       "      <th>4</th>\n",
       "      <td>Reason_4</td>\n",
       "      <td>0.839001</td>\n",
       "      <td>2.314054</td>\n",
       "    </tr>\n",
       "    <tr>\n",
       "      <th>5</th>\n",
       "      <td>Month Value</td>\n",
       "      <td>0.158930</td>\n",
       "      <td>1.172256</td>\n",
       "    </tr>\n",
       "    <tr>\n",
       "      <th>6</th>\n",
       "      <td>Transportation Expense</td>\n",
       "      <td>0.605284</td>\n",
       "      <td>1.831773</td>\n",
       "    </tr>\n",
       "    <tr>\n",
       "      <th>7</th>\n",
       "      <td>Age</td>\n",
       "      <td>-0.169891</td>\n",
       "      <td>0.843757</td>\n",
       "    </tr>\n",
       "    <tr>\n",
       "      <th>8</th>\n",
       "      <td>Body Mass Index</td>\n",
       "      <td>0.279811</td>\n",
       "      <td>1.322880</td>\n",
       "    </tr>\n",
       "    <tr>\n",
       "      <th>9</th>\n",
       "      <td>Education</td>\n",
       "      <td>-0.210533</td>\n",
       "      <td>0.810152</td>\n",
       "    </tr>\n",
       "    <tr>\n",
       "      <th>10</th>\n",
       "      <td>Children</td>\n",
       "      <td>0.348262</td>\n",
       "      <td>1.416604</td>\n",
       "    </tr>\n",
       "    <tr>\n",
       "      <th>11</th>\n",
       "      <td>Pets</td>\n",
       "      <td>-0.277396</td>\n",
       "      <td>0.757754</td>\n",
       "    </tr>\n",
       "  </tbody>\n",
       "</table>\n",
       "</div>"
      ],
      "text/plain": [
       "              Feature name  Coefficient  Odds_ratio\n",
       "0                     Bias    -1.647455    0.192539\n",
       "1                 Reason_1     2.800197   16.447892\n",
       "2                 Reason_2     0.951884    2.590585\n",
       "3                 Reason_3     3.115553   22.545903\n",
       "4                 Reason_4     0.839001    2.314054\n",
       "5              Month Value     0.158930    1.172256\n",
       "6   Transportation Expense     0.605284    1.831773\n",
       "7                      Age    -0.169891    0.843757\n",
       "8          Body Mass Index     0.279811    1.322880\n",
       "9                Education    -0.210533    0.810152\n",
       "10                Children     0.348262    1.416604\n",
       "11                    Pets    -0.277396    0.757754"
      ]
     },
     "execution_count": 61,
     "metadata": {},
     "output_type": "execute_result"
    }
   ],
   "source": [
    "summary_table['Odds_ratio']= np.exp(summary_table.Coefficient)\n",
    "summary_table"
   ]
  },
  {
   "cell_type": "markdown",
   "id": "2e81ab4a",
   "metadata": {},
   "source": [
    "### Sort the dataframe using the sort_values method and 'Odds_ratio' column. "
   ]
  },
  {
   "cell_type": "code",
   "execution_count": 62,
   "id": "f92b01e3",
   "metadata": {},
   "outputs": [
    {
     "data": {
      "text/html": [
       "<div>\n",
       "<style scoped>\n",
       "    .dataframe tbody tr th:only-of-type {\n",
       "        vertical-align: middle;\n",
       "    }\n",
       "\n",
       "    .dataframe tbody tr th {\n",
       "        vertical-align: top;\n",
       "    }\n",
       "\n",
       "    .dataframe thead th {\n",
       "        text-align: right;\n",
       "    }\n",
       "</style>\n",
       "<table border=\"1\" class=\"dataframe\">\n",
       "  <thead>\n",
       "    <tr style=\"text-align: right;\">\n",
       "      <th></th>\n",
       "      <th>Feature name</th>\n",
       "      <th>Coefficient</th>\n",
       "      <th>Odds_ratio</th>\n",
       "    </tr>\n",
       "  </thead>\n",
       "  <tbody>\n",
       "    <tr>\n",
       "      <th>0</th>\n",
       "      <td>Bias</td>\n",
       "      <td>-1.647455</td>\n",
       "      <td>0.192539</td>\n",
       "    </tr>\n",
       "    <tr>\n",
       "      <th>11</th>\n",
       "      <td>Pets</td>\n",
       "      <td>-0.277396</td>\n",
       "      <td>0.757754</td>\n",
       "    </tr>\n",
       "    <tr>\n",
       "      <th>9</th>\n",
       "      <td>Education</td>\n",
       "      <td>-0.210533</td>\n",
       "      <td>0.810152</td>\n",
       "    </tr>\n",
       "    <tr>\n",
       "      <th>7</th>\n",
       "      <td>Age</td>\n",
       "      <td>-0.169891</td>\n",
       "      <td>0.843757</td>\n",
       "    </tr>\n",
       "    <tr>\n",
       "      <th>5</th>\n",
       "      <td>Month Value</td>\n",
       "      <td>0.158930</td>\n",
       "      <td>1.172256</td>\n",
       "    </tr>\n",
       "    <tr>\n",
       "      <th>8</th>\n",
       "      <td>Body Mass Index</td>\n",
       "      <td>0.279811</td>\n",
       "      <td>1.322880</td>\n",
       "    </tr>\n",
       "    <tr>\n",
       "      <th>10</th>\n",
       "      <td>Children</td>\n",
       "      <td>0.348262</td>\n",
       "      <td>1.416604</td>\n",
       "    </tr>\n",
       "    <tr>\n",
       "      <th>6</th>\n",
       "      <td>Transportation Expense</td>\n",
       "      <td>0.605284</td>\n",
       "      <td>1.831773</td>\n",
       "    </tr>\n",
       "    <tr>\n",
       "      <th>4</th>\n",
       "      <td>Reason_4</td>\n",
       "      <td>0.839001</td>\n",
       "      <td>2.314054</td>\n",
       "    </tr>\n",
       "    <tr>\n",
       "      <th>2</th>\n",
       "      <td>Reason_2</td>\n",
       "      <td>0.951884</td>\n",
       "      <td>2.590585</td>\n",
       "    </tr>\n",
       "    <tr>\n",
       "      <th>1</th>\n",
       "      <td>Reason_1</td>\n",
       "      <td>2.800197</td>\n",
       "      <td>16.447892</td>\n",
       "    </tr>\n",
       "    <tr>\n",
       "      <th>3</th>\n",
       "      <td>Reason_3</td>\n",
       "      <td>3.115553</td>\n",
       "      <td>22.545903</td>\n",
       "    </tr>\n",
       "  </tbody>\n",
       "</table>\n",
       "</div>"
      ],
      "text/plain": [
       "              Feature name  Coefficient  Odds_ratio\n",
       "0                     Bias    -1.647455    0.192539\n",
       "11                    Pets    -0.277396    0.757754\n",
       "9                Education    -0.210533    0.810152\n",
       "7                      Age    -0.169891    0.843757\n",
       "5              Month Value     0.158930    1.172256\n",
       "8          Body Mass Index     0.279811    1.322880\n",
       "10                Children     0.348262    1.416604\n",
       "6   Transportation Expense     0.605284    1.831773\n",
       "4                 Reason_4     0.839001    2.314054\n",
       "2                 Reason_2     0.951884    2.590585\n",
       "1                 Reason_1     2.800197   16.447892\n",
       "3                 Reason_3     3.115553   22.545903"
      ]
     },
     "execution_count": 62,
     "metadata": {},
     "output_type": "execute_result"
    }
   ],
   "source": [
    "summary_table.sort_values('Odds_ratio')"
   ]
  },
  {
   "cell_type": "markdown",
   "id": "658b921d",
   "metadata": {},
   "source": [
    "###By default, the coefficients are sorted in the ascending order. The most important ones are at the bottom. Specify ascending = False to order the coefficients in the descending order. "
   ]
  },
  {
   "cell_type": "code",
   "execution_count": 63,
   "id": "5fa6cff6",
   "metadata": {},
   "outputs": [
    {
     "data": {
      "text/html": [
       "<div>\n",
       "<style scoped>\n",
       "    .dataframe tbody tr th:only-of-type {\n",
       "        vertical-align: middle;\n",
       "    }\n",
       "\n",
       "    .dataframe tbody tr th {\n",
       "        vertical-align: top;\n",
       "    }\n",
       "\n",
       "    .dataframe thead th {\n",
       "        text-align: right;\n",
       "    }\n",
       "</style>\n",
       "<table border=\"1\" class=\"dataframe\">\n",
       "  <thead>\n",
       "    <tr style=\"text-align: right;\">\n",
       "      <th></th>\n",
       "      <th>Feature name</th>\n",
       "      <th>Coefficient</th>\n",
       "      <th>Odds_ratio</th>\n",
       "    </tr>\n",
       "  </thead>\n",
       "  <tbody>\n",
       "    <tr>\n",
       "      <th>3</th>\n",
       "      <td>Reason_3</td>\n",
       "      <td>3.115553</td>\n",
       "      <td>22.545903</td>\n",
       "    </tr>\n",
       "    <tr>\n",
       "      <th>1</th>\n",
       "      <td>Reason_1</td>\n",
       "      <td>2.800197</td>\n",
       "      <td>16.447892</td>\n",
       "    </tr>\n",
       "    <tr>\n",
       "      <th>2</th>\n",
       "      <td>Reason_2</td>\n",
       "      <td>0.951884</td>\n",
       "      <td>2.590585</td>\n",
       "    </tr>\n",
       "    <tr>\n",
       "      <th>4</th>\n",
       "      <td>Reason_4</td>\n",
       "      <td>0.839001</td>\n",
       "      <td>2.314054</td>\n",
       "    </tr>\n",
       "    <tr>\n",
       "      <th>6</th>\n",
       "      <td>Transportation Expense</td>\n",
       "      <td>0.605284</td>\n",
       "      <td>1.831773</td>\n",
       "    </tr>\n",
       "    <tr>\n",
       "      <th>10</th>\n",
       "      <td>Children</td>\n",
       "      <td>0.348262</td>\n",
       "      <td>1.416604</td>\n",
       "    </tr>\n",
       "    <tr>\n",
       "      <th>8</th>\n",
       "      <td>Body Mass Index</td>\n",
       "      <td>0.279811</td>\n",
       "      <td>1.322880</td>\n",
       "    </tr>\n",
       "    <tr>\n",
       "      <th>5</th>\n",
       "      <td>Month Value</td>\n",
       "      <td>0.158930</td>\n",
       "      <td>1.172256</td>\n",
       "    </tr>\n",
       "    <tr>\n",
       "      <th>7</th>\n",
       "      <td>Age</td>\n",
       "      <td>-0.169891</td>\n",
       "      <td>0.843757</td>\n",
       "    </tr>\n",
       "    <tr>\n",
       "      <th>9</th>\n",
       "      <td>Education</td>\n",
       "      <td>-0.210533</td>\n",
       "      <td>0.810152</td>\n",
       "    </tr>\n",
       "    <tr>\n",
       "      <th>11</th>\n",
       "      <td>Pets</td>\n",
       "      <td>-0.277396</td>\n",
       "      <td>0.757754</td>\n",
       "    </tr>\n",
       "    <tr>\n",
       "      <th>0</th>\n",
       "      <td>Bias</td>\n",
       "      <td>-1.647455</td>\n",
       "      <td>0.192539</td>\n",
       "    </tr>\n",
       "  </tbody>\n",
       "</table>\n",
       "</div>"
      ],
      "text/plain": [
       "              Feature name  Coefficient  Odds_ratio\n",
       "3                 Reason_3     3.115553   22.545903\n",
       "1                 Reason_1     2.800197   16.447892\n",
       "2                 Reason_2     0.951884    2.590585\n",
       "4                 Reason_4     0.839001    2.314054\n",
       "6   Transportation Expense     0.605284    1.831773\n",
       "10                Children     0.348262    1.416604\n",
       "8          Body Mass Index     0.279811    1.322880\n",
       "5              Month Value     0.158930    1.172256\n",
       "7                      Age    -0.169891    0.843757\n",
       "9                Education    -0.210533    0.810152\n",
       "11                    Pets    -0.277396    0.757754\n",
       "0                     Bias    -1.647455    0.192539"
      ]
     },
     "execution_count": 63,
     "metadata": {},
     "output_type": "execute_result"
    }
   ],
   "source": [
    "summary_table.sort_values('Odds_ratio', ascending = False)"
   ]
  },
  {
   "cell_type": "markdown",
   "id": "f62bd051",
   "metadata": {},
   "source": [
    "###If a coefficient is around 0 or if its odds ratio is around 1, this means that the corresponding feature is not particularly important. For one unit change in the standardized feature, the odds increase by a multiple equal to the odds ratio. A weight of 0 implies that the feature will be multiplied by 0 in the model, no matter the feature value and the whole result will be 0. \n",
    "For the odds ratio of 1, for a unit change in the standardized feature, the odds increase by a multiple equal to the odds ratio (1 = no change). The multiplication with 1 keeps the odds same. This makes sense as the odds ratio is 1 whenever the weight is 0. \n",
    "\n",
    "Daily Work Load Average, Distance to Work, and Day of the week are the variables with coefficients 0 and the Odds ratio 1. Given all features, Daily Work Load Average, Distance to Work, and Day of the week features seem to make no difference in the model. We will consider dropping these feature from the model later. \n",
    "\n",
    "Reason_1,Reason_2,Reason_3,and Reason_4 are the most important predictors. We dropped Reason_0 while creating dummies because Reason_0 was the situation when no reason was given. So the base model is the case when there is no reason. "
   ]
  },
  {
   "cell_type": "markdown",
   "id": "e6e1ff08",
   "metadata": {},
   "source": [
    "### Interpretation when we standardized dummy variables as well:\n",
    "\n",
    "When we standardize the inputs, we also standardize the dummies. Now we don't know how the different reasons compare. This is bad practice because when we standardize, we lose the whole interpretability of the dummy. If we had left the dummies as 0 and 1, we could have said: If the reason given is Reason_1, for a unit change, it is 7.92 times more likely that a person will be excessively absent compared to when no reason is given. \n",
    "\n",
    "We will need to correct the code where we standardized the data. In practice, we would avoid this above step by standardizing prior to creating the dummies. "
   ]
  },
  {
   "cell_type": "markdown",
   "id": "3c24d9f8",
   "metadata": {},
   "source": [
    "### Interpretation after standardizing only the numerical variables:\n",
    "\n",
    "#So by looking at the coefficients table, we will notice that the most strongly pronounced features seem to be the four reasons for absence, the Transportation Expense, body mass index and whether a person has children, pets, and education. Note that Pet and Education are at the bottom of the table but their weights are still far away from zero.\n",
    "\n",
    "### Reasons of Absence:\n",
    "The base model includes no reason. The five reason variables stand for: Reason zero or no reason is the baseline model, reason one comprising of various diseases, reason two relating to pregnancy and giving birth, reason three regarding poisoning and peculiar reasons not categorized elsewhere, and reason four, which relates to light diseases.\n",
    "\n",
    "The most crucial reason for excessive absence is reason3 poisoning. The weight means the odds of someone being excessively absent after being poisoned are 20 times higher than when no reason was reported. A person who has reported Reason1 various diseases is 16 times more likely to be excessively absent than a person who didn't specify a reason. A person giving a pregnancy reason2 is around two times more likely to be excessively absent than the base model. Similarly, a person giving a light diseases reason4 is around two times more likely to be excessively absent than the base model. There is an explanation for this pattern: people with reason2 and 4 go to the doctor for medical checkup and come back to work. "
   ]
  },
  {
   "cell_type": "markdown",
   "id": "bba31906",
   "metadata": {},
   "source": [
    "### Other numerical variables:\n",
    "\n",
    "Transportation Expense is the most important non-dummy feature in the model. The odds ratio means that for one standardized unit, or for one standard deviation increase in Transportation Expense, a person's odds of being excessively absent are multiplied by 1.85 compared to the base model or (1.85 -1) 85% increase in the odds of being excessively absent. \n",
    "\n",
    "Standardized models almost always yield higher accuracy because the optimization algorithms work better in this way. Machine learning engineers prefer models with higher accuracy, so they normally go for standardization. Econometricians and statisticians however, prefer less accurate but more interpretable models, because they care about the underlying reasons behind different phenomena. So it makes sense to create two different models. One with standardized features and one without them, and then draw insights from both.\n",
    "\n",
    "For Pets, the odds ratio is 0.75. So for each additional standardized unit of Pet, the odds are (1-0.75) one minus its odds ratio or 24% lower than the base model. This could be because if you have several pets, you're probably not taking care of them on your own. Not being solely responsible for them implies somebody else can take them to the doctor if something is wrong.\n",
    "\n",
    "\n",
    "\n"
   ]
  },
  {
   "cell_type": "markdown",
   "id": "f97e8033",
   "metadata": {},
   "source": [
    "### Backward Elimination\n",
    "\n",
    "#We can simplify our model by removing all features which have close to no contribution to the model. We can drop the three features we were just discussing: Day of the Week, Daily Work Load Average, and Distance to Work.\n"
   ]
  },
  {
   "cell_type": "markdown",
   "id": "23e8d8c8",
   "metadata": {},
   "source": [
    "## Testing the model "
   ]
  },
  {
   "cell_type": "markdown",
   "id": "78a67ad0",
   "metadata": {},
   "source": [
    "#So far when referring to the model accuracy, we meant the train accuracy. The train accuracy is around 77% but it does not mean much because our algorithm has seen this train data many times during the training process. So it has learned to model it quite well. However, it may fail miserably when provided with new data. We should test it on data it is never seen. It is time to use the test data. Also once we test the data, we are not conceptually allowed to touch the model anymore.\n",
    "\n",
    "Assess the test accuracy of the model."
   ]
  },
  {
   "cell_type": "code",
   "execution_count": 64,
   "id": "15645fe7",
   "metadata": {},
   "outputs": [
    {
     "data": {
      "text/plain": [
       "0.75"
      ]
     },
     "execution_count": 64,
     "metadata": {},
     "output_type": "execute_result"
    }
   ],
   "source": [
    "reg.score(x_test,y_test)"
   ]
  },
  {
   "cell_type": "markdown",
   "id": "60d415aa",
   "metadata": {},
   "source": [
    "#So based on data that the model has never seen before we can say that in 74% of the cases, the model will predict if a person is going to be excessively absent. The test accuracy is always around 10% or 20% lower than the train accuracy. \n",
    "\n",
    "Apart from the accuracy, we can also get the outputs using the predict method as before. Instead of zero and one, we can also get the probability of an output being zero or one. There is an SK learn method called predict proba."
   ]
  },
  {
   "cell_type": "markdown",
   "id": "46a48f98",
   "metadata": {},
   "source": [
    "#Find the predicted probabilities of each output 0 and 1. The first column shows the probability of a particular observation to be 0, while the second one to be 1. That's why summing any two numbers horizontally will give an output of one."
   ]
  },
  {
   "cell_type": "code",
   "execution_count": 65,
   "id": "85b659d0",
   "metadata": {},
   "outputs": [
    {
     "data": {
      "text/plain": [
       "array([[0.71340413, 0.28659587],\n",
       "       [0.58724228, 0.41275772],\n",
       "       [0.44020821, 0.55979179],\n",
       "       [0.78159464, 0.21840536],\n",
       "       [0.08410854, 0.91589146],\n",
       "       [0.33487603, 0.66512397],\n",
       "       [0.29984576, 0.70015424],\n",
       "       [0.13103971, 0.86896029],\n",
       "       [0.78625404, 0.21374596],\n",
       "       [0.74903632, 0.25096368],\n",
       "       [0.49397598, 0.50602402],\n",
       "       [0.22484913, 0.77515087],\n",
       "       [0.07129151, 0.92870849],\n",
       "       [0.73178133, 0.26821867],\n",
       "       [0.30934135, 0.69065865],\n",
       "       [0.5471671 , 0.4528329 ],\n",
       "       [0.55052275, 0.44947725],\n",
       "       [0.5392707 , 0.4607293 ],\n",
       "       [0.40201117, 0.59798883],\n",
       "       [0.05361575, 0.94638425],\n",
       "       [0.7003009 , 0.2996991 ],\n",
       "       [0.78159464, 0.21840536],\n",
       "       [0.42037128, 0.57962872],\n",
       "       [0.42037128, 0.57962872],\n",
       "       [0.24783565, 0.75216435],\n",
       "       [0.74566259, 0.25433741],\n",
       "       [0.51017274, 0.48982726],\n",
       "       [0.85690195, 0.14309805],\n",
       "       [0.20349733, 0.79650267],\n",
       "       [0.78159464, 0.21840536],\n",
       "       [0.63043442, 0.36956558],\n",
       "       [0.32093965, 0.67906035],\n",
       "       [0.31497433, 0.68502567],\n",
       "       [0.47131917, 0.52868083],\n",
       "       [0.78159464, 0.21840536],\n",
       "       [0.46493449, 0.53506551],\n",
       "       [0.77852919, 0.22147081],\n",
       "       [0.26307895, 0.73692105],\n",
       "       [0.59501956, 0.40498044],\n",
       "       [0.39494012, 0.60505988],\n",
       "       [0.78924152, 0.21075848],\n",
       "       [0.54775534, 0.45224466],\n",
       "       [0.76248708, 0.23751292],\n",
       "       [0.60166502, 0.39833498],\n",
       "       [0.17244553, 0.82755447],\n",
       "       [0.43202425, 0.56797575],\n",
       "       [0.30886675, 0.69113325],\n",
       "       [0.71340413, 0.28659587],\n",
       "       [0.78064733, 0.21935267],\n",
       "       [0.7966903 , 0.2033097 ],\n",
       "       [0.42371744, 0.57628256],\n",
       "       [0.6705336 , 0.3294664 ],\n",
       "       [0.33487603, 0.66512397],\n",
       "       [0.73050501, 0.26949499],\n",
       "       [0.16678032, 0.83321968],\n",
       "       [0.56508475, 0.43491525],\n",
       "       [0.11625388, 0.88374612],\n",
       "       [0.76872928, 0.23127072],\n",
       "       [0.66584142, 0.33415858],\n",
       "       [0.65567061, 0.34432939],\n",
       "       [0.30090655, 0.69909345],\n",
       "       [0.34505737, 0.65494263],\n",
       "       [0.70755059, 0.29244941],\n",
       "       [0.20799242, 0.79200758],\n",
       "       [0.79249724, 0.20750276],\n",
       "       [0.73159442, 0.26840558],\n",
       "       [0.91291434, 0.08708566],\n",
       "       [0.77852919, 0.22147081],\n",
       "       [0.26754583, 0.73245417],\n",
       "       [0.69469781, 0.30530219],\n",
       "       [0.77852919, 0.22147081],\n",
       "       [0.70985592, 0.29014408],\n",
       "       [0.09561809, 0.90438191],\n",
       "       [0.53938703, 0.46061297],\n",
       "       [0.39825313, 0.60174687],\n",
       "       [0.78159464, 0.21840536],\n",
       "       [0.22645293, 0.77354707],\n",
       "       [0.26837292, 0.73162708],\n",
       "       [0.25831165, 0.74168835],\n",
       "       [0.32855571, 0.67144429],\n",
       "       [0.75417184, 0.24582816],\n",
       "       [0.92387058, 0.07612942],\n",
       "       [0.76872928, 0.23127072],\n",
       "       [0.24741155, 0.75258845],\n",
       "       [0.56558369, 0.43441631],\n",
       "       [0.87775043, 0.12224957],\n",
       "       [0.29572951, 0.70427049],\n",
       "       [0.42037128, 0.57962872],\n",
       "       [0.75881641, 0.24118359],\n",
       "       [0.32093965, 0.67906035],\n",
       "       [0.82488593, 0.17511407],\n",
       "       [0.84950183, 0.15049817],\n",
       "       [0.77374985, 0.22625015],\n",
       "       [0.73159442, 0.26840558],\n",
       "       [0.74903632, 0.25096368],\n",
       "       [0.14944055, 0.85055945],\n",
       "       [0.70403751, 0.29596249],\n",
       "       [0.23713867, 0.76286133],\n",
       "       [0.75645005, 0.24354995],\n",
       "       [0.78203264, 0.21796736],\n",
       "       [0.37671823, 0.62328177],\n",
       "       [0.32093965, 0.67906035],\n",
       "       [0.30409309, 0.69590691],\n",
       "       [0.25542876, 0.74457124],\n",
       "       [0.55063861, 0.44936139],\n",
       "       [0.51677447, 0.48322553],\n",
       "       [0.72259112, 0.27740888],\n",
       "       [0.14944055, 0.85055945],\n",
       "       [0.2220274 , 0.7779726 ],\n",
       "       [0.85521156, 0.14478844],\n",
       "       [0.93001302, 0.06998698],\n",
       "       [0.09640551, 0.90359449],\n",
       "       [0.33736668, 0.66263332],\n",
       "       [0.66154998, 0.33845002],\n",
       "       [0.47623876, 0.52376124],\n",
       "       [0.43903262, 0.56096738],\n",
       "       [0.21378105, 0.78621895],\n",
       "       [0.17783793, 0.82216207],\n",
       "       [0.45811539, 0.54188461],\n",
       "       [0.6906917 , 0.3093083 ],\n",
       "       [0.74041049, 0.25958951],\n",
       "       [0.8393858 , 0.1606142 ],\n",
       "       [0.18777875, 0.81222125],\n",
       "       [0.54775534, 0.45224466],\n",
       "       [0.78159464, 0.21840536],\n",
       "       [0.64457904, 0.35542096],\n",
       "       [0.78924152, 0.21075848],\n",
       "       [0.89029009, 0.10970991],\n",
       "       [0.25937462, 0.74062538],\n",
       "       [0.7003009 , 0.2996991 ],\n",
       "       [0.38415023, 0.61584977],\n",
       "       [0.78924152, 0.21075848],\n",
       "       [0.70403751, 0.29596249],\n",
       "       [0.64457904, 0.35542096],\n",
       "       [0.73490357, 0.26509643],\n",
       "       [0.47623876, 0.52376124],\n",
       "       [0.5392707 , 0.4607293 ],\n",
       "       [0.68498978, 0.31501022],\n",
       "       [0.75645005, 0.24354995],\n",
       "       [0.53938703, 0.46061297]])"
      ]
     },
     "execution_count": 65,
     "metadata": {},
     "output_type": "execute_result"
    }
   ],
   "source": [
    "predicted_proba = reg.predict_proba(x_test)\n",
    "predicted_proba"
   ]
  },
  {
   "cell_type": "code",
   "execution_count": 66,
   "id": "34425c41",
   "metadata": {},
   "outputs": [
    {
     "data": {
      "text/plain": [
       "(140, 2)"
      ]
     },
     "execution_count": 66,
     "metadata": {},
     "output_type": "execute_result"
    }
   ],
   "source": [
    "predicted_proba.shape"
   ]
  },
  {
   "cell_type": "markdown",
   "id": "9e424c07",
   "metadata": {},
   "source": [
    "#Select ONLY the probabilities referring to 1s. We are interested in the probability of excessive absenteeism, so the probability of getting one. We can simply print out all values from the second column. This will give us the probabilities of absenteeism. Logistic regression models calculate these probabilities in the background. If the probability is below 0.5 it places a zero, otherwise a one.\n",
    "\n"
   ]
  },
  {
   "cell_type": "code",
   "execution_count": 67,
   "id": "e2f30d87",
   "metadata": {},
   "outputs": [
    {
     "data": {
      "text/plain": [
       "array([0.28659587, 0.41275772, 0.55979179, 0.21840536, 0.91589146,\n",
       "       0.66512397, 0.70015424, 0.86896029, 0.21374596, 0.25096368,\n",
       "       0.50602402, 0.77515087, 0.92870849, 0.26821867, 0.69065865,\n",
       "       0.4528329 , 0.44947725, 0.4607293 , 0.59798883, 0.94638425,\n",
       "       0.2996991 , 0.21840536, 0.57962872, 0.57962872, 0.75216435,\n",
       "       0.25433741, 0.48982726, 0.14309805, 0.79650267, 0.21840536,\n",
       "       0.36956558, 0.67906035, 0.68502567, 0.52868083, 0.21840536,\n",
       "       0.53506551, 0.22147081, 0.73692105, 0.40498044, 0.60505988,\n",
       "       0.21075848, 0.45224466, 0.23751292, 0.39833498, 0.82755447,\n",
       "       0.56797575, 0.69113325, 0.28659587, 0.21935267, 0.2033097 ,\n",
       "       0.57628256, 0.3294664 , 0.66512397, 0.26949499, 0.83321968,\n",
       "       0.43491525, 0.88374612, 0.23127072, 0.33415858, 0.34432939,\n",
       "       0.69909345, 0.65494263, 0.29244941, 0.79200758, 0.20750276,\n",
       "       0.26840558, 0.08708566, 0.22147081, 0.73245417, 0.30530219,\n",
       "       0.22147081, 0.29014408, 0.90438191, 0.46061297, 0.60174687,\n",
       "       0.21840536, 0.77354707, 0.73162708, 0.74168835, 0.67144429,\n",
       "       0.24582816, 0.07612942, 0.23127072, 0.75258845, 0.43441631,\n",
       "       0.12224957, 0.70427049, 0.57962872, 0.24118359, 0.67906035,\n",
       "       0.17511407, 0.15049817, 0.22625015, 0.26840558, 0.25096368,\n",
       "       0.85055945, 0.29596249, 0.76286133, 0.24354995, 0.21796736,\n",
       "       0.62328177, 0.67906035, 0.69590691, 0.74457124, 0.44936139,\n",
       "       0.48322553, 0.27740888, 0.85055945, 0.7779726 , 0.14478844,\n",
       "       0.06998698, 0.90359449, 0.66263332, 0.33845002, 0.52376124,\n",
       "       0.56096738, 0.78621895, 0.82216207, 0.54188461, 0.3093083 ,\n",
       "       0.25958951, 0.1606142 , 0.81222125, 0.45224466, 0.21840536,\n",
       "       0.35542096, 0.21075848, 0.10970991, 0.74062538, 0.2996991 ,\n",
       "       0.61584977, 0.21075848, 0.29596249, 0.35542096, 0.26509643,\n",
       "       0.52376124, 0.4607293 , 0.31501022, 0.24354995, 0.46061297])"
      ]
     },
     "execution_count": 67,
     "metadata": {},
     "output_type": "execute_result"
    }
   ],
   "source": [
    "predicted_proba[:,1]"
   ]
  },
  {
   "cell_type": "markdown",
   "id": "ab7d89ff",
   "metadata": {},
   "source": [
    "## Save the model. \n",
    "\n",
    "First, we will save our model, so we can use it later on. We don't need to train it every time. We just need to determine the weights once and then save them for later use. Second, we will create our own module so that others can use this model too. Finally, we will get completely new data, classify it pass it through SQL, and then analyze it in tableau.\n",
    "\n",
    "There are several popular ways to save (and finalize) a model. We can use Joblib (a part of the SciPy ecosystem), and JSON. ‘pickle’ is the standard Python tool for serialization and deserialization. pickling means: converting a Python object into a string of characters. Logically, unpickling is about converting a string of characters (that has been pickled) into a Python object.\n",
    "\n",
    "\n",
    "Saving a model is the process of creating a file that will contain all the information regarding the machine learning. We want to create a file that will store the following information. This machine learning model is a logistic regression. It has these coefficients and intercept. The random state that was chosen for the shuffling was 20. The object 'reg' which was an instance of the sklearn logistic regression class contains all this information.\n",
    "\n",
    "Saving the model is equivalent to saving the 'reg' object. Pickling is the process of converting a Python object into a character stream. The main idea is that this character stream will contain sufficient information. This file will then be loaded in a new notebook, and thus we'll be able to use the machine learning algorithm. The file size will be less than one kilobyte.\n",
    "\n",
    "\n",
    "\n",
    "\n",
    "\n",
    "\n",
    "\n",
    "\n"
   ]
  },
  {
   "cell_type": "markdown",
   "id": "59679af3",
   "metadata": {},
   "source": [
    "#Import the relevant module."
   ]
  },
  {
   "cell_type": "code",
   "execution_count": 68,
   "id": "1efe829c",
   "metadata": {},
   "outputs": [],
   "source": [
    "import pickle"
   ]
  },
  {
   "cell_type": "markdown",
   "id": "5760695a",
   "metadata": {},
   "source": [
    "#pickle the model file. First, the file name is \"model\" as it basically contains the model. Second, \"wb\" stands for write bites. When we unpickle, we will use rb or read bites. Third, we've got the dump method. When we pickle, we dump the information in a file. When we unpickle, we load it. In the dump method, we specify the object to be dumped. "
   ]
  },
  {
   "cell_type": "code",
   "execution_count": 69,
   "id": "b6c77d22",
   "metadata": {},
   "outputs": [],
   "source": [
    "with open('model', 'wb') as file:\n",
    "    pickle.dump(reg, file)"
   ]
  },
  {
   "cell_type": "markdown",
   "id": "04488c40",
   "metadata": {},
   "source": [
    "#Pickle the scaler file. \n",
    "\n",
    "The absenteeism scaler object was used to standardize all numerical variables. It stored the columns to scale as well as the mean and the standard deviation of each feature. Until now, our code was heavily dependent on training data. Without training data, the machine learning could not be executed at all. But once the model is trained and we have obtained the coefficients, we can save it as we just have. In this way, we are separating the model from the training data for good. The information in the absenteeism scaler is needed to preprocess any new data using the same rules as the ones applied to training data. Thus, we must pickle the scaler too.\n"
   ]
  },
  {
   "cell_type": "code",
   "execution_count": 70,
   "id": "6c5ff810",
   "metadata": {},
   "outputs": [],
   "source": [
    "with open('scaler','wb') as file:\n",
    "    pickle.dump(absenteeism_scaler, file)"
   ]
  },
  {
   "cell_type": "markdown",
   "id": "032b10dc",
   "metadata": {},
   "source": [
    "#We have pre-processed the data, trained a machine learning algorithm, and fine tuned it a bit.\n",
    "Now we will explore how to deploy it. Deploying a model consists of making it available and ready to use.\n",
    "Generally it consists of two steps, saving the model and then applying it to new data. We'd prefer creating a module because storing code in a module will allow us to reuse it without trouble. In essence, we will treat the methods in this module in the same way we treat the Numpy, sklearn and pandas methods.\n",
    "\n",
    "The absenteeism module contains all the pre-processing and machine learning in one clean notebook. Given that Python is an object oriented programming language everything is organized in classes.\n",
    "\n",
    "\n",
    "\n"
   ]
  }
 ],
 "metadata": {
  "kernelspec": {
   "display_name": "Python 3 (ipykernel)",
   "language": "python",
   "name": "python3"
  },
  "language_info": {
   "codemirror_mode": {
    "name": "ipython",
    "version": 3
   },
   "file_extension": ".py",
   "mimetype": "text/x-python",
   "name": "python",
   "nbconvert_exporter": "python",
   "pygments_lexer": "ipython3",
   "version": "3.9.13"
  }
 },
 "nbformat": 4,
 "nbformat_minor": 5
}
