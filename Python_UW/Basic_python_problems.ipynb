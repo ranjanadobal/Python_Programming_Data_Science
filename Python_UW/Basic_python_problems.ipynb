{
 "cells": [
  {
   "cell_type": "markdown",
   "metadata": {
    "colab_type": "text",
    "id": "mx8lQWNMwm6g"
   },
   "source": [
    "# Basic Python - Problems"
   ]
  },
  {
   "cell_type": "markdown",
   "metadata": {
    "colab_type": "text",
    "id": "rYYTxll6wm6i"
   },
   "source": [
    "Ref: (https://www.tiesdekok.com)   \n",
    " \n",
    "**Python version:** Python 3.6+     \n",
    "**Recommended environment: `researchPython`**"
   ]
  },
  {
   "cell_type": "code",
   "execution_count": 85,
   "metadata": {},
   "outputs": [],
   "source": [
    "import os\n",
    "recommendedEnvironment = 'researchPython'\n",
    "if os.environ['CONDA_DEFAULT_ENV'] != recommendedEnvironment:\n",
    "    print('Warning: it does not appear you are using the {0} environment, did you run \"conda activate {0}\" before starting Jupyter?'.format(recommendedEnvironment))"
   ]
  },
  {
   "cell_type": "markdown",
   "metadata": {},
   "source": [
    "# Introduction"
   ]
  },
  {
   "cell_type": "markdown",
   "metadata": {
    "colab_type": "text",
    "id": "XDCbIPT4wm6l"
   },
   "source": [
    "This notebook has problems on the basics of using Python. "
   ]
  },
  {
   "cell_type": "markdown",
   "metadata": {
    "colab_type": "text",
    "id": "iBEhsx4Bwm6l"
   },
   "source": [
    "### Relevant tutorial notebooks:\n",
    "\n",
    "1. [`0_python_basics.ipynb`](https://nbviewer.jupyter.org/github/TiesdeKok/LearnPythonforResearch/blob/master/0_python_basics.ipynb)"
   ]
  },
  {
   "cell_type": "markdown",
   "metadata": {
    "colab_type": "text",
    "id": "hgWAhxgF1AWD"
   },
   "source": [
    "## Step 0: Basics  \n",
    "___"
   ]
  },
  {
   "cell_type": "markdown",
   "metadata": {
    "colab_type": "text",
    "id": "OFtLA-Ck1FeK",
    "tags": []
   },
   "source": [
    "### Print \"Hello World!\" in the notebook"
   ]
  },
  {
   "cell_type": "code",
   "execution_count": 5,
   "metadata": {
    "colab": {
     "autoexec": {
      "startup": false,
      "wait_interval": 0
     },
     "base_uri": "https://localhost:8080/",
     "height": 34
    },
    "colab_type": "code",
    "executionInfo": {
     "elapsed": 519,
     "status": "ok",
     "timestamp": 1529089404002,
     "user": {
      "displayName": "Ties de Kok",
      "photoUrl": "https://lh3.googleusercontent.com/a/default-user=s128",
      "userId": "100742731921681718269"
     },
     "user_tz": 420
    },
    "id": "y0A5agGQ0_3Y",
    "outputId": "24fb4f96-9cab-4247-8f85-ff2fbf437481"
   },
   "outputs": [
    {
     "name": "stdout",
     "output_type": "stream",
     "text": [
      "Hello World!\n"
     ]
    }
   ],
   "source": [
    "print('Hello World!')"
   ]
  },
  {
   "cell_type": "markdown",
   "metadata": {
    "colab_type": "text",
    "id": "qS-2Ihbj8aL0"
   },
   "source": [
    "### Make Python calculate 10 + 5 divided by 2"
   ]
  },
  {
   "cell_type": "code",
   "execution_count": 6,
   "metadata": {
    "colab": {
     "autoexec": {
      "startup": false,
      "wait_interval": 0
     },
     "base_uri": "https://localhost:8080/",
     "height": 34
    },
    "colab_type": "code",
    "executionInfo": {
     "elapsed": 282,
     "status": "ok",
     "timestamp": 1529091354088,
     "user": {
      "displayName": "Ties de Kok",
      "photoUrl": "https://lh3.googleusercontent.com/a/default-user=s128",
      "userId": "100742731921681718269"
     },
     "user_tz": 420
    },
    "id": "u0pjJgku8anp",
    "outputId": "1758a255-4b3f-46fc-a8e9-6671f0e8c511"
   },
   "outputs": [
    {
     "data": {
      "text/plain": [
       "7.5"
      ]
     },
     "execution_count": 6,
     "metadata": {},
     "output_type": "execute_result"
    }
   ],
   "source": [
    "(10 + 5) / 2"
   ]
  },
  {
   "cell_type": "markdown",
   "metadata": {
    "colab_type": "text",
    "id": "Qp47bqtP-5dh"
   },
   "source": [
    "### Import the `math` library and run `math.pi` to show the value of pi"
   ]
  },
  {
   "cell_type": "code",
   "execution_count": 7,
   "metadata": {
    "colab": {
     "autoexec": {
      "startup": false,
      "wait_interval": 0
     },
     "base_uri": "https://localhost:8080/",
     "height": 34
    },
    "colab_type": "code",
    "executionInfo": {
     "elapsed": 279,
     "status": "ok",
     "timestamp": 1529091984568,
     "user": {
      "displayName": "Ties de Kok",
      "photoUrl": "https://lh3.googleusercontent.com/a/default-user=s128",
      "userId": "100742731921681718269"
     },
     "user_tz": 420
    },
    "id": "W3TRA-dz-5ow",
    "outputId": "3ac9a114-e0f7-4917-8e0c-c404d00e370c"
   },
   "outputs": [
    {
     "data": {
      "text/plain": [
       "3.141592653589793"
      ]
     },
     "execution_count": 7,
     "metadata": {},
     "output_type": "execute_result"
    }
   ],
   "source": [
    "import math\n",
    "math.pi"
   ]
  },
  {
   "cell_type": "markdown",
   "metadata": {},
   "source": [
    "### Instead of importing the entire `math` library only import the `pi` function from the `math` library"
   ]
  },
  {
   "cell_type": "code",
   "execution_count": 8,
   "metadata": {},
   "outputs": [],
   "source": [
    "from math import pi"
   ]
  },
  {
   "cell_type": "markdown",
   "metadata": {
    "colab_type": "text",
    "id": "UzZSXK1Gwvdm"
   },
   "source": [
    "## Step 1a: Understand data structures   \n",
    "___\n"
   ]
  },
  {
   "cell_type": "markdown",
   "metadata": {
    "colab_type": "text",
    "id": "w_6tVxyj1gQ1"
   },
   "source": [
    "### Create a variable called `name` that contains your name and print it"
   ]
  },
  {
   "cell_type": "code",
   "execution_count": 9,
   "metadata": {
    "colab": {
     "autoexec": {
      "startup": false,
      "wait_interval": 0
     }
    },
    "colab_type": "code",
    "id": "YGMoHya11lMd"
   },
   "outputs": [
    {
     "name": "stdout",
     "output_type": "stream",
     "text": [
      "Ties\n"
     ]
    }
   ],
   "source": [
    "name = 'Ties'\n",
    "print(name)"
   ]
  },
  {
   "cell_type": "markdown",
   "metadata": {
    "colab_type": "text",
    "id": "ZXul-KMuxnJY"
   },
   "source": [
    "### Create a list containing the name of three types of fruit, call it `fruit_list`"
   ]
  },
  {
   "cell_type": "code",
   "execution_count": 10,
   "metadata": {
    "colab": {
     "autoexec": {
      "startup": false,
      "wait_interval": 0
     }
    },
    "colab_type": "code",
    "id": "HVn_quB5xci2"
   },
   "outputs": [],
   "source": [
    "fruit_list = ['apple', 'orange', 'cherry']"
   ]
  },
  {
   "cell_type": "markdown",
   "metadata": {
    "colab_type": "text",
    "id": "ZMZsCjDe8-8I"
   },
   "source": [
    "### Print the name of the second fruit in your list"
   ]
  },
  {
   "cell_type": "code",
   "execution_count": 11,
   "metadata": {
    "colab": {
     "autoexec": {
      "startup": false,
      "wait_interval": 0
     },
     "base_uri": "https://localhost:8080/",
     "height": 34
    },
    "colab_type": "code",
    "executionInfo": {
     "elapsed": 274,
     "status": "ok",
     "timestamp": 1529091481911,
     "user": {
      "displayName": "Ties de Kok",
      "photoUrl": "https://lh3.googleusercontent.com/a/default-user=s128",
      "userId": "100742731921681718269"
     },
     "user_tz": 420
    },
    "id": "YdruSx_u8_Sf",
    "outputId": "b79dfdba-75c0-4947-c741-34a2fd72f337"
   },
   "outputs": [
    {
     "name": "stdout",
     "output_type": "stream",
     "text": [
      "orange\n"
     ]
    }
   ],
   "source": [
    "print(fruit_list[1])"
   ]
  },
  {
   "cell_type": "markdown",
   "metadata": {
    "colab_type": "text",
    "id": "1QsJcb0ryEYe"
   },
   "source": [
    "### Add a fourth type of fruit to the **list** and then print the list"
   ]
  },
  {
   "cell_type": "code",
   "execution_count": 12,
   "metadata": {
    "colab": {
     "autoexec": {
      "startup": false,
      "wait_interval": 0
     },
     "base_uri": "https://localhost:8080/",
     "height": 34
    },
    "colab_type": "code",
    "executionInfo": {
     "elapsed": 493,
     "status": "ok",
     "timestamp": 1529088696801,
     "user": {
      "displayName": "Ties de Kok",
      "photoUrl": "https://lh3.googleusercontent.com/a/default-user=s128",
      "userId": "100742731921681718269"
     },
     "user_tz": 420
    },
    "id": "uCN4vLYDySvV",
    "outputId": "b9518c00-c7e9-4cd1-8021-0de4881526c8"
   },
   "outputs": [
    {
     "data": {
      "text/plain": [
       "['apple', 'orange', 'cherry', 'pear']"
      ]
     },
     "execution_count": 12,
     "metadata": {},
     "output_type": "execute_result"
    }
   ],
   "source": [
    "fruit_list.append('pear')\n",
    "fruit_list"
   ]
  },
  {
   "cell_type": "markdown",
   "metadata": {
    "colab_type": "text",
    "id": "nPPduwZKyjQL"
   },
   "source": [
    "### Create a dictionary called `fruit_dict` to keep track of how many you have of each fruit.\n",
    "For example, let's say you have 5 apples, 2 oranges, and 1 banana. "
   ]
  },
  {
   "cell_type": "code",
   "execution_count": 13,
   "metadata": {
    "colab": {
     "autoexec": {
      "startup": false,
      "wait_interval": 0
     },
     "base_uri": "https://localhost:8080/",
     "height": 34
    },
    "colab_type": "code",
    "executionInfo": {
     "elapsed": 274,
     "status": "ok",
     "timestamp": 1529088912348,
     "user": {
      "displayName": "Ties de Kok",
      "photoUrl": "https://lh3.googleusercontent.com/a/default-user=s128",
      "userId": "100742731921681718269"
     },
     "user_tz": 420
    },
    "id": "0KCvymAPy2Hy",
    "outputId": "0438c79c-080e-4ef0-f507-6b6e2c1c12f2"
   },
   "outputs": [
    {
     "data": {
      "text/plain": [
       "{'apple': 5, 'orange': 2, 'banana': 1}"
      ]
     },
     "execution_count": 13,
     "metadata": {},
     "output_type": "execute_result"
    }
   ],
   "source": [
    "fruit_dict = {'apple' : 5, 'orange' : 2, 'banana' : 1}\n",
    "fruit_dict"
   ]
  },
  {
   "cell_type": "markdown",
   "metadata": {
    "colab_type": "text",
    "id": "8d5-AfSjzGt1"
   },
   "source": [
    "### Print how many apples you currently have"
   ]
  },
  {
   "cell_type": "code",
   "execution_count": 14,
   "metadata": {
    "colab": {
     "autoexec": {
      "startup": false,
      "wait_interval": 0
     },
     "base_uri": "https://localhost:8080/",
     "height": 34
    },
    "colab_type": "code",
    "executionInfo": {
     "elapsed": 297,
     "status": "ok",
     "timestamp": 1529088914759,
     "user": {
      "displayName": "Ties de Kok",
      "photoUrl": "https://lh3.googleusercontent.com/a/default-user=s128",
      "userId": "100742731921681718269"
     },
     "user_tz": 420
    },
    "id": "Lp2FkFkUzN85",
    "outputId": "c90f68ef-8113-40bb-de55-472d12eb9476"
   },
   "outputs": [
    {
     "name": "stdout",
     "output_type": "stream",
     "text": [
      "5\n"
     ]
    }
   ],
   "source": [
    "print(fruit_dict['apple'])"
   ]
  },
  {
   "cell_type": "markdown",
   "metadata": {
    "colab_type": "text",
    "id": "skZzWlxtzZlt"
   },
   "source": [
    "### You eat one apple, reduce your apple count in the dictionary by one"
   ]
  },
  {
   "cell_type": "code",
   "execution_count": 15,
   "metadata": {
    "colab": {
     "autoexec": {
      "startup": false,
      "wait_interval": 0
     },
     "base_uri": "https://localhost:8080/",
     "height": 34
    },
    "colab_type": "code",
    "executionInfo": {
     "elapsed": 286,
     "status": "ok",
     "timestamp": 1529088981944,
     "user": {
      "displayName": "Ties de Kok",
      "photoUrl": "https://lh3.googleusercontent.com/a/default-user=s128",
      "userId": "100742731921681718269"
     },
     "user_tz": 420
    },
    "id": "Go1ZDVR8zh28",
    "outputId": "9994de3e-a628-431b-9959-f00bedeb6b71"
   },
   "outputs": [
    {
     "data": {
      "text/plain": [
       "{'apple': 4, 'orange': 2, 'banana': 1}"
      ]
     },
     "execution_count": 15,
     "metadata": {},
     "output_type": "execute_result"
    }
   ],
   "source": [
    "fruit_dict['apple'] -= 1\n",
    "fruit_dict"
   ]
  },
  {
   "cell_type": "markdown",
   "metadata": {
    "colab_type": "text",
    "id": "7r4QTvps8yuE"
   },
   "source": [
    "### Add a new fruit (pear) to `fruit_dict` with a value of zero"
   ]
  },
  {
   "cell_type": "code",
   "execution_count": 16,
   "metadata": {
    "colab": {
     "autoexec": {
      "startup": false,
      "wait_interval": 0
     }
    },
    "colab_type": "code",
    "id": "1EKFKs6f84LG"
   },
   "outputs": [
    {
     "data": {
      "text/plain": [
       "{'apple': 4, 'orange': 2, 'banana': 1, 'pear': 0}"
      ]
     },
     "execution_count": 16,
     "metadata": {},
     "output_type": "execute_result"
    }
   ],
   "source": [
    "fruit_dict['pear'] = 0\n",
    "fruit_dict"
   ]
  },
  {
   "cell_type": "markdown",
   "metadata": {
    "colab_type": "text",
    "id": "skZzWlxtzZlt"
   },
   "source": [
    "### You went to the store and bought two pears, update the dictionary"
   ]
  },
  {
   "cell_type": "code",
   "execution_count": 17,
   "metadata": {
    "colab": {
     "autoexec": {
      "startup": false,
      "wait_interval": 0
     },
     "base_uri": "https://localhost:8080/",
     "height": 34
    },
    "colab_type": "code",
    "executionInfo": {
     "elapsed": 286,
     "status": "ok",
     "timestamp": 1529088981944,
     "user": {
      "displayName": "Ties de Kok",
      "photoUrl": "https://lh3.googleusercontent.com/a/default-user=s128",
      "userId": "100742731921681718269"
     },
     "user_tz": 420
    },
    "id": "Go1ZDVR8zh28",
    "outputId": "9994de3e-a628-431b-9959-f00bedeb6b71"
   },
   "outputs": [
    {
     "data": {
      "text/plain": [
       "{'apple': 4, 'orange': 2, 'banana': 1, 'pear': 2}"
      ]
     },
     "execution_count": 17,
     "metadata": {},
     "output_type": "execute_result"
    }
   ],
   "source": [
    "fruit_dict['pear'] += 2\n",
    "fruit_dict"
   ]
  },
  {
   "cell_type": "markdown",
   "metadata": {
    "colab_type": "text",
    "id": "VbkNtih636mZ"
   },
   "source": [
    "## Step 1b: add a variable to a string\n",
    "___"
   ]
  },
  {
   "cell_type": "markdown",
   "metadata": {
    "colab_type": "text",
    "id": "6af0QHy037uG"
   },
   "source": [
    "### Take the `name` variable (created earlier) and print the following: \"My name is: YOUR NAME GOES HERE\""
   ]
  },
  {
   "cell_type": "code",
   "execution_count": 18,
   "metadata": {
    "colab": {
     "autoexec": {
      "startup": false,
      "wait_interval": 0
     },
     "base_uri": "https://localhost:8080/",
     "height": 34
    },
    "colab_type": "code",
    "executionInfo": {
     "elapsed": 510,
     "status": "ok",
     "timestamp": 1529090544008,
     "user": {
      "displayName": "Ties de Kok",
      "photoUrl": "https://lh3.googleusercontent.com/a/default-user=s128",
      "userId": "100742731921681718269"
     },
     "user_tz": 420
    },
    "id": "u2dId3G5368Z",
    "outputId": "72ad939f-2a9b-4183-bb91-7671bfb090e6"
   },
   "outputs": [
    {
     "name": "stdout",
     "output_type": "stream",
     "text": [
      "My name is: Ties\n"
     ]
    }
   ],
   "source": [
    "print('My name is: {}'.format(name))"
   ]
  },
  {
   "cell_type": "markdown",
   "metadata": {
    "colab_type": "text",
    "id": "XTqOau7Y03ZF"
   },
   "source": [
    "## Step 2: understand how to create boolean conditions (True / False conditions using if / elif / else)\n",
    "___"
   ]
  },
  {
   "cell_type": "markdown",
   "metadata": {
    "colab_type": "text",
    "id": "jtNIQa1M1Qd5"
   },
   "source": [
    "### Create a variable called `year` containing a year of your choice. Then create an `if` statement that prints \"That is our current year!\" if `year` is equal to 2020."
   ]
  },
  {
   "cell_type": "code",
   "execution_count": 20,
   "metadata": {
    "colab": {
     "autoexec": {
      "startup": false,
      "wait_interval": 0
     },
     "base_uri": "https://localhost:8080/",
     "height": 34
    },
    "colab_type": "code",
    "executionInfo": {
     "elapsed": 290,
     "status": "ok",
     "timestamp": 1529089647274,
     "user": {
      "displayName": "Ties de Kok",
      "photoUrl": "https://lh3.googleusercontent.com/a/default-user=s128",
      "userId": "100742731921681718269"
     },
     "user_tz": 420
    },
    "id": "Udb4KLJL1NJi",
    "outputId": "105f4c2a-3485-4a80-bda2-ec17818d365a"
   },
   "outputs": [
    {
     "name": "stdout",
     "output_type": "stream",
     "text": [
      "That is our current year!\n"
     ]
    }
   ],
   "source": [
    "year = 2023\n",
    "if year == 2023:\n",
    "    print('That is our current year!')"
   ]
  },
  {
   "cell_type": "markdown",
   "metadata": {
    "colab_type": "text",
    "id": "BG0NknMs2xvG"
   },
   "source": [
    "### Create a variable called `number` with a number of your choice. Then print \"equal to 10\" if `number` is equal to 10, \"smaller than 10\" if `number` is smaller than 10, and \"larger than 10\" for all other numbers."
   ]
  },
  {
   "cell_type": "code",
   "execution_count": 21,
   "metadata": {
    "colab": {
     "autoexec": {
      "startup": false,
      "wait_interval": 0
     },
     "base_uri": "https://localhost:8080/",
     "height": 34
    },
    "colab_type": "code",
    "executionInfo": {
     "elapsed": 478,
     "status": "ok",
     "timestamp": 1529090026381,
     "user": {
      "displayName": "Ties de Kok",
      "photoUrl": "https://lh3.googleusercontent.com/a/default-user=s128",
      "userId": "100742731921681718269"
     },
     "user_tz": 420
    },
    "id": "MWNEYzrT2yTf",
    "outputId": "458a39df-78a9-475e-ea55-e98c51845eae"
   },
   "outputs": [
    {
     "name": "stdout",
     "output_type": "stream",
     "text": [
      "Smaller than 10\n"
     ]
    }
   ],
   "source": [
    "number = 4\n",
    "if number == 10:\n",
    "    print('Equal to 10')\n",
    "elif number < 10:\n",
    "    print(\"Smaller than 10\")\n",
    "else:\n",
    "    print(\"Larger than 10\")"
   ]
  },
  {
   "cell_type": "markdown",
   "metadata": {
    "colab_type": "text",
    "id": "-wPcCIQeAQx8"
   },
   "source": [
    "### Create a variable called `fruit` with a fruit of your choice and check whether that fruit is in `fruit_dict`"
   ]
  },
  {
   "cell_type": "code",
   "execution_count": 22,
   "metadata": {
    "colab": {
     "autoexec": {
      "startup": false,
      "wait_interval": 0
     },
     "base_uri": "https://localhost:8080/",
     "height": 34
    },
    "colab_type": "code",
    "executionInfo": {
     "elapsed": 273,
     "status": "ok",
     "timestamp": 1529092416549,
     "user": {
      "displayName": "Ties de Kok",
      "photoUrl": "https://lh3.googleusercontent.com/a/default-user=s128",
      "userId": "100742731921681718269"
     },
     "user_tz": 420
    },
    "id": "Up7ua8DpARI9",
    "outputId": "b9a9ce5a-9f59-4b7d-c0a0-31113c553cbb"
   },
   "outputs": [
    {
     "data": {
      "text/plain": [
       "True"
      ]
     },
     "execution_count": 22,
     "metadata": {},
     "output_type": "execute_result"
    }
   ],
   "source": [
    "fruit = 'banana'\n",
    "fruit in fruit_dict"
   ]
  },
  {
   "cell_type": "markdown",
   "metadata": {
    "colab_type": "text",
    "id": "yvSUk4oG2yqA"
   },
   "source": [
    "## Step 3: understand how to create loops   \n",
    "---"
   ]
  },
  {
   "cell_type": "markdown",
   "metadata": {
    "colab_type": "text",
    "id": "_4rISdr62yz4"
   },
   "source": [
    "### Loop over every element in your `fruit_list` and print the name of each fruit"
   ]
  },
  {
   "cell_type": "code",
   "execution_count": 23,
   "metadata": {
    "colab": {
     "autoexec": {
      "startup": false,
      "wait_interval": 0
     },
     "base_uri": "https://localhost:8080/",
     "height": 87
    },
    "colab_type": "code",
    "executionInfo": {
     "elapsed": 357,
     "status": "ok",
     "timestamp": 1529090633562,
     "user": {
      "displayName": "Ties de Kok",
      "photoUrl": "https://lh3.googleusercontent.com/a/default-user=s128",
      "userId": "100742731921681718269"
     },
     "user_tz": 420
    },
    "id": "D24i8Z7u2zRY",
    "outputId": "1a4dfd3c-7e6d-44d2-ad7e-d25e3ce9092c"
   },
   "outputs": [
    {
     "name": "stdout",
     "output_type": "stream",
     "text": [
      "apple\n",
      "orange\n",
      "cherry\n",
      "pear\n"
     ]
    }
   ],
   "source": [
    "for fruit in fruit_list:\n",
    "    print(fruit)"
   ]
  },
  {
   "cell_type": "markdown",
   "metadata": {
    "colab_type": "text",
    "id": "7tbcTO0W2z3M"
   },
   "source": [
    "### Loop over every key (i.e. fruit) and value (i.e. number) in your `fruit_dict` dictionary and print the name of the fruit and the associated amount."
   ]
  },
  {
   "cell_type": "code",
   "execution_count": 24,
   "metadata": {
    "colab": {
     "autoexec": {
      "startup": false,
      "wait_interval": 0
     },
     "base_uri": "https://localhost:8080/",
     "height": 70
    },
    "colab_type": "code",
    "executionInfo": {
     "elapsed": 347,
     "status": "ok",
     "timestamp": 1529090692511,
     "user": {
      "displayName": "Ties de Kok",
      "photoUrl": "https://lh3.googleusercontent.com/a/default-user=s128",
      "userId": "100742731921681718269"
     },
     "user_tz": 420
    },
    "id": "X106ruXo20ER",
    "outputId": "00ff5ca3-18b6-445e-c0a2-254f997d872b"
   },
   "outputs": [
    {
     "name": "stdout",
     "output_type": "stream",
     "text": [
      "apple 4\n",
      "orange 2\n",
      "banana 1\n",
      "pear 2\n"
     ]
    }
   ],
   "source": [
    "for fruit, amount in fruit_dict.items():\n",
    "    print(fruit, amount)"
   ]
  },
  {
   "cell_type": "markdown",
   "metadata": {},
   "source": [
    "### Create a variable called `count ` and set it to zero, then increment it 10 times by the number 2, use the `range` function "
   ]
  },
  {
   "cell_type": "code",
   "execution_count": 25,
   "metadata": {},
   "outputs": [
    {
     "name": "stdout",
     "output_type": "stream",
     "text": [
      "20\n"
     ]
    }
   ],
   "source": [
    "count = 0\n",
    "for i in range(10):\n",
    "    count = count + 2\n",
    "print(count)"
   ]
  },
  {
   "cell_type": "markdown",
   "metadata": {
    "colab_type": "text",
    "id": "B9oS04bh9ZQf"
   },
   "source": [
    "## Step 4: understand what a function is   \n",
    "----"
   ]
  },
  {
   "cell_type": "markdown",
   "metadata": {
    "colab_type": "text",
    "id": "FaFyKYyQ9Zhy"
   },
   "source": [
    "### Create a new function called `print_hello_world` that prints \"Hello World!\". Then run this function."
   ]
  },
  {
   "cell_type": "code",
   "execution_count": 26,
   "metadata": {
    "colab": {
     "autoexec": {
      "startup": false,
      "wait_interval": 0
     },
     "base_uri": "https://localhost:8080/",
     "height": 34
    },
    "colab_type": "code",
    "executionInfo": {
     "elapsed": 314,
     "status": "ok",
     "timestamp": 1529091693586,
     "user": {
      "displayName": "Ties de Kok",
      "photoUrl": "https://lh3.googleusercontent.com/a/default-user=s128",
      "userId": "100742731921681718269"
     },
     "user_tz": 420
    },
    "id": "XxStPEYA9ZtG",
    "outputId": "1fbac63b-71ec-4f02-acbc-51d12f39124e"
   },
   "outputs": [
    {
     "name": "stdout",
     "output_type": "stream",
     "text": [
      "Hello World!\n"
     ]
    }
   ],
   "source": [
    "def print_hello_world():\n",
    "    print('Hello World!')\n",
    "print_hello_world()"
   ]
  },
  {
   "cell_type": "markdown",
   "metadata": {
    "colab_type": "text",
    "id": "8Cdy-aG49Z5n"
   },
   "source": [
    "### Create a new function called `print_this` that takes a string as input (call the argument `str_input`) and then prints it. Run it with \"Hello World!\" as input."
   ]
  },
  {
   "cell_type": "code",
   "execution_count": 27,
   "metadata": {
    "colab": {
     "autoexec": {
      "startup": false,
      "wait_interval": 0
     },
     "base_uri": "https://localhost:8080/",
     "height": 34
    },
    "colab_type": "code",
    "executionInfo": {
     "elapsed": 270,
     "status": "ok",
     "timestamp": 1529091781216,
     "user": {
      "displayName": "Ties de Kok",
      "photoUrl": "https://lh3.googleusercontent.com/a/default-user=s128",
      "userId": "100742731921681718269"
     },
     "user_tz": 420
    },
    "id": "oKDIVO4P-HCF",
    "outputId": "e991fc9b-d49b-415d-c4d8-602ad8d3c1c4"
   },
   "outputs": [
    {
     "name": "stdout",
     "output_type": "stream",
     "text": [
      "Hello World!\n"
     ]
    }
   ],
   "source": [
    "def print_this(str_input):\n",
    "    print(str_input)\n",
    "print_this('Hello World!')"
   ]
  },
  {
   "cell_type": "markdown",
   "metadata": {
    "colab_type": "text",
    "id": "oiUL_ulv-HRO"
   },
   "source": [
    "### Create a function called `add_up` that takes two inputs `num_1` and `num_2` and that returns the sum of these two numbers. Have it calculate 120 + 30."
   ]
  },
  {
   "cell_type": "code",
   "execution_count": 28,
   "metadata": {
    "colab": {
     "autoexec": {
      "startup": false,
      "wait_interval": 0
     },
     "base_uri": "https://localhost:8080/",
     "height": 34
    },
    "colab_type": "code",
    "executionInfo": {
     "elapsed": 291,
     "status": "ok",
     "timestamp": 1529091898276,
     "user": {
      "displayName": "Ties de Kok",
      "photoUrl": "https://lh3.googleusercontent.com/a/default-user=s128",
      "userId": "100742731921681718269"
     },
     "user_tz": 420
    },
    "id": "-u0Hyu8N-HY3",
    "outputId": "c2ab6723-afa4-4832-d53b-19649ba348bb"
   },
   "outputs": [
    {
     "data": {
      "text/plain": [
       "150"
      ]
     },
     "execution_count": 28,
     "metadata": {},
     "output_type": "execute_result"
    }
   ],
   "source": [
    "def add_up(num_1, num_2):\n",
    "    return num_1 + num_2\n",
    "\n",
    "add_up(120, 30)"
   ]
  },
  {
   "cell_type": "markdown",
   "metadata": {
    "colab_type": "text",
    "id": "oiUL_ulv-HRO"
   },
   "source": [
    "### Modify the `add_up` function so that `num_2` has a default value of 5. Then calculate: 120 + 5, and 120 + 50. "
   ]
  },
  {
   "cell_type": "code",
   "execution_count": 29,
   "metadata": {
    "colab": {
     "autoexec": {
      "startup": false,
      "wait_interval": 0
     },
     "base_uri": "https://localhost:8080/",
     "height": 34
    },
    "colab_type": "code",
    "executionInfo": {
     "elapsed": 291,
     "status": "ok",
     "timestamp": 1529091898276,
     "user": {
      "displayName": "Ties de Kok",
      "photoUrl": "https://lh3.googleusercontent.com/a/default-user=s128",
      "userId": "100742731921681718269"
     },
     "user_tz": 420
    },
    "id": "-u0Hyu8N-HY3",
    "outputId": "c2ab6723-afa4-4832-d53b-19649ba348bb"
   },
   "outputs": [
    {
     "name": "stdout",
     "output_type": "stream",
     "text": [
      "125\n",
      "170\n"
     ]
    }
   ],
   "source": [
    "def add_up(num_1, num_2=5):\n",
    "    return num_1 + num_2\n",
    "\n",
    "print(add_up(120))\n",
    "print(add_up(120, num_2=50))"
   ]
  },
  {
   "cell_type": "markdown",
   "metadata": {
    "colab_type": "text",
    "id": "8bbZI1QxAFWd"
   },
   "source": [
    "## Step 5a: exceptions"
   ]
  },
  {
   "cell_type": "markdown",
   "metadata": {
    "colab_type": "text",
    "id": "--sOCTotAHDw"
   },
   "source": [
    "### Try to remove a fruit from `fruit_list` that is not actually in `fruit_list`\n",
    "e.g. try to remove \"dragon fruit\""
   ]
  },
  {
   "cell_type": "code",
   "execution_count": 30,
   "metadata": {
    "colab": {
     "autoexec": {
      "startup": false,
      "wait_interval": 0
     },
     "base_uri": "https://localhost:8080/",
     "height": 167
    },
    "colab_type": "code",
    "executionInfo": {
     "elapsed": 279,
     "status": "error",
     "timestamp": 1529092597163,
     "user": {
      "displayName": "Ties de Kok",
      "photoUrl": "https://lh3.googleusercontent.com/a/default-user=s128",
      "userId": "100742731921681718269"
     },
     "user_tz": 420
    },
    "id": "D-G08xzxAGhC",
    "outputId": "dae1e5af-684d-4656-e252-aa6cbd6c2517"
   },
   "outputs": [
    {
     "ename": "ValueError",
     "evalue": "list.remove(x): x not in list",
     "output_type": "error",
     "traceback": [
      "\u001b[0;31m---------------------------------------------------------------------------\u001b[0m",
      "\u001b[0;31mValueError\u001b[0m                                Traceback (most recent call last)",
      "Cell \u001b[0;32mIn [30], line 1\u001b[0m\n\u001b[0;32m----> 1\u001b[0m \u001b[43mfruit_list\u001b[49m\u001b[38;5;241;43m.\u001b[39;49m\u001b[43mremove\u001b[49m\u001b[43m(\u001b[49m\u001b[38;5;124;43m'\u001b[39;49m\u001b[38;5;124;43mdragon fruit\u001b[39;49m\u001b[38;5;124;43m'\u001b[39;49m\u001b[43m)\u001b[49m\n",
      "\u001b[0;31mValueError\u001b[0m: list.remove(x): x not in list"
     ]
    }
   ],
   "source": [
    " fruit_list.remove('dragon fruit')"
   ]
  },
  {
   "cell_type": "markdown",
   "metadata": {
    "colab_type": "text",
    "id": "XPXATofkBY5L"
   },
   "source": [
    "### Use `Try` and `Except` to try and remove a fruit from `fruit_list`. If it throws an error capture it and instead print \"This fruit is not in the list!\""
   ]
  },
  {
   "cell_type": "code",
   "execution_count": 31,
   "metadata": {
    "colab": {
     "autoexec": {
      "startup": false,
      "wait_interval": 0
     },
     "base_uri": "https://localhost:8080/",
     "height": 34
    },
    "colab_type": "code",
    "executionInfo": {
     "elapsed": 286,
     "status": "ok",
     "timestamp": 1529092701281,
     "user": {
      "displayName": "Ties de Kok",
      "photoUrl": "https://lh3.googleusercontent.com/a/default-user=s128",
      "userId": "100742731921681718269"
     },
     "user_tz": 420
    },
    "id": "mzElGpLqBZWI",
    "outputId": "9aa1fd6f-88e0-46e1-d837-08d32af637a6"
   },
   "outputs": [
    {
     "name": "stdout",
     "output_type": "stream",
     "text": [
      "This fruit is not in the list!\n"
     ]
    }
   ],
   "source": [
    "try:\n",
    "    fruit_list.remove('dragon fruit')\n",
    "except:\n",
    "    print('This fruit is not in the list!')"
   ]
  },
  {
   "cell_type": "markdown",
   "metadata": {
    "colab_type": "text",
    "id": "Cn3-jQzOCRKP"
   },
   "source": [
    "## Step 5b: OS operations"
   ]
  },
  {
   "cell_type": "markdown",
   "metadata": {
    "colab_type": "text",
    "id": "9PZOylkFCYqD"
   },
   "source": [
    "### Import the `OS` library and print your current working directory"
   ]
  },
  {
   "cell_type": "code",
   "execution_count": 32,
   "metadata": {
    "colab": {
     "autoexec": {
      "startup": false,
      "wait_interval": 0
     },
     "base_uri": "https://localhost:8080/",
     "height": 34
    },
    "colab_type": "code",
    "executionInfo": {
     "elapsed": 307,
     "status": "ok",
     "timestamp": 1529092899111,
     "user": {
      "displayName": "Ties de Kok",
      "photoUrl": "https://lh3.googleusercontent.com/a/default-user=s128",
      "userId": "100742731921681718269"
     },
     "user_tz": 420
    },
    "id": "6HIMaPDcCRfQ",
    "outputId": "87983240-19bf-46ce-de44-bf480b175457"
   },
   "outputs": [
    {
     "name": "stdout",
     "output_type": "stream",
     "text": [
      "/Users/ranjanadobal/Documents/acctg-579B-master/problems/session_1\n"
     ]
    }
   ],
   "source": [
    "import os\n",
    "print(os.getcwd())"
   ]
  },
  {
   "cell_type": "markdown",
   "metadata": {
    "colab_type": "text",
    "id": "5tvadUG-Ckjf"
   },
   "source": [
    "### Use the OS library to show all files in the current working directory"
   ]
  },
  {
   "cell_type": "code",
   "execution_count": 33,
   "metadata": {
    "colab": {
     "autoexec": {
      "startup": false,
      "wait_interval": 0
     },
     "base_uri": "https://localhost:8080/",
     "height": 34
    },
    "colab_type": "code",
    "executionInfo": {
     "elapsed": 277,
     "status": "ok",
     "timestamp": 1529092939380,
     "user": {
      "displayName": "Ties de Kok",
      "photoUrl": "https://lh3.googleusercontent.com/a/default-user=s128",
      "userId": "100742731921681718269"
     },
     "user_tz": 420
    },
    "id": "zq03bMiXClex",
    "outputId": "dca8e50b-16f1-4f1b-e65c-c7e3e21dbe62"
   },
   "outputs": [
    {
     "data": {
      "text/plain": [
       "['solved-basic_python_problems.ipynb',\n",
       " 'pipeline',\n",
       " 'Untitled.ipynb',\n",
       " 'untitled.md',\n",
       " 'basic_python_problems.ipynb',\n",
       " 'Practice.ipynb',\n",
       " '.ipynb_checkpoints',\n",
       " 'Github_Basic_python_problems.ipynb',\n",
       " 'workingdir.txt']"
      ]
     },
     "execution_count": 33,
     "metadata": {},
     "output_type": "execute_result"
    }
   ],
   "source": [
    "os.listdir()"
   ]
  },
  {
   "cell_type": "markdown",
   "metadata": {},
   "source": [
    "# Part 2: Advanced Funcionality"
   ]
  },
  {
   "cell_type": "markdown",
   "metadata": {
    "colab_type": "text",
    "id": "UzZSXK1Gwvdm"
   },
   "source": [
    "## Step 1a: understand data structures   \n",
    "----"
   ]
  },
  {
   "cell_type": "markdown",
   "metadata": {
    "colab_type": "text",
    "id": "oRFN_E_UzznD"
   },
   "source": [
    "### Suppose you want to track the amount of fruit for multiple people: create a dictionary in a dictionary called `multi_fruit_dict` to track the following:\n",
    "Philip has:  \n",
    "   * \"apple\": 5   \n",
    "   * \"orange\" : 2  \n",
    "   * \"banana\" : 1   \n",
    "   \n",
    "Ties has:\n",
    "   * \"apple\": 2\n",
    "   * \"cherry\": 6"
   ]
  },
  {
   "cell_type": "code",
   "execution_count": 34,
   "metadata": {
    "colab": {
     "autoexec": {
      "startup": false,
      "wait_interval": 0
     }
    },
    "colab_type": "code",
    "id": "l0IRu1xT0Hx-"
   },
   "outputs": [],
   "source": [
    "multi_fruit_dict = {'Philip' : {'apple' : 5, 'orange' : 2, 'banana' : 1},\n",
    "                    'Ties' : {'apple' : 2, 'cherry' : 6}}"
   ]
  },
  {
   "cell_type": "markdown",
   "metadata": {
    "colab_type": "text",
    "id": "-A4ZRPaE1UxQ"
   },
   "source": [
    "### Print how many cherries Ties has"
   ]
  },
  {
   "cell_type": "code",
   "execution_count": 35,
   "metadata": {
    "colab": {
     "autoexec": {
      "startup": false,
      "wait_interval": 0
     },
     "base_uri": "https://localhost:8080/",
     "height": 34
    },
    "colab_type": "code",
    "executionInfo": {
     "elapsed": 308,
     "status": "ok",
     "timestamp": 1529090541556,
     "user": {
      "displayName": "Ties de Kok",
      "photoUrl": "https://lh3.googleusercontent.com/a/default-user=s128",
      "userId": "100742731921681718269"
     },
     "user_tz": 420
    },
    "id": "QfcIMRZg1VDY",
    "outputId": "3643c74b-4463-4e82-d0d2-47aeb18f32f0"
   },
   "outputs": [
    {
     "name": "stdout",
     "output_type": "stream",
     "text": [
      "6\n"
     ]
    }
   ],
   "source": [
    "print(multi_fruit_dict['Ties']['cherry'])"
   ]
  },
  {
   "cell_type": "markdown",
   "metadata": {
    "colab_type": "text",
    "id": "VbkNtih636mZ"
   },
   "source": [
    "## Step 1b:  learn how to add a variable to a string   \n",
    "----"
   ]
  },
  {
   "cell_type": "markdown",
   "metadata": {
    "colab_type": "text",
    "id": "gEl2wZfe405V"
   },
   "source": [
    "### Use the `name` variable and `multi_fruit_dict` dictionary to print: \"NAME has AMOUNT pieces of Apple\"\n",
    "For example: \"Ties has 2 pieces of Apple\". (make sure that NAME and AMOUNT are dynamic!)"
   ]
  },
  {
   "cell_type": "code",
   "execution_count": 36,
   "metadata": {
    "colab": {
     "autoexec": {
      "startup": false,
      "wait_interval": 0
     },
     "base_uri": "https://localhost:8080/",
     "height": 34
    },
    "colab_type": "code",
    "executionInfo": {
     "elapsed": 485,
     "status": "ok",
     "timestamp": 1529090545594,
     "user": {
      "displayName": "Ties de Kok",
      "photoUrl": "https://lh3.googleusercontent.com/a/default-user=s128",
      "userId": "100742731921681718269"
     },
     "user_tz": 420
    },
    "id": "nyWCSOtj5RDQ",
    "outputId": "70212c8f-f6e2-470f-e9fa-a0fce05f3f55"
   },
   "outputs": [
    {
     "name": "stdout",
     "output_type": "stream",
     "text": [
      "Ties has 2 pieces of Apple\n"
     ]
    }
   ],
   "source": [
    "print(\"{} has {} pieces of Apple\".format(name, multi_fruit_dict[name]['apple']))"
   ]
  },
  {
   "cell_type": "markdown",
   "metadata": {},
   "source": [
    "### Modify the above code so that it displays the amount of pieces with two decimal places   \n",
    "For example: \"Ties has 2.00 pieces of Apple\". "
   ]
  },
  {
   "cell_type": "code",
   "execution_count": 37,
   "metadata": {
    "colab": {
     "autoexec": {
      "startup": false,
      "wait_interval": 0
     },
     "base_uri": "https://localhost:8080/",
     "height": 34
    },
    "colab_type": "code",
    "executionInfo": {
     "elapsed": 485,
     "status": "ok",
     "timestamp": 1529090545594,
     "user": {
      "displayName": "Ties de Kok",
      "photoUrl": "https://lh3.googleusercontent.com/a/default-user=s128",
      "userId": "100742731921681718269"
     },
     "user_tz": 420
    },
    "id": "nyWCSOtj5RDQ",
    "outputId": "70212c8f-f6e2-470f-e9fa-a0fce05f3f55"
   },
   "outputs": [
    {
     "name": "stdout",
     "output_type": "stream",
     "text": [
      "Ties has 2.00 pieces of Apple\n"
     ]
    }
   ],
   "source": [
    "print(\"{0} has {1:.2f} pieces of Apple\".format(name, multi_fruit_dict[name]['apple']))"
   ]
  },
  {
   "cell_type": "markdown",
   "metadata": {
    "colab_type": "text",
    "id": "XTqOau7Y03ZF"
   },
   "source": [
    "## Step 2: understand how to create booleans (True / False conditions using if / elif / else)   \n",
    "----"
   ]
  },
  {
   "cell_type": "markdown",
   "metadata": {
    "colab_type": "text",
    "id": "-wPcCIQeAQx8"
   },
   "source": [
    "### Create a variable called `fruit` and check whether that fruit is in `multi_fruit_dict` for Ties"
   ]
  },
  {
   "cell_type": "code",
   "execution_count": 38,
   "metadata": {
    "colab": {
     "autoexec": {
      "startup": false,
      "wait_interval": 0
     },
     "base_uri": "https://localhost:8080/",
     "height": 34
    },
    "colab_type": "code",
    "executionInfo": {
     "elapsed": 273,
     "status": "ok",
     "timestamp": 1529092416549,
     "user": {
      "displayName": "Ties de Kok",
      "photoUrl": "https://lh3.googleusercontent.com/a/default-user=s128",
      "userId": "100742731921681718269"
     },
     "user_tz": 420
    },
    "id": "Up7ua8DpARI9",
    "outputId": "b9a9ce5a-9f59-4b7d-c0a0-31113c553cbb"
   },
   "outputs": [
    {
     "data": {
      "text/plain": [
       "False"
      ]
     },
     "execution_count": 38,
     "metadata": {},
     "output_type": "execute_result"
    }
   ],
   "source": [
    "fruit = 'banana'\n",
    "fruit in multi_fruit_dict['Ties']"
   ]
  },
  {
   "cell_type": "markdown",
   "metadata": {},
   "source": [
    "### Generate a list of all the people for which you have fruit data in `multi_fruit_dict`  \n",
    "Don't just create a list manually, generate the list based on `multi_fruit_dict`"
   ]
  },
  {
   "cell_type": "code",
   "execution_count": 39,
   "metadata": {},
   "outputs": [
    {
     "data": {
      "text/plain": [
       "['Philip', 'Ties']"
      ]
     },
     "execution_count": 39,
     "metadata": {},
     "output_type": "execute_result"
    }
   ],
   "source": [
    "people_list = list(multi_fruit_dict.keys())\n",
    "people_list"
   ]
  },
  {
   "cell_type": "markdown",
   "metadata": {
    "colab_type": "text",
    "id": "yvSUk4oG2yqA"
   },
   "source": [
    "## Step 3: understand how to create loops   \n",
    "----"
   ]
  },
  {
   "cell_type": "markdown",
   "metadata": {
    "colab_type": "text",
    "id": "JYhkQ3Pv20cO"
   },
   "source": [
    "### Create an empty list called `fruit_amount_list`, then loop over every key and value in `fruit_dict` and combine them into a string \"FRUIT_AMOUNT\" (like: \"apple_2\") and append this new string to `fruit_amount_list`"
   ]
  },
  {
   "cell_type": "code",
   "execution_count": 40,
   "metadata": {
    "colab": {
     "autoexec": {
      "startup": false,
      "wait_interval": 0
     }
    },
    "colab_type": "code",
    "id": "xgKDiOpn6Xb5"
   },
   "outputs": [],
   "source": [
    "fruit_amount_list = []\n",
    "for fruit, amount in fruit_dict.items():\n",
    "    fruit_amount_list.append('{}_{}'.format(fruit, amount))"
   ]
  },
  {
   "cell_type": "code",
   "execution_count": 41,
   "metadata": {
    "colab": {
     "autoexec": {
      "startup": false,
      "wait_interval": 0
     },
     "base_uri": "https://localhost:8080/",
     "height": 34
    },
    "colab_type": "code",
    "executionInfo": {
     "elapsed": 282,
     "status": "ok",
     "timestamp": 1529090946191,
     "user": {
      "displayName": "Ties de Kok",
      "photoUrl": "https://lh3.googleusercontent.com/a/default-user=s128",
      "userId": "100742731921681718269"
     },
     "user_tz": 420
    },
    "id": "lLx9CoNT7CcZ",
    "outputId": "7d0f597f-c8bd-4a85-da3f-61cea188f7da"
   },
   "outputs": [
    {
     "data": {
      "text/plain": [
       "['apple_4', 'orange_2', 'banana_1', 'pear_2']"
      ]
     },
     "execution_count": 41,
     "metadata": {},
     "output_type": "execute_result"
    }
   ],
   "source": [
    "fruit_amount_list"
   ]
  },
  {
   "cell_type": "markdown",
   "metadata": {
    "colab_type": "text",
    "id": "fLZArTaq7ry9"
   },
   "source": [
    "### Create a variable called `count` with value 0, then use a while loop that increase `count` with one every loop as long as `count` is smaller than 10."
   ]
  },
  {
   "cell_type": "code",
   "execution_count": 42,
   "metadata": {
    "colab": {
     "autoexec": {
      "startup": false,
      "wait_interval": 0
     },
     "base_uri": "https://localhost:8080/",
     "height": 34
    },
    "colab_type": "code",
    "executionInfo": {
     "elapsed": 288,
     "status": "ok",
     "timestamp": 1529091197006,
     "user": {
      "displayName": "Ties de Kok",
      "photoUrl": "https://lh3.googleusercontent.com/a/default-user=s128",
      "userId": "100742731921681718269"
     },
     "user_tz": 420
    },
    "id": "WTFPjH8c7sRz",
    "outputId": "add3a5b3-b3d4-40ee-fe08-26b4aa6f5a72"
   },
   "outputs": [
    {
     "name": "stdout",
     "output_type": "stream",
     "text": [
      "10\n"
     ]
    }
   ],
   "source": [
    "count = 0\n",
    "while count < 10:\n",
    "    count += 1\n",
    "print(count)"
   ]
  },
  {
   "cell_type": "markdown",
   "metadata": {},
   "source": [
    "### Loop over the provided list (`abc_list`) and print each letter. However, stop looping when the letter 'f' is printed:   \n",
    "`abc_list = ['a', 'b', 'c', 'd', 'e', 'f', 'g', 'h', 'i', 'j', 'k']`  "
   ]
  },
  {
   "cell_type": "code",
   "execution_count": 43,
   "metadata": {},
   "outputs": [
    {
     "name": "stdout",
     "output_type": "stream",
     "text": [
      "a\n",
      "b\n",
      "c\n",
      "d\n",
      "e\n",
      "f\n"
     ]
    }
   ],
   "source": [
    "abc_list = ['a', 'b', 'c', 'd', 'e', 'f', 'g', 'h', 'i', 'j', 'k']\n",
    "for letter in abc_list:\n",
    "    print(letter)\n",
    "    if letter == 'f':\n",
    "        break"
   ]
  },
  {
   "cell_type": "markdown",
   "metadata": {
    "colab_type": "text",
    "id": "B9oS04bh9ZQf"
   },
   "source": [
    "## Step 4: understand what a function is   \n",
    "----"
   ]
  },
  {
   "cell_type": "markdown",
   "metadata": {
    "colab_type": "text",
    "id": "Y2-CKUlg-HfL"
   },
   "source": [
    "### Create a function called `calculate_this` that takes `num_1` and `num_2` as input and also a third input called `method`. If the method argument is \"add\" then the function should add the numbers, if the argument is \"substract\" then it should substract the numbers. Define the function in a way that it defaults to add if no method is specified."
   ]
  },
  {
   "cell_type": "code",
   "execution_count": 44,
   "metadata": {
    "colab": {
     "autoexec": {
      "startup": false,
      "wait_interval": 0
     }
    },
    "colab_type": "code",
    "id": "Sj3kX2UK-HkO"
   },
   "outputs": [],
   "source": [
    "def calculate_this(num_1, num_2, method='add'):\n",
    "    if method == 'add':\n",
    "        return num_1 + num_2\n",
    "    elif method == 'substract':\n",
    "        return num_1 - num_2\n",
    "    else:\n",
    "        return \"Unknown Method\""
   ]
  },
  {
   "cell_type": "code",
   "execution_count": 45,
   "metadata": {
    "colab": {
     "autoexec": {
      "startup": false,
      "wait_interval": 0
     },
     "base_uri": "https://localhost:8080/",
     "height": 34
    },
    "colab_type": "code",
    "executionInfo": {
     "elapsed": 280,
     "status": "ok",
     "timestamp": 1529092213346,
     "user": {
      "displayName": "Ties de Kok",
      "photoUrl": "https://lh3.googleusercontent.com/a/default-user=s128",
      "userId": "100742731921681718269"
     },
     "user_tz": 420
    },
    "id": "YpG0xBQ3_15n",
    "outputId": "e3779973-29e3-4e09-c22d-7bcf92adfb26"
   },
   "outputs": [
    {
     "data": {
      "text/plain": [
       "110"
      ]
     },
     "execution_count": 45,
     "metadata": {},
     "output_type": "execute_result"
    }
   ],
   "source": [
    "calculate_this(100, 10)"
   ]
  },
  {
   "cell_type": "code",
   "execution_count": 46,
   "metadata": {
    "colab": {
     "autoexec": {
      "startup": false,
      "wait_interval": 0
     },
     "base_uri": "https://localhost:8080/",
     "height": 34
    },
    "colab_type": "code",
    "executionInfo": {
     "elapsed": 303,
     "status": "ok",
     "timestamp": 1529092210354,
     "user": {
      "displayName": "Ties de Kok",
      "photoUrl": "https://lh3.googleusercontent.com/a/default-user=s128",
      "userId": "100742731921681718269"
     },
     "user_tz": 420
    },
    "id": "68wvU_Em_2HX",
    "outputId": "cbf22f5a-9932-429a-8948-5c085e4bef07"
   },
   "outputs": [
    {
     "data": {
      "text/plain": [
       "90"
      ]
     },
     "execution_count": 46,
     "metadata": {},
     "output_type": "execute_result"
    }
   ],
   "source": [
    "calculate_this(100, 10, method='substract')"
   ]
  },
  {
   "cell_type": "markdown",
   "metadata": {
    "colab_type": "text",
    "id": "8bbZI1QxAFWd"
   },
   "source": [
    "## Step 5a: exceptions   \n",
    "---"
   ]
  },
  {
   "cell_type": "markdown",
   "metadata": {
    "colab_type": "text",
    "id": "XPXATofkBY5L"
   },
   "source": [
    "### Use `Try` and `Except` to try and remove a fruit that is not in `fruit_list`. If it throws the `ValueError` error, print \"This fruit is not in the list!\" otherwise print the error."
   ]
  },
  {
   "cell_type": "code",
   "execution_count": 47,
   "metadata": {
    "colab": {
     "autoexec": {
      "startup": false,
      "wait_interval": 0
     },
     "base_uri": "https://localhost:8080/",
     "height": 34
    },
    "colab_type": "code",
    "executionInfo": {
     "elapsed": 286,
     "status": "ok",
     "timestamp": 1529092701281,
     "user": {
      "displayName": "Ties de Kok",
      "photoUrl": "https://lh3.googleusercontent.com/a/default-user=s128",
      "userId": "100742731921681718269"
     },
     "user_tz": 420
    },
    "id": "mzElGpLqBZWI",
    "outputId": "9aa1fd6f-88e0-46e1-d837-08d32af637a6"
   },
   "outputs": [
    {
     "name": "stdout",
     "output_type": "stream",
     "text": [
      "This fruit is not in the list!\n"
     ]
    }
   ],
   "source": [
    "try:\n",
    "    fruit_list.remove('banana')\n",
    "except ValueError:\n",
    "    print('This fruit is not in the list!')\n",
    "except Exception as e:\n",
    "    print(e)"
   ]
  },
  {
   "cell_type": "markdown",
   "metadata": {},
   "source": [
    "## Step 5b: OS + file operation   \n",
    "---"
   ]
  },
  {
   "cell_type": "markdown",
   "metadata": {
    "colab_type": "text",
    "id": "tDycQPHOwm61"
   },
   "source": [
    "### Retrieve your current working directory and save the working directory path to a ''workingdir.txt\" file."
   ]
  },
  {
   "cell_type": "markdown",
   "metadata": {
    "colab_type": "text",
    "id": "8ET-s8G8wm62"
   },
   "source": [
    "You can save the file to the working directory."
   ]
  },
  {
   "cell_type": "code",
   "execution_count": 48,
   "metadata": {
    "colab": {
     "autoexec": {
      "startup": false,
      "wait_interval": 0
     }
    },
    "colab_type": "code",
    "id": "JX-LpawKwm63"
   },
   "outputs": [],
   "source": [
    "## Answer key note, I will save it to the pipeline folder to keep things organized on Github\n",
    "with open(os.path.join('pipeline', 'workingdir.txt'), 'w') as f:\n",
    "    f.write(os.getcwd())"
   ]
  },
  {
   "cell_type": "markdown",
   "metadata": {},
   "source": [
    "# Part 3: Extra Questions"
   ]
  },
  {
   "cell_type": "markdown",
   "metadata": {
    "colab_type": "text",
    "id": "AfTcuXvMCkxL"
   },
   "source": [
    "## Step 5c: comprehensions\n",
    "----"
   ]
  },
  {
   "cell_type": "markdown",
   "metadata": {
    "colab_type": "text",
    "id": "5GuJREveCy5_"
   },
   "source": [
    "### Loop over all numbers in `range(10)` and create a list of strings that follow this format: \"number_NUMBER\" (i.e. \"number_0\") using a list comprehension"
   ]
  },
  {
   "cell_type": "code",
   "execution_count": 49,
   "metadata": {
    "colab": {
     "autoexec": {
      "startup": false,
      "wait_interval": 0
     }
    },
    "colab_type": "code",
    "id": "RGaegVqHCzFU"
   },
   "outputs": [
    {
     "data": {
      "text/plain": [
       "['number_0',\n",
       " 'number_1',\n",
       " 'number_2',\n",
       " 'number_3',\n",
       " 'number_4',\n",
       " 'number_5',\n",
       " 'number_6',\n",
       " 'number_7',\n",
       " 'number_8',\n",
       " 'number_9']"
      ]
     },
     "execution_count": 49,
     "metadata": {},
     "output_type": "execute_result"
    }
   ],
   "source": [
    "['number_{}'.format(i) for i in range(10)]"
   ]
  },
  {
   "cell_type": "markdown",
   "metadata": {
    "colab_type": "text",
    "id": "JYhkQ3Pv20cO"
   },
   "source": [
    "### Repeat this task but now with a list comprehension: \n",
    "> Create an empty list called \"fruit_amount_list\", then loop over every key and value in `fruit_dict` and combine them into a string \"FRUIT_AMOUNT\" (like: \"apple_2\") and store this new string in \"fruit_amount_list\""
   ]
  },
  {
   "cell_type": "code",
   "execution_count": 50,
   "metadata": {},
   "outputs": [
    {
     "data": {
      "text/plain": [
       "['apple_4', 'orange_2', 'banana_1', 'pear_2']"
      ]
     },
     "execution_count": 50,
     "metadata": {},
     "output_type": "execute_result"
    }
   ],
   "source": [
    "fruit_amount_list = ['{}_{}'.format(fruit, amount) for fruit, amount in fruit_dict.items()]\n",
    "fruit_amount_list"
   ]
  },
  {
   "cell_type": "markdown",
   "metadata": {},
   "source": [
    "### Convert the provided list `count_list` into a dictionary. You want the key to be the name of the person and the value to be the number following the name.   \n",
    "**Hint:** you can split a string by calling `\"a_1\".split('_') --> ['a', '1']`   \n",
    "\n",
    "`count_list = ['ties_1', 'ed_4', 'philip_10', 'sarah_32', 'karen_0']`\n"
   ]
  },
  {
   "cell_type": "markdown",
   "metadata": {},
   "source": [
    "#### Using a regular loop:"
   ]
  },
  {
   "cell_type": "code",
   "execution_count": 51,
   "metadata": {},
   "outputs": [
    {
     "data": {
      "text/plain": [
       "{'ties': '1', 'ed': '4', 'philip': '10', 'sarah': '32', 'karen': '0'}"
      ]
     },
     "execution_count": 51,
     "metadata": {},
     "output_type": "execute_result"
    }
   ],
   "source": [
    "count_list = ['ties_1', 'ed_4', 'philip_10', 'sarah_32', 'karen_0']\n",
    "\n",
    "count_dict = {}\n",
    "for item in count_list:\n",
    "    tmp = item.split('_')\n",
    "    count_dict[tmp[0]] = tmp[1]\n",
    "count_dict"
   ]
  },
  {
   "cell_type": "markdown",
   "metadata": {},
   "source": [
    "#### using a dictionary comprehension:"
   ]
  },
  {
   "cell_type": "code",
   "execution_count": 52,
   "metadata": {},
   "outputs": [
    {
     "data": {
      "text/plain": [
       "{'ties': '1', 'ed': '4', 'philip': '10', 'sarah': '32', 'karen': '0'}"
      ]
     },
     "execution_count": 52,
     "metadata": {},
     "output_type": "execute_result"
    }
   ],
   "source": [
    "count_list = ['ties_1', 'ed_4', 'philip_10', 'sarah_32', 'karen_0']\n",
    "\n",
    "count_dict = {x.split('_')[0] : x.split('_')[1] for x in count_list}\n",
    "count_dict"
   ]
  }
 ],
 "metadata": {
  "colab": {
   "default_view": {},
   "name": "basic_python_tasks.ipynb",
   "provenance": [],
   "version": "0.3.2",
   "views": {}
  },
  "kernelspec": {
   "display_name": "Python 3 (ipykernel)",
   "language": "python",
   "name": "python3"
  },
  "language_info": {
   "codemirror_mode": {
    "name": "ipython",
    "version": 3
   },
   "file_extension": ".py",
   "mimetype": "text/x-python",
   "name": "python",
   "nbconvert_exporter": "python",
   "pygments_lexer": "ipython3",
   "version": "3.9.15"
  }
 },
 "nbformat": 4,
 "nbformat_minor": 4
}
